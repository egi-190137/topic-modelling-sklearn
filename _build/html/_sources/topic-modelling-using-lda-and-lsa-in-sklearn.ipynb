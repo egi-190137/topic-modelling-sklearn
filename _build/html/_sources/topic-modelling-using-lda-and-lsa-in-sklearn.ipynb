{
 "cells": [
  {
   "cell_type": "markdown",
   "metadata": {
    "_uuid": "9341bf79ac503efb2b0c19cae84b17b48c30e211"
   },
   "source": [
    "## Topic Modelling using Latent Semantic Analysis (LSA) and Latent Dirichlet Allocation (LDA) in sklearn"
   ]
  },
  {
   "cell_type": "markdown",
   "metadata": {
    "_uuid": "6a503c2851673a3d3ec1eb2c3d6c6e5566292af1"
   },
   "source": [
    "#### IMPORTING MODULES"
   ]
  },
  {
   "cell_type": "code",
   "execution_count": 41,
   "metadata": {
    "_uuid": "39f140e85d319161012fb67f258dd6b339545b0a",
    "id": "5O5_-2kTGD6V"
   },
   "outputs": [],
   "source": [
    "# data visualisation and manipulation\n",
    "import numpy as np\n",
    "import pandas as pd\n",
    "import matplotlib.pyplot as plt\n",
    "from matplotlib import style\n",
    "import seaborn as sns\n",
    "from Sastrawi.StopWordRemover.StopWordRemoverFactory import StopWordRemoverFactory\n",
    "\n",
    "#configure\n",
    "# sets matplotlib to inline and displays graphs below the corressponding cell.\n",
    "%matplotlib inline  \n",
    "style.use('fivethirtyeight')\n",
    "sns.set(style='whitegrid',color_codes=True)\n",
    "\n",
    "import re\n",
    "import string\n",
    "#import nltk\n",
    "# import nltk\n",
    "# from nltk.corpus import stopwords\n",
    "# from nltk.tokenize import word_tokenize,sent_tokenize\n",
    "\n",
    "# #preprocessing\n",
    "# from nltk.corpus import stopwords  #stopwords\n",
    "# from nltk import word_tokenize,sent_tokenize # tokenizing\n",
    "# from nltk.stem import PorterStemmer,LancasterStemmer  # using the Porter Stemmer and Lancaster Stemmer and others\n",
    "# from nltk.stem.snowball import SnowballStemmer\n",
    "# from nltk.stem import WordNetLemmatizer  # lammatizer from WordNet\n",
    "\n",
    "# # for named entity recognition (NER)\n",
    "# from nltk import ne_chunk\n",
    "\n",
    "# vectorizers for creating the document-term-matrix (DTM)\n",
    "from sklearn.feature_extraction.text import TfidfVectorizer,CountVectorizer\n",
    "\n",
    "#stop-words\n",
    "# stop_words=set(nltk.corpus.stopwords.words('english'))"
   ]
  },
  {
   "cell_type": "markdown",
   "metadata": {
    "_uuid": "a2b520342f1761de78285e76aa6327d9d37b1f4e"
   },
   "source": [
    "#### LOADING THE DATASET"
   ]
  },
  {
   "cell_type": "code",
   "execution_count": 78,
   "metadata": {
    "_uuid": "aad495ed355e99947bc3b9816cfad0ff430c17e5",
    "id": "xaPWCpthHVIS"
   },
   "outputs": [],
   "source": [
    "df=pd.read_csv('./dataset_PTA.csv')"
   ]
  },
  {
   "cell_type": "code",
   "execution_count": 79,
   "metadata": {
    "_uuid": "e09dd69ffa2bae1920f3e10b1af0a8ce0f8ae16d",
    "id": "Wwf4uKjTIYm2",
    "outputId": "9fac48b8-49af-44ff-f06b-d4b7440110b7"
   },
   "outputs": [
    {
     "data": {
      "text/html": [
       "<div>\n",
       "<style scoped>\n",
       "    .dataframe tbody tr th:only-of-type {\n",
       "        vertical-align: middle;\n",
       "    }\n",
       "\n",
       "    .dataframe tbody tr th {\n",
       "        vertical-align: top;\n",
       "    }\n",
       "\n",
       "    .dataframe thead th {\n",
       "        text-align: right;\n",
       "    }\n",
       "</style>\n",
       "<table border=\"1\" class=\"dataframe\">\n",
       "  <thead>\n",
       "    <tr style=\"text-align: right;\">\n",
       "      <th></th>\n",
       "      <th>judul</th>\n",
       "      <th>abstraksi</th>\n",
       "      <th>bidang minat</th>\n",
       "    </tr>\n",
       "  </thead>\n",
       "  <tbody>\n",
       "    <tr>\n",
       "      <th>0</th>\n",
       "      <td>Gerak Pekerja Pada Game Real Time Strategy Men...</td>\n",
       "      <td>Gerak pekerja ada pada game yang memiliki genr...</td>\n",
       "      <td>CAI</td>\n",
       "    </tr>\n",
       "    <tr>\n",
       "      <th>1</th>\n",
       "      <td>PEMANFAATAN TOGAF ADM UNTUK PERANCANGAN SISTEM...</td>\n",
       "      <td>Penyusunan Sistem Informasi Dinas Perindustria...</td>\n",
       "      <td>RPL</td>\n",
       "    </tr>\n",
       "    <tr>\n",
       "      <th>2</th>\n",
       "      <td>RANCANG BANGUN MANAJEMEN PEMBELAJARAN DAN TES ...</td>\n",
       "      <td>Penggunaan teknologi mobile saat ini sangat ma...</td>\n",
       "      <td>RPL</td>\n",
       "    </tr>\n",
       "    <tr>\n",
       "      <th>3</th>\n",
       "      <td>SISTEM PENDUKUNG KEPUTUSAN PEMILIHAN KARYAWAN ...</td>\n",
       "      <td>Sumber daya manusia mutlak dibutuhkan untuk ke...</td>\n",
       "      <td>CAI</td>\n",
       "    </tr>\n",
       "    <tr>\n",
       "      <th>4</th>\n",
       "      <td>SISTEM PENENTUAN STATUS GIZI PASIEN RAWAT INAP...</td>\n",
       "      <td>Di Indonesia masalah perkembangan gizi adalah ...</td>\n",
       "      <td>CAI</td>\n",
       "    </tr>\n",
       "  </tbody>\n",
       "</table>\n",
       "</div>"
      ],
      "text/plain": [
       "                                               judul  \\\n",
       "0  Gerak Pekerja Pada Game Real Time Strategy Men...   \n",
       "1  PEMANFAATAN TOGAF ADM UNTUK PERANCANGAN SISTEM...   \n",
       "2  RANCANG BANGUN MANAJEMEN PEMBELAJARAN DAN TES ...   \n",
       "3  SISTEM PENDUKUNG KEPUTUSAN PEMILIHAN KARYAWAN ...   \n",
       "4  SISTEM PENENTUAN STATUS GIZI PASIEN RAWAT INAP...   \n",
       "\n",
       "                                           abstraksi bidang minat  \n",
       "0  Gerak pekerja ada pada game yang memiliki genr...          CAI  \n",
       "1  Penyusunan Sistem Informasi Dinas Perindustria...          RPL  \n",
       "2  Penggunaan teknologi mobile saat ini sangat ma...          RPL  \n",
       "3  Sumber daya manusia mutlak dibutuhkan untuk ke...          CAI  \n",
       "4  Di Indonesia masalah perkembangan gizi adalah ...          CAI  "
      ]
     },
     "execution_count": 79,
     "metadata": {},
     "output_type": "execute_result"
    }
   ],
   "source": [
    "df.head()"
   ]
  },
  {
   "cell_type": "markdown",
   "metadata": {
    "_uuid": "ece312ea148c498c5584e83f6a36fce2dc236198"
   },
   "source": [
    "We will drop the **'publish_date'** column as it is useless for our discussion."
   ]
  },
  {
   "cell_type": "code",
   "execution_count": 81,
   "metadata": {
    "_uuid": "2a6df530624e3b9c3cfb43659ba9c0f67e2aa1d4",
    "id": "wiuusKeEIr_o"
   },
   "outputs": [],
   "source": [
    "# drop the publish date.\n",
    "# df.drop(['Abstraksi', 'Bidang Minat'],axis=1,inplace=True)\n",
    "df = df[['judul']]"
   ]
  },
  {
   "cell_type": "code",
   "execution_count": 83,
   "metadata": {
    "_uuid": "bd907b93c352fce35e8e6a886c01e9cf344ce455",
    "id": "FxegmHWtI3eJ",
    "outputId": "d0d3d76b-982e-422a-cdab-e05dfa72c536"
   },
   "outputs": [
    {
     "data": {
      "text/html": [
       "<div>\n",
       "<style scoped>\n",
       "    .dataframe tbody tr th:only-of-type {\n",
       "        vertical-align: middle;\n",
       "    }\n",
       "\n",
       "    .dataframe tbody tr th {\n",
       "        vertical-align: top;\n",
       "    }\n",
       "\n",
       "    .dataframe thead th {\n",
       "        text-align: right;\n",
       "    }\n",
       "</style>\n",
       "<table border=\"1\" class=\"dataframe\">\n",
       "  <thead>\n",
       "    <tr style=\"text-align: right;\">\n",
       "      <th></th>\n",
       "      <th>judul</th>\n",
       "    </tr>\n",
       "  </thead>\n",
       "  <tbody>\n",
       "    <tr>\n",
       "      <th>0</th>\n",
       "      <td>Gerak Pekerja Pada Game Real Time Strategy Men...</td>\n",
       "    </tr>\n",
       "    <tr>\n",
       "      <th>1</th>\n",
       "      <td>PEMANFAATAN TOGAF ADM UNTUK PERANCANGAN SISTEM...</td>\n",
       "    </tr>\n",
       "    <tr>\n",
       "      <th>2</th>\n",
       "      <td>RANCANG BANGUN MANAJEMEN PEMBELAJARAN DAN TES ...</td>\n",
       "    </tr>\n",
       "    <tr>\n",
       "      <th>3</th>\n",
       "      <td>SISTEM PENDUKUNG KEPUTUSAN PEMILIHAN KARYAWAN ...</td>\n",
       "    </tr>\n",
       "    <tr>\n",
       "      <th>4</th>\n",
       "      <td>SISTEM PENENTUAN STATUS GIZI PASIEN RAWAT INAP...</td>\n",
       "    </tr>\n",
       "  </tbody>\n",
       "</table>\n",
       "</div>"
      ],
      "text/plain": [
       "                                               judul\n",
       "0  Gerak Pekerja Pada Game Real Time Strategy Men...\n",
       "1  PEMANFAATAN TOGAF ADM UNTUK PERANCANGAN SISTEM...\n",
       "2  RANCANG BANGUN MANAJEMEN PEMBELAJARAN DAN TES ...\n",
       "3  SISTEM PENDUKUNG KEPUTUSAN PEMILIHAN KARYAWAN ...\n",
       "4  SISTEM PENENTUAN STATUS GIZI PASIEN RAWAT INAP..."
      ]
     },
     "execution_count": 83,
     "metadata": {},
     "output_type": "execute_result"
    }
   ],
   "source": [
    "df.head()"
   ]
  },
  {
   "cell_type": "markdown",
   "metadata": {
    "_uuid": "2043c3fc7cb55f29282da53bf8ce8315aec19556"
   },
   "source": [
    "#### DATA CLEANING & PRE-PROCESSING"
   ]
  },
  {
   "cell_type": "markdown",
   "metadata": {
    "_uuid": "dbd9e74a45cef82d83251327066f919c2a7ee08b"
   },
   "source": [
    "Here I have done the data pre-processing. I have used the lemmatizer and can also use the stemmer. Also the stop words have been used along with the words wit lenght shorter than 3 characters to reduce some stray words."
   ]
  },
  {
   "cell_type": "code",
   "execution_count": 31,
   "metadata": {},
   "outputs": [],
   "source": [
    "factory = StopWordRemoverFactory()\n",
    "stopword = factory.create_stop_word_remover()"
   ]
  },
  {
   "cell_type": "code",
   "execution_count": 32,
   "metadata": {
    "_uuid": "c01abf16fc6c3b72873a40246d88f4f2d84af6a6",
    "id": "10MF-YmnI7vp"
   },
   "outputs": [],
   "source": [
    "def clean_text(text):\n",
    "  # Mengubah teks menjadi lowercase\n",
    "  cleaned_text = text.lower()\n",
    "  # Menghapus angka\n",
    "  cleaned_text = re.sub(r\"\\d+\", \"\", cleaned_text)\n",
    "  # Menghapus white space\n",
    "  cleaned_text = cleaned_text.strip()\n",
    "  # Menghapus tanda baca\n",
    "  cleaned_text = cleaned_text.translate(str.maketrans(\"\",\"\",string.punctuation))\n",
    "  # Hapus stopword\n",
    "  cleaned_text = stopword.remove(cleaned_text)\n",
    "  return cleaned_text\n",
    "  "
   ]
  },
  {
   "cell_type": "code",
   "execution_count": 33,
   "metadata": {
    "_uuid": "0249f1e9dc0d448aa55778d88b17380cbb099b27",
    "id": "J9cX-1YxSisp"
   },
   "outputs": [],
   "source": [
    "# time taking\n",
    "df['cleaned_judul'] = df['judul'].apply(clean_text)"
   ]
  },
  {
   "cell_type": "code",
   "execution_count": 34,
   "metadata": {
    "_uuid": "c81efcbf76b11b4a08c18e4ce6147fa35bfd2348",
    "id": "Qw6e2o8SSzi2",
    "outputId": "094e30b3-de43-476c-c27c-8c992216c3f2"
   },
   "outputs": [
    {
     "data": {
      "text/html": [
       "<div>\n",
       "<style scoped>\n",
       "    .dataframe tbody tr th:only-of-type {\n",
       "        vertical-align: middle;\n",
       "    }\n",
       "\n",
       "    .dataframe tbody tr th {\n",
       "        vertical-align: top;\n",
       "    }\n",
       "\n",
       "    .dataframe thead th {\n",
       "        text-align: right;\n",
       "    }\n",
       "</style>\n",
       "<table border=\"1\" class=\"dataframe\">\n",
       "  <thead>\n",
       "    <tr style=\"text-align: right;\">\n",
       "      <th></th>\n",
       "      <th>judul</th>\n",
       "      <th>cleaned_judul</th>\n",
       "    </tr>\n",
       "  </thead>\n",
       "  <tbody>\n",
       "    <tr>\n",
       "      <th>0</th>\n",
       "      <td>Gerak Pekerja Pada Game Real Time Strategy Men...</td>\n",
       "      <td>gerak pekerja game real time strategy finite s...</td>\n",
       "    </tr>\n",
       "    <tr>\n",
       "      <th>1</th>\n",
       "      <td>PEMANFAATAN TOGAF ADM UNTUK PERANCANGAN SISTEM...</td>\n",
       "      <td>pemanfaatan togaf adm perancangan sistem infor...</td>\n",
       "    </tr>\n",
       "    <tr>\n",
       "      <th>2</th>\n",
       "      <td>RANCANG BANGUN MANAJEMEN PEMBELAJARAN DAN TES ...</td>\n",
       "      <td>rancang bangun manajemen pembelajaran tes toef...</td>\n",
       "    </tr>\n",
       "    <tr>\n",
       "      <th>3</th>\n",
       "      <td>SISTEM PENDUKUNG KEPUTUSAN PEMILIHAN KARYAWAN ...</td>\n",
       "      <td>sistem pendukung keputusan pemilihan karyawan ...</td>\n",
       "    </tr>\n",
       "    <tr>\n",
       "      <th>4</th>\n",
       "      <td>SISTEM PENENTUAN STATUS GIZI PASIEN RAWAT INAP...</td>\n",
       "      <td>sistem penentuan status gizi pasien rawat inap...</td>\n",
       "    </tr>\n",
       "  </tbody>\n",
       "</table>\n",
       "</div>"
      ],
      "text/plain": [
       "                                               judul  \\\n",
       "0  Gerak Pekerja Pada Game Real Time Strategy Men...   \n",
       "1  PEMANFAATAN TOGAF ADM UNTUK PERANCANGAN SISTEM...   \n",
       "2  RANCANG BANGUN MANAJEMEN PEMBELAJARAN DAN TES ...   \n",
       "3  SISTEM PENDUKUNG KEPUTUSAN PEMILIHAN KARYAWAN ...   \n",
       "4  SISTEM PENENTUAN STATUS GIZI PASIEN RAWAT INAP...   \n",
       "\n",
       "                                       cleaned_judul  \n",
       "0  gerak pekerja game real time strategy finite s...  \n",
       "1  pemanfaatan togaf adm perancangan sistem infor...  \n",
       "2  rancang bangun manajemen pembelajaran tes toef...  \n",
       "3  sistem pendukung keputusan pemilihan karyawan ...  \n",
       "4  sistem penentuan status gizi pasien rawat inap...  "
      ]
     },
     "execution_count": 34,
     "metadata": {},
     "output_type": "execute_result"
    }
   ],
   "source": [
    "df.head()"
   ]
  },
  {
   "cell_type": "markdown",
   "metadata": {
    "_uuid": "79d7fa2c195ec7a4b5410885cea4dbc7e58db316",
    "id": "Wuos0NVsVJFg"
   },
   "source": [
    "Can see the difference after removal of stopwords and some shorter words. aslo the words have been lemmatized as in **'calls'--->'call'.**"
   ]
  },
  {
   "cell_type": "markdown",
   "metadata": {
    "_uuid": "c46d3085571e5bd3224bfb6a51164816a5e2a613",
    "id": "RDqxfd7VVhJx"
   },
   "source": [
    "Now drop the unpre-processed column."
   ]
  },
  {
   "cell_type": "code",
   "execution_count": 37,
   "metadata": {
    "_uuid": "64cc5de96668ec6e6f37cefb31c349f35ff81771",
    "id": "PTkgClkxV7MP"
   },
   "outputs": [
    {
     "ename": "KeyError",
     "evalue": "\"['judul'] not found in axis\"",
     "output_type": "error",
     "traceback": [
      "\u001b[0;31m---------------------------------------------------------------------------\u001b[0m",
      "\u001b[0;31mKeyError\u001b[0m                                  Traceback (most recent call last)",
      "\u001b[0;32m/tmp/ipykernel_6598/625837062.py\u001b[0m in \u001b[0;36m<module>\u001b[0;34m\u001b[0m\n\u001b[0;32m----> 1\u001b[0;31m \u001b[0mdf\u001b[0m\u001b[0;34m.\u001b[0m\u001b[0mdrop\u001b[0m\u001b[0;34m(\u001b[0m\u001b[0;34m[\u001b[0m\u001b[0;34m'judul'\u001b[0m\u001b[0;34m]\u001b[0m\u001b[0;34m,\u001b[0m\u001b[0maxis\u001b[0m\u001b[0;34m=\u001b[0m\u001b[0;36m1\u001b[0m\u001b[0;34m,\u001b[0m\u001b[0minplace\u001b[0m\u001b[0;34m=\u001b[0m\u001b[0;32mTrue\u001b[0m\u001b[0;34m)\u001b[0m\u001b[0;34m\u001b[0m\u001b[0;34m\u001b[0m\u001b[0m\n\u001b[0m",
      "\u001b[0;32m~/.local/lib/python3.8/site-packages/pandas/util/_decorators.py\u001b[0m in \u001b[0;36mwrapper\u001b[0;34m(*args, **kwargs)\u001b[0m\n\u001b[1;32m    309\u001b[0m                     \u001b[0mstacklevel\u001b[0m\u001b[0;34m=\u001b[0m\u001b[0mstacklevel\u001b[0m\u001b[0;34m,\u001b[0m\u001b[0;34m\u001b[0m\u001b[0;34m\u001b[0m\u001b[0m\n\u001b[1;32m    310\u001b[0m                 )\n\u001b[0;32m--> 311\u001b[0;31m             \u001b[0;32mreturn\u001b[0m \u001b[0mfunc\u001b[0m\u001b[0;34m(\u001b[0m\u001b[0;34m*\u001b[0m\u001b[0margs\u001b[0m\u001b[0;34m,\u001b[0m \u001b[0;34m**\u001b[0m\u001b[0mkwargs\u001b[0m\u001b[0;34m)\u001b[0m\u001b[0;34m\u001b[0m\u001b[0;34m\u001b[0m\u001b[0m\n\u001b[0m\u001b[1;32m    312\u001b[0m \u001b[0;34m\u001b[0m\u001b[0m\n\u001b[1;32m    313\u001b[0m         \u001b[0;32mreturn\u001b[0m \u001b[0mwrapper\u001b[0m\u001b[0;34m\u001b[0m\u001b[0;34m\u001b[0m\u001b[0m\n",
      "\u001b[0;32m~/.local/lib/python3.8/site-packages/pandas/core/frame.py\u001b[0m in \u001b[0;36mdrop\u001b[0;34m(self, labels, axis, index, columns, level, inplace, errors)\u001b[0m\n\u001b[1;32m   4946\u001b[0m                 \u001b[0mweight\u001b[0m  \u001b[0;36m1.0\u001b[0m     \u001b[0;36m0.8\u001b[0m\u001b[0;34m\u001b[0m\u001b[0;34m\u001b[0m\u001b[0m\n\u001b[1;32m   4947\u001b[0m         \"\"\"\n\u001b[0;32m-> 4948\u001b[0;31m         return super().drop(\n\u001b[0m\u001b[1;32m   4949\u001b[0m             \u001b[0mlabels\u001b[0m\u001b[0;34m=\u001b[0m\u001b[0mlabels\u001b[0m\u001b[0;34m,\u001b[0m\u001b[0;34m\u001b[0m\u001b[0;34m\u001b[0m\u001b[0m\n\u001b[1;32m   4950\u001b[0m             \u001b[0maxis\u001b[0m\u001b[0;34m=\u001b[0m\u001b[0maxis\u001b[0m\u001b[0;34m,\u001b[0m\u001b[0;34m\u001b[0m\u001b[0;34m\u001b[0m\u001b[0m\n",
      "\u001b[0;32m~/.local/lib/python3.8/site-packages/pandas/core/generic.py\u001b[0m in \u001b[0;36mdrop\u001b[0;34m(self, labels, axis, index, columns, level, inplace, errors)\u001b[0m\n\u001b[1;32m   4277\u001b[0m         \u001b[0;32mfor\u001b[0m \u001b[0maxis\u001b[0m\u001b[0;34m,\u001b[0m \u001b[0mlabels\u001b[0m \u001b[0;32min\u001b[0m \u001b[0maxes\u001b[0m\u001b[0;34m.\u001b[0m\u001b[0mitems\u001b[0m\u001b[0;34m(\u001b[0m\u001b[0;34m)\u001b[0m\u001b[0;34m:\u001b[0m\u001b[0;34m\u001b[0m\u001b[0;34m\u001b[0m\u001b[0m\n\u001b[1;32m   4278\u001b[0m             \u001b[0;32mif\u001b[0m \u001b[0mlabels\u001b[0m \u001b[0;32mis\u001b[0m \u001b[0;32mnot\u001b[0m \u001b[0;32mNone\u001b[0m\u001b[0;34m:\u001b[0m\u001b[0;34m\u001b[0m\u001b[0;34m\u001b[0m\u001b[0m\n\u001b[0;32m-> 4279\u001b[0;31m                 \u001b[0mobj\u001b[0m \u001b[0;34m=\u001b[0m \u001b[0mobj\u001b[0m\u001b[0;34m.\u001b[0m\u001b[0m_drop_axis\u001b[0m\u001b[0;34m(\u001b[0m\u001b[0mlabels\u001b[0m\u001b[0;34m,\u001b[0m \u001b[0maxis\u001b[0m\u001b[0;34m,\u001b[0m \u001b[0mlevel\u001b[0m\u001b[0;34m=\u001b[0m\u001b[0mlevel\u001b[0m\u001b[0;34m,\u001b[0m \u001b[0merrors\u001b[0m\u001b[0;34m=\u001b[0m\u001b[0merrors\u001b[0m\u001b[0;34m)\u001b[0m\u001b[0;34m\u001b[0m\u001b[0;34m\u001b[0m\u001b[0m\n\u001b[0m\u001b[1;32m   4280\u001b[0m \u001b[0;34m\u001b[0m\u001b[0m\n\u001b[1;32m   4281\u001b[0m         \u001b[0;32mif\u001b[0m \u001b[0minplace\u001b[0m\u001b[0;34m:\u001b[0m\u001b[0;34m\u001b[0m\u001b[0;34m\u001b[0m\u001b[0m\n",
      "\u001b[0;32m~/.local/lib/python3.8/site-packages/pandas/core/generic.py\u001b[0m in \u001b[0;36m_drop_axis\u001b[0;34m(self, labels, axis, level, errors, consolidate, only_slice)\u001b[0m\n\u001b[1;32m   4321\u001b[0m                 \u001b[0mnew_axis\u001b[0m \u001b[0;34m=\u001b[0m \u001b[0maxis\u001b[0m\u001b[0;34m.\u001b[0m\u001b[0mdrop\u001b[0m\u001b[0;34m(\u001b[0m\u001b[0mlabels\u001b[0m\u001b[0;34m,\u001b[0m \u001b[0mlevel\u001b[0m\u001b[0;34m=\u001b[0m\u001b[0mlevel\u001b[0m\u001b[0;34m,\u001b[0m \u001b[0merrors\u001b[0m\u001b[0;34m=\u001b[0m\u001b[0merrors\u001b[0m\u001b[0;34m)\u001b[0m\u001b[0;34m\u001b[0m\u001b[0;34m\u001b[0m\u001b[0m\n\u001b[1;32m   4322\u001b[0m             \u001b[0;32melse\u001b[0m\u001b[0;34m:\u001b[0m\u001b[0;34m\u001b[0m\u001b[0;34m\u001b[0m\u001b[0m\n\u001b[0;32m-> 4323\u001b[0;31m                 \u001b[0mnew_axis\u001b[0m \u001b[0;34m=\u001b[0m \u001b[0maxis\u001b[0m\u001b[0;34m.\u001b[0m\u001b[0mdrop\u001b[0m\u001b[0;34m(\u001b[0m\u001b[0mlabels\u001b[0m\u001b[0;34m,\u001b[0m \u001b[0merrors\u001b[0m\u001b[0;34m=\u001b[0m\u001b[0merrors\u001b[0m\u001b[0;34m)\u001b[0m\u001b[0;34m\u001b[0m\u001b[0;34m\u001b[0m\u001b[0m\n\u001b[0m\u001b[1;32m   4324\u001b[0m             \u001b[0mindexer\u001b[0m \u001b[0;34m=\u001b[0m \u001b[0maxis\u001b[0m\u001b[0;34m.\u001b[0m\u001b[0mget_indexer\u001b[0m\u001b[0;34m(\u001b[0m\u001b[0mnew_axis\u001b[0m\u001b[0;34m)\u001b[0m\u001b[0;34m\u001b[0m\u001b[0;34m\u001b[0m\u001b[0m\n\u001b[1;32m   4325\u001b[0m \u001b[0;34m\u001b[0m\u001b[0m\n",
      "\u001b[0;32m~/.local/lib/python3.8/site-packages/pandas/core/indexes/base.py\u001b[0m in \u001b[0;36mdrop\u001b[0;34m(self, labels, errors)\u001b[0m\n\u001b[1;32m   6642\u001b[0m         \u001b[0;32mif\u001b[0m \u001b[0mmask\u001b[0m\u001b[0;34m.\u001b[0m\u001b[0many\u001b[0m\u001b[0;34m(\u001b[0m\u001b[0;34m)\u001b[0m\u001b[0;34m:\u001b[0m\u001b[0;34m\u001b[0m\u001b[0;34m\u001b[0m\u001b[0m\n\u001b[1;32m   6643\u001b[0m             \u001b[0;32mif\u001b[0m \u001b[0merrors\u001b[0m \u001b[0;34m!=\u001b[0m \u001b[0;34m\"ignore\"\u001b[0m\u001b[0;34m:\u001b[0m\u001b[0;34m\u001b[0m\u001b[0;34m\u001b[0m\u001b[0m\n\u001b[0;32m-> 6644\u001b[0;31m                 \u001b[0;32mraise\u001b[0m \u001b[0mKeyError\u001b[0m\u001b[0;34m(\u001b[0m\u001b[0;34mf\"{list(labels[mask])} not found in axis\"\u001b[0m\u001b[0;34m)\u001b[0m\u001b[0;34m\u001b[0m\u001b[0;34m\u001b[0m\u001b[0m\n\u001b[0m\u001b[1;32m   6645\u001b[0m             \u001b[0mindexer\u001b[0m \u001b[0;34m=\u001b[0m \u001b[0mindexer\u001b[0m\u001b[0;34m[\u001b[0m\u001b[0;34m~\u001b[0m\u001b[0mmask\u001b[0m\u001b[0;34m]\u001b[0m\u001b[0;34m\u001b[0m\u001b[0;34m\u001b[0m\u001b[0m\n\u001b[1;32m   6646\u001b[0m         \u001b[0;32mreturn\u001b[0m \u001b[0mself\u001b[0m\u001b[0;34m.\u001b[0m\u001b[0mdelete\u001b[0m\u001b[0;34m(\u001b[0m\u001b[0mindexer\u001b[0m\u001b[0;34m)\u001b[0m\u001b[0;34m\u001b[0m\u001b[0;34m\u001b[0m\u001b[0m\n",
      "\u001b[0;31mKeyError\u001b[0m: \"['judul'] not found in axis\""
     ]
    }
   ],
   "source": [
    "df.drop(['judul'],axis=1,inplace=True)"
   ]
  },
  {
   "cell_type": "code",
   "execution_count": 38,
   "metadata": {
    "_uuid": "dc01093ea4f6bd35e492e5136bec2ef90f8a1bf5",
    "id": "PHPX62iRV_ux",
    "outputId": "729f2f07-09c5-477b-fcfd-72a166982d35"
   },
   "outputs": [
    {
     "data": {
      "text/html": [
       "<div>\n",
       "<style scoped>\n",
       "    .dataframe tbody tr th:only-of-type {\n",
       "        vertical-align: middle;\n",
       "    }\n",
       "\n",
       "    .dataframe tbody tr th {\n",
       "        vertical-align: top;\n",
       "    }\n",
       "\n",
       "    .dataframe thead th {\n",
       "        text-align: right;\n",
       "    }\n",
       "</style>\n",
       "<table border=\"1\" class=\"dataframe\">\n",
       "  <thead>\n",
       "    <tr style=\"text-align: right;\">\n",
       "      <th></th>\n",
       "      <th>cleaned_judul</th>\n",
       "    </tr>\n",
       "  </thead>\n",
       "  <tbody>\n",
       "    <tr>\n",
       "      <th>0</th>\n",
       "      <td>gerak pekerja game real time strategy finite s...</td>\n",
       "    </tr>\n",
       "    <tr>\n",
       "      <th>1</th>\n",
       "      <td>pemanfaatan togaf adm perancangan sistem infor...</td>\n",
       "    </tr>\n",
       "    <tr>\n",
       "      <th>2</th>\n",
       "      <td>rancang bangun manajemen pembelajaran tes toef...</td>\n",
       "    </tr>\n",
       "    <tr>\n",
       "      <th>3</th>\n",
       "      <td>sistem pendukung keputusan pemilihan karyawan ...</td>\n",
       "    </tr>\n",
       "    <tr>\n",
       "      <th>4</th>\n",
       "      <td>sistem penentuan status gizi pasien rawat inap...</td>\n",
       "    </tr>\n",
       "  </tbody>\n",
       "</table>\n",
       "</div>"
      ],
      "text/plain": [
       "                                       cleaned_judul\n",
       "0  gerak pekerja game real time strategy finite s...\n",
       "1  pemanfaatan togaf adm perancangan sistem infor...\n",
       "2  rancang bangun manajemen pembelajaran tes toef...\n",
       "3  sistem pendukung keputusan pemilihan karyawan ...\n",
       "4  sistem penentuan status gizi pasien rawat inap..."
      ]
     },
     "execution_count": 38,
     "metadata": {},
     "output_type": "execute_result"
    }
   ],
   "source": [
    "df.head()"
   ]
  },
  {
   "cell_type": "markdown",
   "metadata": {
    "_uuid": "ac1c4d306d9c1ea25c1b28250b386a8d8fde4134"
   },
   "source": [
    "We can also see any particular news headline."
   ]
  },
  {
   "cell_type": "code",
   "execution_count": 40,
   "metadata": {
    "_uuid": "219d5fa37fbffff1c1acdeb46722a40cee1842a2",
    "id": "zlVvCr7qWkqA",
    "outputId": "9eb1561b-ef0b-4a00-bea3-5122c407bc9e"
   },
   "outputs": [
    {
     "data": {
      "text/plain": [
       "'gerak pekerja game real time strategy finite state machine'"
      ]
     },
     "execution_count": 40,
     "metadata": {},
     "output_type": "execute_result"
    }
   ],
   "source": [
    "df['cleaned_judul'][0]"
   ]
  },
  {
   "cell_type": "markdown",
   "metadata": {
    "_uuid": "d36edc03b2cc88ef61651cd6c9deb470817e64df",
    "id": "yQZpp5YMXPkb"
   },
   "source": [
    "#### EXTRACTING THE FEATURES AND CREATING THE DOCUMENT-TERM-MATRIX ( DTM )\n",
    "\n",
    "In DTM the values are the TFidf values.\n",
    "\n",
    "Also I have specified some parameters of the Tfidf vectorizer.\n",
    "\n",
    "Some important points:-\n",
    "\n",
    "**1) LSA is generally implemented with Tfidf values everywhere and not with the Count Vectorizer.**\n",
    "\n",
    "**2) max_features depends on your computing power and also on eval. metric (coherence score is a metric for topic model). Try the value that gives best eval. metric and doesn't limits processing power.**\n",
    "\n",
    "**3) Default values for min_df & max_df worked well.**\n",
    "\n",
    "**4) Can try different values for ngram_range.**"
   ]
  },
  {
   "cell_type": "code",
   "execution_count": 42,
   "metadata": {
    "_uuid": "d3998f5b7d7eaed5d18d08830d2ba9ba8dd7fcd6",
    "id": "UUxESGqhXX07"
   },
   "outputs": [
    {
     "ename": "NameError",
     "evalue": "name 'stop_words' is not defined",
     "output_type": "error",
     "traceback": [
      "\u001b[0;31m---------------------------------------------------------------------------\u001b[0m",
      "\u001b[0;31mNameError\u001b[0m                                 Traceback (most recent call last)",
      "\u001b[0;32m/tmp/ipykernel_6598/685002276.py\u001b[0m in \u001b[0;36m<module>\u001b[0;34m\u001b[0m\n\u001b[0;32m----> 1\u001b[0;31m \u001b[0mvect\u001b[0m \u001b[0;34m=\u001b[0m\u001b[0mTfidfVectorizer\u001b[0m\u001b[0;34m(\u001b[0m\u001b[0mstop_words\u001b[0m\u001b[0;34m=\u001b[0m\u001b[0mstop_words\u001b[0m\u001b[0;34m,\u001b[0m\u001b[0mmax_features\u001b[0m\u001b[0;34m=\u001b[0m\u001b[0;36m1000\u001b[0m\u001b[0;34m)\u001b[0m \u001b[0;31m# to play with. min_df,max_df,max_features etc...\u001b[0m\u001b[0;34m\u001b[0m\u001b[0;34m\u001b[0m\u001b[0m\n\u001b[0m",
      "\u001b[0;31mNameError\u001b[0m: name 'stop_words' is not defined"
     ]
    }
   ],
   "source": [
    "vect =TfidfVectorizer(stop_words=stop_words,max_features=1000) # to play with. min_df,max_df,max_features etc..."
   ]
  },
  {
   "cell_type": "code",
   "execution_count": 59,
   "metadata": {
    "_uuid": "d3998f5b7d7eaed5d18d08830d2ba9ba8dd7fcd6",
    "id": "UUxESGqhXX07"
   },
   "outputs": [],
   "source": [
    "vect =TfidfVectorizer() # to play with. min_df,max_df,max_features etc...\n"
   ]
  },
  {
   "cell_type": "code",
   "execution_count": 60,
   "metadata": {
    "_uuid": "00cdefa5281e43ed4cd28af256490cf3cf4dbaf2",
    "id": "z0CezNO4aUoh"
   },
   "outputs": [],
   "source": [
    "vect_text=vect.fit_transform(df['cleaned_judul'])"
   ]
  },
  {
   "cell_type": "code",
   "execution_count": 61,
   "metadata": {
    "_uuid": "1fda68dd69c429fff879d660aa0ec7dccec18a64"
   },
   "outputs": [
    {
     "data": {
      "text/plain": [
       "(358,)"
      ]
     },
     "execution_count": 61,
     "metadata": {},
     "output_type": "execute_result"
    }
   ],
   "source": [
    "vect.get_feature_names_out().shape"
   ]
  },
  {
   "cell_type": "markdown",
   "metadata": {
    "_uuid": "bb0975cb5ba0e82f9e14eba53bd466c26b892a7e"
   },
   "source": [
    "#### We can now see the most frequent and rare words in the news headlines based on idf score. The lesser the value; more common is the word in the news headlines."
   ]
  },
  {
   "cell_type": "code",
   "execution_count": 62,
   "metadata": {
    "_uuid": "a75bc1a06e66fa4c8615822f703487424761570b",
    "id": "5G-Zt5lUsUjx",
    "outputId": "c2e32ea6-5c47-4668-df93-c7ff8f54fb31"
   },
   "outputs": [
    {
     "name": "stdout",
     "output_type": "stream",
     "text": [
      "(60, 358)\n",
      "  (0, 177)\t0.3417036042362773\n",
      "  (0, 313)\t0.3417036042362773\n",
      "  (0, 95)\t0.3417036042362773\n",
      "  (0, 316)\t0.3417036042362773\n",
      "  (0, 330)\t0.3417036042362773\n",
      "  (0, 282)\t0.3417036042362773\n",
      "  (0, 102)\t0.256727822441395\n",
      "  (0, 229)\t0.3417036042362773\n",
      "  (0, 105)\t0.3417036042362773\n",
      "  (1, 32)\t0.20641969178358682\n",
      "  (1, 134)\t0.22600886231744027\n",
      "  (1, 79)\t0.30081680321516097\n",
      "  (1, 25)\t0.30081680321516097\n",
      "  (1, 318)\t0.30081680321516097\n",
      "  (1, 261)\t0.27320741803322734\n",
      "  (1, 262)\t0.30081680321516097\n",
      "  (1, 70)\t0.27320741803322734\n",
      "  (1, 125)\t0.16361576547863482\n",
      "  (1, 302)\t0.23283441952569553\n",
      "  (1, 258)\t0.20641969178358682\n",
      "  (1, 4)\t0.30081680321516097\n",
      "  (1, 334)\t0.30081680321516097\n",
      "  (1, 230)\t0.30081680321516097\n",
      "  (2, 208)\t0.38434938308633926\n",
      "  (2, 40)\t0.21826715333323735\n",
      "  :\t:\n",
      "  (57, 258)\t0.2559438390330787\n",
      "  (58, 276)\t0.29476032576645844\n",
      "  (58, 210)\t0.29476032576645844\n",
      "  (58, 41)\t0.29476032576645844\n",
      "  (58, 117)\t0.29476032576645844\n",
      "  (58, 181)\t0.2677068125203333\n",
      "  (58, 64)\t0.2677068125203333\n",
      "  (58, 299)\t0.2677068125203333\n",
      "  (58, 49)\t0.2677068125203333\n",
      "  (58, 168)\t0.2677068125203333\n",
      "  (58, 176)\t0.2677068125203333\n",
      "  (58, 0)\t0.2677068125203333\n",
      "  (58, 37)\t0.2485120394014813\n",
      "  (58, 215)\t0.2677068125203333\n",
      "  (58, 202)\t0.13180162339799475\n",
      "  (59, 1)\t0.3894401087298768\n",
      "  (59, 174)\t0.3894401087298768\n",
      "  (59, 320)\t0.3894401087298768\n",
      "  (59, 120)\t0.3894401087298768\n",
      "  (59, 207)\t0.3894401087298768\n",
      "  (59, 20)\t0.2568497275477606\n",
      "  (59, 23)\t0.23148941316008512\n",
      "  (59, 40)\t0.18645811070324775\n",
      "  (59, 33)\t0.21181842509092322\n",
      "  (59, 277)\t0.20612909877240965\n"
     ]
    }
   ],
   "source": [
    "print(vect_text.shape)\n",
    "print(vect_text)"
   ]
  },
  {
   "cell_type": "code",
   "execution_count": 63,
   "metadata": {
    "_uuid": "fdf6846bf90d386f8361467a420af9b40b689521",
    "id": "zbF-rC1va7tP"
   },
   "outputs": [],
   "source": [
    "idf=vect.idf_"
   ]
  },
  {
   "cell_type": "code",
   "execution_count": 65,
   "metadata": {
    "_uuid": "b5dc9f0d99d949a36cdb00be41b5ba4a424f093c",
    "id": "a0wQG_tZm53A",
    "outputId": "d8b5ee22-9920-45e4-bd3e-548217842e68"
   },
   "outputs": [],
   "source": [
    "dd=dict(zip(vect.get_feature_names_out(), idf))\n",
    "l=sorted(dd, key=(dd).get)\n",
    "# # print(l)\n",
    "# print(l[0],l[-1])\n",
    "# print(dd['police'])\n",
    "# print(dd['forecast'])  # police is most common and forecast is least common among the news headlines."
   ]
  },
  {
   "cell_type": "code",
   "execution_count": 67,
   "metadata": {},
   "outputs": [
    {
     "name": "stdout",
     "output_type": "stream",
     "text": [
      "{'acute': 4.012261575505201, 'addie': 4.417726683613366, 'additive': 4.012261575505201, 'additiveweighting': 4.417726683613366, 'adm': 4.417726683613366, 'ahp': 4.417726683613366, 'akademik': 3.3191143949452564, 'aksesoris': 4.417726683613366, 'alat': 4.417726683613366, 'algoritma': 4.012261575505201, 'aliyah': 4.417726683613366, 'alphabet': 4.417726683613366, 'alphanumerik': 4.417726683613366, 'alumni': 4.417726683613366, 'anak': 4.012261575505201, 'analitycal': 4.417726683613366, 'analysis': 4.417726683613366, 'analytic': 4.417726683613366, 'analytical': 4.417726683613366, 'and': 4.417726683613366, 'android': 2.913649286837092, 'anggaran': 4.417726683613366, 'api': 4.417726683613366, 'aplikasi': 2.6259672143853106, 'arsip': 4.417726683613366, 'arsitektur': 4.417726683613366, 'asmaul': 4.012261575505201, 'asrama': 4.417726683613366, 'assosiation': 4.417726683613366, 'attribute': 4.417726683613366, 'bagun': 4.417726683613366, 'bahasa': 4.012261575505201, 'bangkalan': 3.031432322493475, 'bangun': 2.402823663071101, 'bank': 4.417726683613366, 'bantu': 4.417726683613366, 'batik': 3.7245795030534206, 'bayes': 3.7245795030534206, 'beasiswa': 3.7245795030534206, 'belajar': 4.417726683613366, 'berbasis': 2.11514159061932, 'berdasarkan': 4.417726683613366, 'berprestasi': 4.417726683613366, 'bidik': 4.417726683613366, 'bisnis': 4.417726683613366, 'cerdas': 4.417726683613366, 'chain': 4.417726683613366, 'chat': 4.417726683613366, 'choice': 4.417726683613366, 'citra': 4.012261575505201, 'classifier': 4.417726683613366, 'club': 4.417726683613366, 'cluster': 4.417726683613366, 'clustering': 4.012261575505201, 'code': 4.417726683613366, 'codeigniter': 4.012261575505201, 'coefficient': 4.417726683613366, 'computer': 4.417726683613366, 'correlation': 4.417726683613366, 'creative': 4.417726683613366, 'cumulative': 4.417726683613366, 'customer': 4.417726683613366, 'daerah': 4.417726683613366, 'dan': 4.012261575505201, 'darah': 4.012261575505201, 'dasar': 4.417726683613366, 'decision': 4.417726683613366, 'deket': 4.417726683613366, 'diabetic': 4.417726683613366, 'diagonal': 4.417726683613366, 'dinas': 4.012261575505201, 'direction': 4.417726683613366, 'discriminant': 4.417726683613366, 'distance': 4.012261575505201, 'dosen': 4.417726683613366, 'dr': 4.417726683613366, 'ebusiness': 4.417726683613366, 'edukasi': 3.7245795030534206, 'efektivitas': 4.417726683613366, 'egovernment': 4.417726683613366, 'elearning': 4.012261575505201, 'electre': 3.7245795030534206, 'elektronika': 4.417726683613366, 'elimination': 4.417726683613366, 'enhanced': 4.417726683613366, 'entropy': 4.012261575505201, 'euclidean': 4.417726683613366, 'evaluasi': 3.7245795030534206, 'exploiting': 4.417726683613366, 'exponential': 4.417726683613366, 'fahp': 4.012261575505201, 'fakultas': 4.012261575505201, 'fanp': 4.417726683613366, 'fase': 4.417726683613366, 'feature': 4.417726683613366, 'finite': 4.417726683613366, 'fitur': 4.417726683613366, 'formal': 4.417726683613366, 'framework': 3.7245795030534206, 'fundus': 4.417726683613366, 'fuzzy': 3.7245795030534206, 'gakin': 4.417726683613366, 'game': 3.3191143949452564, 'games': 4.417726683613366, 'geografis': 4.417726683613366, 'gerak': 4.417726683613366, 'gizi': 4.417726683613366, 'glrlm': 4.417726683613366, 'gps': 4.417726683613366, 'gray': 4.417726683613366, 'hanifida': 4.012261575505201, 'hierarchy': 4.417726683613366, 'hierarcy': 4.417726683613366, 'hijaiyah': 4.417726683613366, 'huruf': 3.7245795030534206, 'husna': 4.012261575505201, 'idb': 4.417726683613366, 'identifikasi': 4.417726683613366, 'idunn': 4.417726683613366, 'ii': 4.012261575505201, 'ilmu': 4.417726683613366, 'implementasi': 4.012261575505201, 'inap': 4.417726683613366, 'indonesia': 4.417726683613366, 'industri': 3.7245795030534206, 'informasi': 2.402823663071101, 'informatika': 3.7245795030534206, 'inggris': 4.417726683613366, 'integrasi': 4.012261575505201, 'intelligent': 4.417726683613366, 'interaktif': 4.417726683613366, 'jamu': 4.417726683613366, 'jawa': 4.417726683613366, 'jenjang': 4.417726683613366, 'kabupaten': 3.3191143949452564, 'kamus': 4.417726683613366, 'karakter': 4.417726683613366, 'karyawan': 4.417726683613366, 'keanggotaan': 4.417726683613366, 'kecamatan': 4.012261575505201, 'kegiatan': 4.417726683613366, 'kejuruan': 4.417726683613366, 'kelas': 4.417726683613366, 'kelayakan': 4.417726683613366, 'keliling': 4.417726683613366, 'kendaraan': 4.417726683613366, 'keputusan': 2.5459245067117746, 'kerugian': 4.417726683613366, 'kesehatan': 4.417726683613366, 'kesesuaian': 4.417726683613366, 'kinect': 4.417726683613366, 'kinerja': 4.012261575505201, 'klasifikasi': 3.501435951739211, 'kmeans': 4.012261575505201, 'kmedoid': 4.417726683613366, 'knearest': 4.417726683613366, 'kompetensi': 4.417726683613366, 'komponen': 4.417726683613366, 'konsep': 4.417726683613366, 'koperasi': 4.417726683613366, 'kota': 4.417726683613366, 'kreatif': 4.417726683613366, 'kredit': 4.012261575505201, 'kuliah': 4.417726683613366, 'lahan': 4.417726683613366, 'lamongan': 4.012261575505201, 'lda': 4.417726683613366, 'length': 4.417726683613366, 'leukemia': 4.012261575505201, 'level': 4.417726683613366, 'linear': 4.417726683613366, 'logistik': 4.417726683613366, 'lokasi': 4.012261575505201, 'lppm': 4.417726683613366, 'ltsa': 4.417726683613366, 'lunak': 4.417726683613366, 'lymphoblastic': 4.012261575505201, 'machine': 4.417726683613366, 'madrasah': 4.417726683613366, 'madura': 2.7129785913749407, 'maduraberdasarkanindikator': 4.417726683613366, 'mahalanobis': 4.012261575505201, 'mahasiswa': 3.7245795030534206, 'makanan': 4.417726683613366, 'man': 4.417726683613366, 'manajemen': 4.012261575505201, 'manejemen': 4.417726683613366, 'martodirdjo': 4.417726683613366, 'masyarakat': 4.417726683613366, 'matrix': 4.417726683613366, 'maze': 4.417726683613366, 'mdf': 4.417726683613366, 'media': 4.417726683613366, 'menemukan': 4.417726683613366, 'menengah': 3.7245795030534206, 'menentukan': 4.417726683613366, 'menggunakan': 4.012261575505201, 'menghafal': 4.012261575505201, 'mengunakan': 4.417726683613366, 'menilai': 4.417726683613366, 'menulis': 4.417726683613366, 'metho': 4.417726683613366, 'metode': 1.9753796482441615, 'microsoft': 4.417726683613366, 'mikroskopis': 4.417726683613366, 'mining': 4.417726683613366, 'misi': 4.417726683613366, 'mlearning': 4.417726683613366, 'mobile': 3.7245795030534206, 'modified': 4.417726683613366, 'morfologi': 4.417726683613366, 'multy': 4.417726683613366, 'musahil': 4.417726683613366, 'mutu': 3.501435951739211, 'naive': 4.417726683613366, 'naïve': 4.012261575505201, 'negeri': 4.012261575505201, 'neighbor': 4.417726683613366, 'network': 4.417726683613366, 'nilai': 4.417726683613366, 'nomor': 4.417726683613366, 'obyek': 4.417726683613366, 'olahraga': 4.417726683613366, 'ordinal': 4.417726683613366, 'oreste': 4.417726683613366, 'organisasi': 4.417726683613366, 'pamekasan': 4.417726683613366, 'pasien': 4.417726683613366, 'pawiyatan': 4.417726683613366, 'pekerja': 4.417726683613366, 'pemanfaatan': 4.417726683613366, 'pembelajaran': 3.031432322493475, 'pemberian': 4.417726683613366, 'pembuatan': 3.501435951739211, 'pemerataan': 4.417726683613366, 'pemesanan': 4.417726683613366, 'pemetaan': 4.012261575505201, 'pemilihan': 3.7245795030534206, 'pencarian': 4.417726683613366, 'pendataan': 4.417726683613366, 'pendidikan': 4.012261575505201, 'pendukung': 2.6259672143853106, 'penentuan': 3.3191143949452564, 'penerapan': 4.417726683613366, 'penerima': 4.417726683613366, 'penerimaan': 4.417726683613366, 'pengajuan': 4.012261575505201, 'pengambilan': 4.417726683613366, 'pengelolaan': 4.417726683613366, 'pengelompokan': 3.7245795030534206, 'pengenalan': 3.164963715117998, 'penggunaan': 4.417726683613366, 'pengolahan': 4.417726683613366, 'penilaian': 3.7245795030534206, 'penjaminan': 4.417726683613366, 'penjualan': 4.417726683613366, 'penyakit': 4.417726683613366, 'peramalan': 4.417726683613366, 'perancangan': 3.031432322493475, 'perangkat': 4.417726683613366, 'perbandingan': 4.417726683613366, 'perdagangan': 4.012261575505201, 'perindustrian': 4.417726683613366, 'pertanian': 4.417726683613366, 'pgri': 4.417726683613366, 'phonics': 4.417726683613366, 'plat': 4.417726683613366, 'platform': 4.417726683613366, 'pola': 4.417726683613366, 'prasekolah': 4.417726683613366, 'process': 3.7245795030534206, 'produk': 4.012261575505201, 'program': 3.501435951739211, 'proses': 3.7245795030534206, 'pulau': 4.417726683613366, 'puskesmas': 4.417726683613366, 'putih': 4.417726683613366, 'rancang': 2.3382851419335298, 'ranks': 4.417726683613366, 'rapor': 4.417726683613366, 'rating': 4.012261575505201, 'rawat': 4.417726683613366, 'real': 4.417726683613366, 'realety': 4.417726683613366, 'regresi': 4.417726683613366, 'rekomendasi': 4.012261575505201, 'resiko': 4.417726683613366, 'retinopathy': 4.417726683613366, 'rsud': 4.417726683613366, 'rule': 4.417726683613366, 'run': 4.417726683613366, 'runner': 4.417726683613366, 'rute': 4.417726683613366, 'saw': 3.501435951739211, 'sawah': 4.417726683613366, 'scale': 4.417726683613366, 'sdk': 4.417726683613366, 'segmentasi': 4.417726683613366, 'sekolah': 4.012261575505201, 'sel': 4.012261575505201, 'service': 4.417726683613366, 'simple': 3.501435951739211, 'sistem': 1.709676482511156, 'siswa': 4.012261575505201, 'slamet': 4.417726683613366, 'smarter': 4.417726683613366, 'smk': 4.417726683613366, 'smoothing': 4.417726683613366, 'smp': 4.417726683613366, 'soccer': 4.417726683613366, 'som': 4.417726683613366, 'speech': 4.417726683613366, 'spg': 4.417726683613366, 'state': 4.417726683613366, 'status': 4.417726683613366, 'stkip': 4.417726683613366, 'strategy': 4.417726683613366, 'studi': 2.220502106277147, 'sub': 4.417726683613366, 'surabaya': 4.012261575505201, 'tajwid': 4.417726683613366, 'tambak': 4.417726683613366, 'tanaman': 4.417726683613366, 'tanda': 4.417726683613366, 'tangan': 4.012261575505201, 'technique': 4.417726683613366, 'teknik': 3.3191143949452564, 'teknologi': 4.417726683613366, 'terpendek': 4.417726683613366, 'tes': 4.417726683613366, 'time': 4.417726683613366, 'timur': 4.417726683613366, 'tingkat': 4.012261575505201, 'toefl': 4.417726683613366, 'togaf': 4.417726683613366, 'toko': 4.417726683613366, 'topsis': 3.7245795030534206, 'tracking': 4.417726683613366, 'translation': 4.417726683613366, 'tree': 4.417726683613366, 'trend': 4.417726683613366, 'trunojoyo': 3.031432322493475, 'tulisan': 4.417726683613366, 'ukm': 4.012261575505201, 'unggulan': 4.012261575505201, 'unit': 4.012261575505201, 'unityd': 4.417726683613366, 'universitas': 3.031432322493475, 'usaha': 4.417726683613366, 'usia': 4.417726683613366, 'utm': 4.417726683613366, 'validation': 4.417726683613366, 'voting': 4.417726683613366, 'wafa': 4.417726683613366, 'wajah': 4.417726683613366, 'web': 3.164963715117998, 'weight': 4.417726683613366, 'weighting': 4.417726683613366}\n"
     ]
    }
   ],
   "source": [
    "print(dd)"
   ]
  },
  {
   "cell_type": "markdown",
   "metadata": {
    "_uuid": "868e6b05bc280289edea4e14b31c98a435d8ebbc"
   },
   "source": [
    "We can therefore see that on the basis of the **idf value** , **'police'** is the **most frequent** word while **'forecast'** is **least frequently** occuring among the news."
   ]
  },
  {
   "cell_type": "markdown",
   "metadata": {
    "_uuid": "3b96bb00ba3313b3fcab6735e73c56e89fc74365"
   },
   "source": [
    "### TOPIC MODELLING"
   ]
  },
  {
   "cell_type": "code",
   "execution_count": 17,
   "metadata": {
    "_uuid": "4ce3e769f54ef00290465cd8b1d7bd4089df71ea"
   },
   "outputs": [],
   "source": []
  },
  {
   "cell_type": "markdown",
   "metadata": {
    "_uuid": "0bad03b7f6b2b69cd4554ec9e7681b430dfe4e10"
   },
   "source": [
    "## Latent Semantic Analysis (LSA)"
   ]
  },
  {
   "cell_type": "markdown",
   "metadata": {
    "_uuid": "c0d4b13524635aefa5e44f780efeec9b55ca6e58"
   },
   "source": [
    "The first approach that I have used is the LSA. **LSA is basically singular value decomposition.**\n",
    "\n",
    "$$\n",
    "A_{mn} = U_{mm} \\times S_{mn} \\times V^{T}_{nn}\n",
    "$$\n",
    "\n",
    "$ A_{mn} = $ matriks awal\n",
    "\n",
    "**SVD decomposes the original DTM into three matrices S=U.(sigma).(V.T). Here the matrix U denotes the document-topic matrix while (V) is the topic-term matrix.**\n",
    "\n",
    "**Each row of the matrix U(document-term matrix) is the vector representation of the corresponding document. The length of these vectors is the number of desired topics. Vector representation for the terms in our data can be found in the matrix V (term-topic matrix).**\n",
    "\n",
    "So, SVD gives us vectors for every document and term in our data. The length of each vector would be k. **We can then use these vectors to find similar words and similar documents using the cosine similarity method.**\n",
    "\n",
    "We can use the truncatedSVD function to implement LSA. The n_components parameter is the number of topics we wish to extract.\n",
    "The model is then fit and transformed on the result given by vectorizer. \n",
    "\n",
    "**Lastly note that LSA and LSI (I for indexing) are the same and the later is just sometimes used in information retrieval contexts.**"
   ]
  },
  {
   "cell_type": "code",
   "execution_count": 68,
   "metadata": {
    "_uuid": "ac483df5e69eeb2b4b71af956c6987896eda7eb6",
    "id": "9xuGfFdtqTp5"
   },
   "outputs": [],
   "source": [
    "from sklearn.decomposition import TruncatedSVD\n",
    "lsa_model = TruncatedSVD(n_components=10, algorithm='randomized', n_iter=10, random_state=42)\n",
    "\n",
    "lsa_top=lsa_model.fit_transform(vect_text)\n"
   ]
  },
  {
   "cell_type": "code",
   "execution_count": 69,
   "metadata": {
    "_uuid": "0a8f4620d3c71db1275e4b5662bf4ab32c598266",
    "id": "KdaVWPC6xmq-",
    "outputId": "d23a23e6-22bb-41dc-8b6a-508dd20a67c2"
   },
   "outputs": [
    {
     "name": "stdout",
     "output_type": "stream",
     "text": [
      "[[ 1.38109966e-02 -3.38227981e-02 -6.19923591e-02  1.35177626e-01\n",
      "   1.86651034e-01 -7.37217742e-02 -2.08458316e-02  6.29112652e-02\n",
      "  -2.74505698e-02 -2.94924294e-02]\n",
      " [ 1.84506430e-01  1.47775126e-01 -8.44861187e-02 -2.93837332e-01\n",
      "   2.47242004e-01  2.10864972e-02  2.89890965e-01  4.86196311e-02\n",
      "  -8.46031270e-02  1.42473638e-01]\n",
      " [ 3.04563509e-01 -3.14111186e-01 -2.03553473e-01  3.89676159e-02\n",
      "   2.71222177e-02 -3.06659009e-02 -6.65120704e-02 -7.23866036e-02\n",
      "   1.37710793e-01 -9.02117180e-02]\n",
      " [ 1.33461305e-01  3.54878355e-01 -2.23197350e-01 -2.57260907e-02\n",
      "   1.33956996e-02 -1.30637287e-01 -1.40952884e-01  7.14587496e-04\n",
      "   9.30709873e-02  3.64560250e-01]\n",
      " [ 1.23050240e-01  1.69169255e-01 -5.01909484e-02  4.06970159e-02\n",
      "  -1.09294205e-02  1.64037694e-01 -4.55145610e-02 -6.23694313e-02\n",
      "  -1.23654634e-02 -1.50486572e-01]\n",
      " [ 3.22168193e-01 -7.91053342e-02 -1.68617428e-01 -3.65897321e-01\n",
      "   2.83731704e-01  9.96580879e-03  1.33083504e-01 -1.94429618e-01\n",
      "   1.28975625e-01 -3.77712080e-02]\n",
      " [ 1.90912030e-01  2.91420525e-01 -2.04504862e-01  8.28863851e-02\n",
      "  -1.58174890e-01 -3.41605668e-02 -2.18774431e-02 -2.93800101e-02\n",
      "  -4.12262507e-02  1.08463126e-01]\n",
      " [ 8.25483309e-02  4.88788519e-02 -6.09295304e-02 -6.19697913e-03\n",
      "  -9.08757861e-03  4.74390269e-02  3.09261278e-01 -4.36482673e-02\n",
      "  -4.42506155e-02 -3.03178599e-01]\n",
      " [ 1.74672115e-02  6.67275823e-03 -5.10786873e-02  2.22722996e-02\n",
      "  -6.49224147e-02  1.27674286e-01  1.80526322e-01  3.15048576e-01\n",
      "   4.04149586e-01  1.87458656e-01]\n",
      " [ 5.28670241e-02 -5.50570465e-02 -5.18975094e-02 -1.49009210e-02\n",
      "  -9.65692690e-02  7.99297011e-02  8.25126781e-02  2.85018368e-01\n",
      "   2.53431366e-01 -6.03148904e-02]\n",
      " [ 1.46611649e-01 -8.56350085e-02 -2.74243849e-01  5.62291250e-01\n",
      "   5.01876104e-01 -8.91932509e-02  2.57650731e-02  1.83735274e-01\n",
      "  -6.37048886e-02 -7.89718404e-02]\n",
      " [ 1.36515275e-01  2.57053694e-01 -1.55605118e-01 -1.18556560e-01\n",
      "   8.33122845e-02 -4.91146073e-02 -9.50719959e-02 -8.86640390e-02\n",
      "   1.11634442e-01 -2.89131741e-02]\n",
      " [ 1.42085973e-01 -1.65182100e-01 -1.48100458e-01  1.32225746e-01\n",
      "  -2.25123661e-01 -1.29425580e-02  1.51488441e-01 -6.04260341e-02\n",
      "  -1.32036284e-01  1.42354047e-01]\n",
      " [ 1.08831684e-01 -1.48009289e-01 -1.26938210e-01  9.04695697e-02\n",
      "  -4.72935226e-02 -2.11654679e-02  1.09981360e-01  1.70919396e-02\n",
      "  -1.58113448e-02 -4.82042041e-02]\n",
      " [ 1.11776341e-01  2.56539806e-01 -1.59096940e-01  1.83634660e-02\n",
      "  -3.37399891e-02  1.59121528e-02 -1.42971729e-01 -1.83148111e-02\n",
      "   1.77450611e-02 -8.53387720e-02]\n",
      " [ 2.33018035e-01  1.25485542e-01 -2.24276171e-02 -2.04714581e-01\n",
      "   2.41522176e-01  1.87732531e-02  3.45203633e-01 -2.37418525e-01\n",
      "   5.00292254e-02  4.17821649e-02]\n",
      " [ 1.54995170e-02  3.64517508e-02 -6.99073476e-02  1.18251200e-01\n",
      "   7.90034167e-02  1.46912643e-01  3.61936573e-02  1.64149923e-01\n",
      "   3.28074632e-02  1.27044121e-01]\n",
      " [ 1.88188366e-02  1.28992294e-03  1.29704457e-02 -2.09303610e-02\n",
      "   2.30832415e-02  7.85357797e-03  5.03265817e-02 -1.72600069e-02\n",
      "  -2.18217492e-02 -4.58642823e-02]\n",
      " [ 2.15233787e-01  4.01621440e-01 -1.80454091e-01 -1.17854180e-01\n",
      "   1.35832022e-01 -7.54557131e-02  1.10536519e-01 -7.26645385e-02\n",
      "   1.86723709e-01  4.12455667e-01]\n",
      " [ 7.15656163e-02 -3.59806962e-02 -8.92014805e-02 -2.44444557e-02\n",
      "  -1.33666094e-01  1.15895945e-01  2.67188941e-01  4.17054175e-01\n",
      "   9.81980903e-02  7.19277356e-02]\n",
      " [ 4.14298619e-01 -3.72560573e-01 -2.20825239e-01  5.03497683e-02\n",
      "  -2.65625966e-01 -9.97272951e-03  1.97334681e-02 -2.08604855e-01\n",
      "   3.34581489e-02  1.74473439e-01]\n",
      " [ 5.97872163e-02 -6.18381697e-02 -5.81055558e-02 -1.64673007e-02\n",
      "  -1.05011875e-01  8.94259214e-02  9.19697823e-02  3.16752047e-01\n",
      "   2.82473070e-01 -7.97116636e-02]\n",
      " [ 1.64958953e-01  3.83043440e-01 -3.09636979e-01  9.65184337e-02\n",
      "  -8.07384549e-02 -3.40993277e-02  3.43563704e-02  1.64202444e-01\n",
      "  -1.94765148e-01  1.81803913e-02]\n",
      " [ 1.20599320e-01 -1.93287032e-01 -2.26633895e-01  3.05840499e-01\n",
      "   3.35563700e-01 -1.53958587e-01 -5.32367271e-02  3.69578578e-03\n",
      "   1.90408544e-02  2.11785831e-02]\n",
      " [ 7.90876660e-02  8.05395662e-02  6.49240221e-03  5.09746448e-02\n",
      "  -1.43076938e-02  2.03038552e-02  9.65307120e-02 -1.52965871e-02\n",
      "   8.40051317e-03  9.11248535e-02]\n",
      " [ 3.61220001e-02  1.19817600e-02 -5.36016007e-02 -1.18096709e-01\n",
      "   1.46184100e-01  1.57949063e-03  2.18837451e-01 -1.74309277e-01\n",
      "   1.13418444e-01 -1.69522962e-01]\n",
      " [ 2.75048249e-01 -3.59484748e-01 -3.86017784e-01  4.13569936e-01\n",
      "   4.02024968e-01 -1.46736724e-01 -3.26780603e-02  1.28820626e-01\n",
      "  -1.53654129e-03 -8.09068053e-02]\n",
      " [ 5.62512538e-01 -5.94381000e-02  1.61820665e-01 -1.31922110e-01\n",
      "   1.05183746e-01 -1.97817056e-02 -2.03545626e-01 -3.73483713e-02\n",
      "   1.21798022e-01  9.90737439e-02]\n",
      " [ 1.44754620e-01  3.16379578e-01 -2.54342280e-01  3.50576828e-02\n",
      "  -2.33637848e-02 -5.20165157e-02 -5.95441009e-02  4.82088086e-02\n",
      "  -1.44401385e-01 -2.42259215e-02]\n",
      " [ 6.25278226e-01  1.91955846e-01  5.07916364e-01  2.69091833e-01\n",
      "  -2.61150670e-02 -1.25489840e-02  1.31605095e-01 -4.81786396e-02\n",
      "   2.44954605e-02 -1.48925066e-01]\n",
      " [ 4.26202478e-01 -1.83742114e-01 -1.64115367e-01 -3.32249778e-01\n",
      "   1.26555584e-02  5.26199684e-02 -2.61130148e-01  2.36770563e-01\n",
      "  -1.35655511e-01 -1.07907693e-01]\n",
      " [ 9.20305578e-02  1.10020946e-01 -5.86116736e-02 -1.99401154e-01\n",
      "   2.38676868e-01  5.38785327e-03  3.33452902e-01 -2.14894513e-01\n",
      "   7.81847924e-02 -1.00701745e-01]\n",
      " [ 1.99891907e-01  1.12982276e-01  2.18377481e-03 -2.13026132e-01\n",
      "   1.79019211e-01  3.77612807e-02  2.72729938e-01  1.23308627e-01\n",
      "  -1.57374244e-01  1.24890773e-01]\n",
      " [ 3.76584399e-01 -1.23825300e-01 -7.99454614e-02 -2.38861906e-01\n",
      "   1.32178667e-01  1.01111924e-02 -1.34241610e-01 -7.51828801e-02\n",
      "   8.35334979e-02 -1.52981104e-01]\n",
      " [ 6.06258361e-01  1.48804431e-01  5.37170305e-01  2.43433292e-01\n",
      "   2.55236718e-02 -1.01843861e-02  9.08736794e-02 -1.67818287e-02\n",
      "  -3.27333764e-03 -3.73328747e-03]\n",
      " [ 1.71901012e-01 -2.00077486e-01 -1.84131461e-01 -7.20921764e-02\n",
      "  -1.07524223e-01  7.16849844e-02 -2.31491047e-02  5.68128500e-02\n",
      "   4.47364834e-01 -1.27445827e-01]\n",
      " [ 2.05552745e-01  4.35293299e-01 -2.99362391e-01 -2.26592109e-03\n",
      "  -1.09685625e-01 -6.11460660e-02 -2.09320550e-01  5.41212068e-02\n",
      "  -5.89879860e-02 -6.84161306e-02]\n",
      " [ 4.87442199e-01 -1.93827829e-01 -5.32666412e-02 -2.93643472e-01\n",
      "   3.91730299e-02  6.40995120e-02 -1.32671557e-01  9.98987357e-02\n",
      "  -1.05827797e-01 -1.44601356e-01]\n",
      " [ 6.11553562e-01 -1.00191945e-01  2.85504927e-01 -7.85258923e-02\n",
      "   1.36395901e-02  2.33093743e-02 -1.59133855e-01  1.33726944e-01\n",
      "  -4.55609779e-02  1.32093751e-02]\n",
      " [ 4.67383273e-01  1.99573148e-02  3.09243098e-01 -2.42857900e-02\n",
      "  -4.78444704e-03  8.51423602e-03 -2.08058253e-01  2.18450314e-01\n",
      "  -2.80997182e-02  5.31216803e-02]\n",
      " [ 1.44668984e-01  3.61343877e-01 -2.26463559e-01  3.66218846e-02\n",
      "  -4.58556518e-02  6.50937943e-02 -1.99452510e-01 -5.14470487e-02\n",
      "   2.21815262e-02 -7.17697330e-02]\n",
      " [ 1.99382692e-01  3.34064379e-02  2.36498400e-02 -1.17445534e-01\n",
      "   4.08872724e-02  7.88158058e-03 -1.68350123e-01  1.75860999e-01\n",
      "  -1.15160734e-02 -1.43297793e-02]\n",
      " [ 3.45455977e-03 -3.92443051e-04 -2.09392285e-02  6.72604653e-02\n",
      "   8.44884434e-02  9.61057972e-02  3.69181031e-03  5.86269143e-02\n",
      "  -6.71988944e-03  2.90180548e-02]\n",
      " [ 3.39452109e-01  3.63729472e-01  1.86850741e-02  5.54795772e-02\n",
      "  -1.48821237e-02 -9.15581462e-02 -1.80673335e-01 -4.63811446e-02\n",
      "   1.48637893e-01  2.34592774e-01]\n",
      " [ 2.64808348e-02  1.71474436e-02 -1.03974023e-01  1.47397410e-01\n",
      "   1.50670099e-01 -9.50089877e-02  3.87971054e-03  8.61700966e-02\n",
      "  -8.15069377e-02  3.44574174e-02]\n",
      " [ 1.93214690e-01  7.27190977e-02 -1.64469654e-01  1.56039818e-01\n",
      "  -3.31115455e-01  4.95563314e-02  1.79460550e-01 -5.70973169e-02\n",
      "   7.77280650e-02 -3.80576026e-01]\n",
      " [ 2.37206289e-01  3.35599153e-01 -6.96552778e-02  7.38296205e-02\n",
      "  -4.76034402e-02 -4.56246890e-02  1.01088556e-01 -1.24381150e-01\n",
      "   7.31907778e-02 -3.69759653e-01]\n",
      " [ 1.74656449e-01 -4.34559281e-02 -1.41503300e-01  1.98611208e-01\n",
      "  -2.31665407e-01  4.74657435e-02  3.64448618e-01  2.65271154e-02\n",
      "  -1.52336964e-01  2.34084003e-01]\n",
      " [ 2.97752910e-01 -3.24500755e-02 -1.01245873e-01 -2.96013445e-01\n",
      "   9.48870315e-03  1.00744435e-01  1.14456947e-01  3.77795418e-01\n",
      "  -3.73914171e-01 -5.93631621e-02]\n",
      " [ 2.06900094e-01  4.81059233e-01 -2.71058366e-01  8.52040634e-02\n",
      "  -1.63397907e-01 -6.71376540e-02 -9.65599175e-02 -6.29049764e-02\n",
      "   9.75598594e-02 -2.10427483e-01]\n",
      " [ 2.46423128e-01 -2.82196190e-01 -2.24053709e-01 -5.84676902e-02\n",
      "  -2.03825937e-01  1.71203012e-02 -2.83066932e-02 -1.33749380e-01\n",
      "  -1.14349765e-01  1.12163656e-01]\n",
      " [ 1.41960381e-01  8.05527513e-02  7.58243639e-03 -1.88628263e-01\n",
      "   1.80704698e-01  1.06409836e-02  8.65708917e-02 -1.24642054e-02\n",
      "  -3.66173636e-02  1.72368930e-03]\n",
      " [ 7.15294335e-01  1.82381984e-02  4.77787333e-01  2.57521309e-01\n",
      "  -8.22062346e-02 -1.64299920e-02  1.33417025e-01 -3.36747221e-02\n",
      "  -4.60631288e-02  5.34318235e-02]\n",
      " [ 2.95247449e-01 -2.73817847e-01 -2.40683656e-01 -1.86347079e-01\n",
      "  -1.49817655e-01  5.27869437e-02 -3.43808190e-02 -4.51795532e-02\n",
      "  -1.25461497e-01 -3.59421197e-02]\n",
      " [ 4.43926843e-01 -3.39344221e-01 -1.53904805e-01  1.46148366e-01\n",
      "  -1.11599759e-01 -5.68654692e-02 -1.09731658e-02 -2.98462233e-01\n",
      "   1.09267851e-01  1.67534654e-01]\n",
      " [ 3.52687888e-02  4.82255831e-02 -6.41206199e-02  6.09092502e-02\n",
      "  -5.88612907e-02  2.19423088e-01  1.04486568e-01  2.13059897e-01\n",
      "   3.76070754e-01 -1.21595732e-02]\n",
      " [ 9.58122237e-03  3.02113276e-02 -5.34197354e-02  1.65664463e-01\n",
      "   1.66278040e-01  8.05129066e-01 -1.08141980e-01 -1.21139460e-01\n",
      "  -5.03050622e-02  8.96793474e-02]\n",
      " [ 1.16437834e-01  1.06901798e-01 -1.90316563e-01  8.52187547e-02\n",
      "  -2.04524086e-01  3.07796633e-02  2.56688281e-01  7.35956630e-02\n",
      "  -3.30593678e-01 -2.09831192e-02]\n",
      " [ 3.22755179e-02  9.01732028e-02 -7.00243579e-02  1.52547964e-01\n",
      "   1.10719364e-01  7.97891910e-01 -1.26866244e-01 -1.88827833e-01\n",
      "  -8.87319506e-02  3.30129243e-02]\n",
      " [ 2.70467780e-01 -3.12084512e-01 -2.47451672e-01  1.88990081e-02\n",
      "  -2.45900131e-01  2.98966065e-03  3.23806983e-02 -1.58203833e-01\n",
      "  -6.87845773e-03  1.15131380e-01]]\n",
      "(60, 10)\n"
     ]
    }
   ],
   "source": [
    "print(lsa_top)\n",
    "print(lsa_top.shape)  # (no_of_doc*no_of_topics)"
   ]
  },
  {
   "cell_type": "code",
   "execution_count": 85,
   "metadata": {
    "_uuid": "2a259e5f3b8c11118368439eea8de0faa8b7a1c2",
    "id": "d4dvIGIGxtAI",
    "outputId": "58590025-b601-4160-956f-49247c3e064e"
   },
   "outputs": [
    {
     "name": "stdout",
     "output_type": "stream",
     "text": [
      "Document 0 :\n",
      "Topic  0  :  1.3810996566775882\n",
      "Topic  1  :  -3.382279805600065\n",
      "Topic  2  :  -6.199235908068523\n",
      "Topic  3  :  13.517762637196961\n",
      "Topic  4  :  18.665103434281917\n",
      "Topic  5  :  -7.372177416994005\n",
      "Topic  6  :  -2.084583160731114\n",
      "Topic  7  :  6.291126519436345\n",
      "Topic  8  :  -2.745056983009059\n",
      "Topic  9  :  -2.9492429358061147\n"
     ]
    }
   ],
   "source": [
    "l=lsa_top[0]\n",
    "print(\"Document 0 :\")\n",
    "for i,topic in enumerate(l):\n",
    "  print(\"Topic \",i,\" : \",topic*100)\n",
    "  \n"
   ]
  },
  {
   "cell_type": "markdown",
   "metadata": {
    "_uuid": "2153bcbf45e7623efc213bb94f0dbba377ff34c3"
   },
   "source": [
    "Similalry for other documents we can do this. However note that values dont add to 1 as in LSA it is not probabiltiy of a topic in a document."
   ]
  },
  {
   "cell_type": "code",
   "execution_count": 86,
   "metadata": {
    "_uuid": "61bb8ff8b4b6cf0cd2fcde7890f3a3ebb8980452",
    "id": "AI2kOuwitOGp",
    "outputId": "093e45e0-2141-4504-b0fe-93e7656731a5"
   },
   "outputs": [
    {
     "name": "stdout",
     "output_type": "stream",
     "text": [
      "(10, 358)\n",
      "[[ 0.0025181   0.02305361  0.04967846 ...  0.14556037  0.04117895\n",
      "   0.01351984]\n",
      " [ 0.012148   -0.04450399  0.04827556 ... -0.10746507  0.02115073\n",
      "   0.03200339]\n",
      " [-0.01452618 -0.04031583  0.05116952 ... -0.06801329  0.06393252\n",
      "  -0.00759199]\n",
      " ...\n",
      " [-0.06100136 -0.04290008 -0.02982878 ...  0.16111838 -0.01006258\n",
      "  -0.02278058]\n",
      " [-0.02949872 -0.00253048  0.01779871 ... -0.2147123   0.0056077\n",
      "   0.01398968]\n",
      " [ 0.02781568  0.03480352 -0.09816177 ... -0.05842379 -0.03449213\n",
      "  -0.07358953]]\n"
     ]
    }
   ],
   "source": [
    "print(lsa_model.components_.shape) # (no_of_topics*no_of_words)\n",
    "print(lsa_model.components_)"
   ]
  },
  {
   "cell_type": "markdown",
   "metadata": {
    "_uuid": "a289f6e017d0c573d20ed386582df71437fab5cc"
   },
   "source": [
    "#### Now e can get a list of the important words for each of the 10 topics as shown. For simplicity here I have shown 10 words for each topic."
   ]
  },
  {
   "cell_type": "code",
   "execution_count": 88,
   "metadata": {
    "_uuid": "c9860197f6d11e5583629cca322e19a93d4c0350",
    "id": "GMMmSTbQqfdz",
    "outputId": "4a5765e5-ffc9-410f-ce48-1b422d348ee3"
   },
   "outputs": [
    {
     "name": "stdout",
     "output_type": "stream",
     "text": [
      "Topic 0: \n",
      "studi sistem bangun rancang informasi madura berbasis trunojoyo universitas pembelajaran \n",
      "\n",
      "Topic 1: \n",
      "keputusan pendukung metode sistem topsis penentuan pemilihan saw penilaian unggulan \n",
      "\n",
      "Topic 2: \n",
      "studi trunojoyo universitas teknik mutu akademik evaluasi informatika proses program \n",
      "\n",
      "Topic 3: \n",
      "game pembelajaran edukasi asmaul hanifida husna menghafal metode android klasifikasi \n",
      "\n",
      "Topic 4: \n",
      "game edukasi asmaul hanifida husna menghafal bangkalan kabupaten informasi klasifikasi \n",
      "\n",
      "Topic 5: \n",
      "acute citra darah leukemia lymphoblastic mahalanobis sel distance mikroskopis penyakit \n",
      "\n",
      "Topic 6: \n",
      "perancangan bangkalan industri kabupaten aplikasi huruf batik clustering kmeans android \n",
      "\n",
      "Topic 7: \n",
      "pengenalan perancangan berbasis web framework huruf anggaran pengelolaan codeigniter algoritma \n",
      "\n",
      "Topic 8: \n",
      "pengenalan tangan elearning dasar elektronika komponen dan bangun rancang direction \n",
      "\n",
      "Topic 9: \n",
      "pemilihan electre ii madura android entropy aplikasi dan kabupaten dinas \n",
      "\n"
     ]
    }
   ],
   "source": [
    "# most important words for each topic\n",
    "vocab = vect.get_feature_names_out()\n",
    "\n",
    "for i, comp in enumerate(lsa_model.components_):\n",
    "    vocab_comp = zip(vocab, comp)\n",
    "    sorted_words = sorted(vocab_comp, key= lambda x:x[1], reverse=True)[:10]\n",
    "    print(\"Topic \"+str(i)+\": \")\n",
    "    for t in sorted_words:\n",
    "        print(t[0],end=\" \")\n",
    "    print(\"\\n\")\n",
    "         "
   ]
  },
  {
   "cell_type": "markdown",
   "metadata": {
    "_uuid": "2898911f7af52671923cf6bbc8cab6bc7871aa59",
    "id": "gmMeb4METhm2"
   },
   "source": [
    "## Latent Dirichlet Allocation (LDA)  "
   ]
  },
  {
   "cell_type": "markdown",
   "metadata": {
    "_uuid": "dd861ec68f8272be78421f8bd76b98793009e836"
   },
   "source": [
    "LDA is the most popular technique.**The topics then generate words based on their probability distribution. Given a dataset of documents, LDA backtracks and tries to figure out what topics would create those documents in the first place.**\n",
    "\n",
    "**To understand the maths it seems as if knowledge of Dirichlet distribution (distribution of distributions) is required which is quite intricate and left fior now.**\n",
    "\n",
    "To get an inituitive explanation of LDA checkout these blogs: [this](https://www.analyticsvidhya.com/blog/2016/08/beginners-guide-to-topic-modeling-in-python/)  ,  [this](https://tedunderwood.com/2012/04/07/topic-modeling-made-just-simple-enough/)  ,[this](https://en.wikipedia.org/wiki/Topic_model)  ,  [this kernel on Kaggle](https://www.kaggle.com/arthurtok/spooky-nlp-and-topic-modelling-tutorial)  ,  [this](http://blog.echen.me/2011/08/22/introduction-to-latent-dirichlet-allocation/) ."
   ]
  },
  {
   "cell_type": "code",
   "execution_count": 89,
   "metadata": {
    "_uuid": "b21a29802cac8f469c65df49ba0ef04f592f3202",
    "id": "yPJFHVxxTiwh"
   },
   "outputs": [],
   "source": [
    "from sklearn.decomposition import LatentDirichletAllocation\n",
    "lda_model=LatentDirichletAllocation(n_components=10,learning_method='online',random_state=42,max_iter=1) \n",
    "# n_components is the number of topics"
   ]
  },
  {
   "cell_type": "code",
   "execution_count": 90,
   "metadata": {
    "_uuid": "8c0169b02a356e8cf8583218437d23f549c1e3da",
    "id": "aeUPTUUIazvB"
   },
   "outputs": [],
   "source": [
    "lda_top=lda_model.fit_transform(vect_text)"
   ]
  },
  {
   "cell_type": "code",
   "execution_count": 91,
   "metadata": {
    "_uuid": "77425315af5c000fa30caefd6dcebb70c2970cfa",
    "id": "h8LzsFixdkBt",
    "outputId": "4ffc31da-a283-4cc6-a7e8-67c7ca8e5224"
   },
   "outputs": [
    {
     "name": "stdout",
     "output_type": "stream",
     "text": [
      "(60, 10)\n",
      "[[0.02506765 0.02506803 0.77438611 0.02506773 0.02506771 0.02506748\n",
      "  0.02507135 0.02506834 0.02506822 0.02506738]\n",
      " [0.02134074 0.02134068 0.02134062 0.02134067 0.02133982 0.02133965\n",
      "  0.80793778 0.02134052 0.02133957 0.02133995]\n",
      " [0.02681373 0.02681369 0.02681391 0.02681653 0.02681303 0.02681357\n",
      "  0.0268133  0.02681397 0.75867473 0.02681353]\n",
      " [0.77888198 0.02456856 0.02456895 0.02456918 0.02456834 0.02456863\n",
      "  0.02456919 0.02456832 0.02456855 0.0245683 ]\n",
      " [0.01949305 0.01949272 0.8245607  0.0194928  0.01949312 0.01949288\n",
      "  0.01949258 0.01949286 0.01949309 0.0194962 ]\n",
      " [0.02582201 0.02582132 0.02582149 0.76760598 0.02582093 0.02582126\n",
      "  0.02582207 0.02582171 0.02582241 0.02582083]\n",
      " [0.01839331 0.01839307 0.01839328 0.01839358 0.01839291 0.0183931\n",
      "  0.01839291 0.83446178 0.01839291 0.01839315]\n",
      " [0.01890884 0.01890886 0.01890871 0.01890874 0.01890918 0.01890886\n",
      "  0.0189086  0.01890871 0.01890882 0.82982068]\n",
      " [0.02247881 0.02247908 0.02247974 0.02247907 0.02247935 0.02247884\n",
      "  0.79768757 0.02247907 0.02247896 0.0224795 ]\n",
      " [0.02433907 0.02433916 0.02433917 0.02433907 0.02433903 0.02433927\n",
      "  0.78094634 0.0243408  0.0243386  0.0243395 ]\n",
      " [0.02344477 0.78899734 0.02344476 0.02344494 0.02344479 0.02344449\n",
      "  0.02344484 0.02344526 0.02344474 0.02344406]\n",
      " [0.02374866 0.02374773 0.02374764 0.02374779 0.0237473  0.78626973\n",
      "  0.02374807 0.02374791 0.02374735 0.02374782]\n",
      " [0.02551072 0.02551022 0.0255109  0.02551624 0.02551122 0.02551041\n",
      "  0.7703975  0.02551103 0.02551108 0.02551068]\n",
      " [0.02538575 0.02538635 0.02538551 0.02538688 0.02538572 0.02538691\n",
      "  0.02538537 0.02538677 0.77152507 0.02538566]\n",
      " [0.77706375 0.02477092 0.02477071 0.02476971 0.0247703  0.02477099\n",
      "  0.02477041 0.02477055 0.0247727  0.02476996]\n",
      " [0.79815445 0.02242715 0.02242701 0.02242742 0.02242703 0.02242727\n",
      "  0.02242739 0.02242797 0.02242726 0.02242703]\n",
      " [0.03099817 0.72100964 0.03099826 0.03099943 0.03099834 0.03099838\n",
      "  0.03099848 0.03100016 0.03099849 0.03100066]\n",
      " [0.02319577 0.02319628 0.02319616 0.02319616 0.02319584 0.79123387\n",
      "  0.02319638 0.02319631 0.02319578 0.02319744]\n",
      " [0.82831748 0.01907576 0.01907591 0.0190761  0.01907569 0.01907582\n",
      "  0.01907605 0.01907566 0.01907576 0.01907576]\n",
      " [0.02271108 0.7955984  0.02271122 0.02271158 0.02271135 0.02271129\n",
      "  0.02271142 0.02271167 0.02271066 0.02271133]\n",
      " [0.0268881  0.02688879 0.02688866 0.75800111 0.02688886 0.0268892\n",
      "  0.02688857 0.02688887 0.02688935 0.02688849]\n",
      " [0.02652654 0.0265259  0.02652588 0.02652622 0.02652648 0.02652636\n",
      "  0.02653033 0.02652611 0.02652581 0.76126036]\n",
      " [0.02103149 0.0210312  0.81072282 0.021031   0.02103048 0.02103122\n",
      "  0.02103048 0.02103052 0.02103051 0.02103028]\n",
      " [0.02676862 0.02676871 0.02676903 0.02676937 0.02676853 0.02676887\n",
      "  0.75907824 0.02677022 0.02676945 0.02676896]\n",
      " [0.79537288 0.02273595 0.02273614 0.02273649 0.02273613 0.02273597\n",
      "  0.02273628 0.02273787 0.02273635 0.02273595]\n",
      " [0.02510831 0.02510922 0.02510851 0.02510844 0.77402391 0.0251087\n",
      "  0.02510782 0.02510827 0.02510848 0.02510834]\n",
      " [0.02358049 0.02358166 0.02358101 0.02358125 0.0235809  0.02358062\n",
      "  0.02358091 0.78777154 0.02358143 0.0235802 ]\n",
      " [0.02382384 0.02382306 0.02382246 0.02382307 0.02382227 0.02382278\n",
      "  0.02382296 0.02382272 0.78559476 0.02382208]\n",
      " [0.81067811 0.02103586 0.02103519 0.02103557 0.02103548 0.02103575\n",
      "  0.02103566 0.02103639 0.02103591 0.02103606]\n",
      " [0.01900789 0.82893316 0.01900685 0.01900771 0.01900728 0.01900742\n",
      "  0.01900774 0.01900687 0.0190079  0.01900718]\n",
      " [0.02482301 0.02482272 0.02482247 0.02482323 0.02482221 0.7765963\n",
      "  0.02482227 0.02482275 0.02482309 0.02482193]\n",
      " [0.78000387 0.02444416 0.02444416 0.0244433  0.02444423 0.02444394\n",
      "  0.02444357 0.02444396 0.02444424 0.02444457]\n",
      " [0.79944771 0.02228415 0.02228554 0.02228337 0.02228358 0.02228334\n",
      "  0.02228338 0.02228276 0.02228311 0.02228307]\n",
      " [0.02490871 0.02490895 0.02490875 0.02490826 0.02490872 0.02490799\n",
      "  0.02490699 0.02490757 0.77582614 0.02490792]\n",
      " [0.01950182 0.82449296 0.01950055 0.01950095 0.01950055 0.01950028\n",
      "  0.01950109 0.01950027 0.01950118 0.01950034]\n",
      " [0.02801668 0.02801682 0.74784618 0.02801813 0.02801674 0.02801621\n",
      "  0.02801704 0.02801832 0.02801672 0.02801717]\n",
      " [0.02699298 0.75707566 0.02699112 0.02699174 0.02699121 0.02699074\n",
      "  0.02699144 0.02699122 0.02699217 0.02699172]\n",
      " [0.02319273 0.02319276 0.02319261 0.79126564 0.02319273 0.02319305\n",
      "  0.02319254 0.02319252 0.02319316 0.02319225]\n",
      " [0.02145187 0.02145169 0.02145141 0.02145206 0.02145234 0.0214516\n",
      "  0.8069332  0.02145162 0.02145292 0.02145128]\n",
      " [0.02303254 0.02303254 0.02303205 0.02303228 0.02303243 0.02303234\n",
      "  0.79270837 0.02303215 0.02303379 0.0230315 ]\n",
      " [0.77664924 0.02481734 0.02481757 0.02481651 0.02481564 0.02481714\n",
      "  0.02481709 0.02481652 0.0248165  0.02481646]\n",
      " [0.02161115 0.02161179 0.02161129 0.02161183 0.02161153 0.02161141\n",
      "  0.0216109  0.80549773 0.02161133 0.02161105]\n",
      " [0.02320692 0.7911438  0.02320636 0.02320584 0.02320614 0.0232063\n",
      "  0.0232056  0.02320592 0.02320629 0.02320684]\n",
      " [0.79376635 0.02291483 0.02291479 0.02291474 0.02291535 0.02291505\n",
      "  0.02291518 0.02291433 0.02291497 0.02291442]\n",
      " [0.02873013 0.02873046 0.02873133 0.02873121 0.02873041 0.74141852\n",
      "  0.02873247 0.02873551 0.02873053 0.02872944]\n",
      " [0.02462116 0.02462132 0.02462131 0.02462185 0.024621   0.02462182\n",
      "  0.02462156 0.7784063  0.02462199 0.02462171]\n",
      " [0.01835378 0.01835357 0.01835358 0.01835359 0.0183535  0.01835419\n",
      "  0.01835355 0.01835355 0.01835385 0.83481684]\n",
      " [0.02285567 0.02285522 0.02285463 0.79430764 0.02285396 0.0228547\n",
      "  0.02285478 0.02285436 0.02285486 0.0228542 ]\n",
      " [0.02845436 0.74393464 0.02845081 0.0284522  0.02845107 0.02845146\n",
      "  0.02845202 0.0284513  0.02845144 0.02845069]\n",
      " [0.02470428 0.02470413 0.02470376 0.77766665 0.02470311 0.02470347\n",
      "  0.02470348 0.02470325 0.0247035  0.02470438]\n",
      " [0.02369186 0.02369118 0.0236917  0.02369442 0.02369107 0.02369185\n",
      "  0.02369187 0.78677269 0.02369198 0.02369138]\n",
      " [0.02680162 0.02680129 0.75878798 0.02680126 0.02680176 0.02680207\n",
      "  0.02680154 0.02680018 0.02680087 0.02680142]\n",
      " [0.01986478 0.82122063 0.0198641  0.01986527 0.01986416 0.01986412\n",
      "  0.0198647  0.01986383 0.01986476 0.01986365]\n",
      " [0.02376778 0.0237673  0.02376753 0.02376829 0.0237669  0.78609169\n",
      "  0.02376742 0.02376756 0.02376774 0.02376778]\n",
      " [0.02939516 0.02939532 0.02939536 0.02939787 0.02939463 0.02939588\n",
      "  0.02939562 0.02939526 0.73544005 0.02939486]\n",
      " [0.02436606 0.02436561 0.02436577 0.02436586 0.02436588 0.02436616\n",
      "  0.02436616 0.02436622 0.02436875 0.78070354]\n",
      " [0.02320206 0.02320164 0.02320146 0.02320059 0.02320166 0.79118756\n",
      "  0.02320142 0.02320103 0.02320113 0.02320146]\n",
      " [0.02448543 0.02448599 0.02448546 0.02448584 0.02448474 0.77962934\n",
      "  0.02448562 0.02448554 0.02448607 0.02448597]\n",
      " [0.02127835 0.02127836 0.02127837 0.02127818 0.02127812 0.80849606\n",
      "  0.021278   0.0212779  0.02127856 0.02127811]\n",
      " [0.02475909 0.0247588  0.02475937 0.77716557 0.02475912 0.02475933\n",
      "  0.02476021 0.02475952 0.02475942 0.02475956]]\n"
     ]
    }
   ],
   "source": [
    "print(lda_top.shape)  # (no_of_doc,no_of_topics)\n",
    "print(lda_top)\n"
   ]
  },
  {
   "cell_type": "code",
   "execution_count": 25,
   "metadata": {
    "_uuid": "2fc450b8316e62d050eb702b65eddbb1e898248f",
    "id": "YNgP0S0eeVuO",
    "outputId": "a84c1854-e3f2-454f-ed91-f4776841652a"
   },
   "outputs": [
    {
     "name": "stdout",
     "output_type": "stream",
     "text": [
      "0.9999999999999999\n"
     ]
    }
   ],
   "source": [
    "sum=0\n",
    "for i in lda_top[0]:\n",
    "  sum=sum+i\n",
    "print(sum)  "
   ]
  },
  {
   "cell_type": "markdown",
   "metadata": {
    "_uuid": "0f6d8a55e8a513a9af61ae480eae5a0e2135f182"
   },
   "source": [
    "#### Note that the values in a particular row adds to 1. This is beacuse each value denotes the % of contribution of the corressponding topic in the document."
   ]
  },
  {
   "cell_type": "markdown",
   "metadata": {},
   "source": [
    "$$\n",
    "w_{i,j} = tf_{i,j} * log( {{N} \\over {df_{j}}} )\n",
    "$$"
   ]
  },
  {
   "cell_type": "code",
   "execution_count": 92,
   "metadata": {
    "_uuid": "d896b8fcf2c398367de4e7b7142e144fb4944f2d",
    "id": "Z6WmZLp3ehbY",
    "outputId": "002dfe31-7d3f-4186-8930-a12e175d6be3"
   },
   "outputs": [
    {
     "name": "stdout",
     "output_type": "stream",
     "text": [
      "Document 0: \n",
      "Topic  0 :  2.5067645560588434 %\n",
      "Topic  1 :  2.5068028792686063 %\n",
      "Topic  2 :  77.4386107396141 %\n",
      "Topic  3 :  2.506773071935772 %\n",
      "Topic  4 :  2.506771320042686 %\n",
      "Topic  5 :  2.506748361582033 %\n",
      "Topic  6 :  2.5071348263653084 %\n",
      "Topic  7 :  2.506833690079205 %\n",
      "Topic  8 :  2.506822139303076 %\n",
      "Topic  9 :  2.5067384157503714 %\n"
     ]
    }
   ],
   "source": [
    "# composition of doc 0 for eg\n",
    "print(\"Document 0: \")\n",
    "for i,topic in enumerate(lda_top[0]):\n",
    "  print(\"Topic \",i,\": \",topic*100,\"%\")"
   ]
  },
  {
   "cell_type": "markdown",
   "metadata": {
    "_uuid": "d24927b415ef64338a4b99e81c9cafd5225dfae5",
    "id": "NVgtw_L_g8N2"
   },
   "source": [
    "#### As we can see Topic 7 & 8 are dominantly present in document 0.\n",
    "\n",
    " "
   ]
  },
  {
   "cell_type": "code",
   "execution_count": 93,
   "metadata": {
    "_uuid": "3ee132a423ca0bfe3107fa3dd2652d6c33d5bc4d",
    "id": "6OFxmyReiZIU",
    "outputId": "9dc5bcef-32cb-482d-c62c-e6644f12cc6e"
   },
   "outputs": [
    {
     "name": "stdout",
     "output_type": "stream",
     "text": [
      "[[0.87031142 0.81813045 0.86144455 ... 0.95695632 0.90840999 0.74130744]\n",
      " [0.83822111 0.88967725 0.76679865 ... 0.81956378 0.83207606 0.76837742]\n",
      " [0.84843771 0.70941722 0.67795293 ... 0.76561665 0.73315086 0.78214288]\n",
      " ...\n",
      " [0.93665678 0.85297703 0.70973716 ... 1.01461444 0.73729604 0.81159876]\n",
      " [0.87981319 0.70945532 0.83266282 ... 0.88009208 0.83405424 0.78125423]\n",
      " [0.91097044 0.85381081 0.88053356 ... 0.82011364 0.81769613 0.86457689]]\n",
      "(10, 358)\n"
     ]
    }
   ],
   "source": [
    "print(lda_model.components_)\n",
    "print(lda_model.components_.shape)  # (no_of_topics*no_of_words)"
   ]
  },
  {
   "cell_type": "markdown",
   "metadata": {
    "_uuid": "8bf169b07cefbe2cd8e36bc1e2bd65ca7c398374",
    "id": "NoEr9qt1jgsM"
   },
   "source": [
    "#### Most important words for a topic. (say 10 this time.)"
   ]
  },
  {
   "cell_type": "code",
   "execution_count": 95,
   "metadata": {
    "_uuid": "5c13c5563657ac5103a33615272320065542fb40",
    "id": "hKJHM0C-l0an",
    "outputId": "09fc0532-8444-42aa-85fa-a986ed72ee04"
   },
   "outputs": [
    {
     "name": "stdout",
     "output_type": "stream",
     "text": [
      "Topic 0: \n",
      "intelligent kabupaten industri trunojoyo pemilihan olahraga electre pendukung klasifikasi keputusan \n",
      "\n",
      "Topic 1: \n",
      "klasifikasi proses evaluasi arsip microsoft run android penilaian anggaran level \n",
      "\n",
      "Topic 2: \n",
      "pekerja finite rancang ii kejuruan arsitektur mining rule sawah ebusiness \n",
      "\n",
      "Topic 3: \n",
      "unggulan android aplikasi ltsa kamus smp informatika technique rancang sistem \n",
      "\n",
      "Topic 4: \n",
      "metho arsip rute akademik alphabet gps gizi linear phonics pemetaan \n",
      "\n",
      "Topic 5: \n",
      "service citra dosen pengolahan darah modified regresi leukemia simple pemerataan \n",
      "\n",
      "Topic 6: \n",
      "fakultas game correlation pemanfaatan pengambilan teknik madura pendataan knearest stkip \n",
      "\n",
      "Topic 7: \n",
      "kompetensi stkip penerima menengah translation edukasi tracking speech ahp time \n",
      "\n",
      "Topic 8: \n",
      "trunojoyo pembelajaran euclidean pertanian rancang aksesoris chain mobile tes gerak \n",
      "\n",
      "Topic 9: \n",
      "linear man coefficient media slamet metode pemerataan tulisan putih mdf \n",
      "\n"
     ]
    }
   ],
   "source": [
    "# most important words for each topic\n",
    "vocab = vect.get_feature_names_out()\n",
    "\n",
    "for i, comp in enumerate(lda_model.components_):\n",
    "    vocab_comp = zip(vocab, comp)\n",
    "    sorted_words = sorted(vocab_comp, key= lambda x:x[1], reverse=True)[:10]\n",
    "    print(\"Topic \"+str(i)+\": \")\n",
    "    for t in sorted_words:\n",
    "        print(t[0],end=\" \")\n",
    "    print(\"\\n\")"
   ]
  },
  {
   "cell_type": "code",
   "execution_count": 29,
   "metadata": {
    "_uuid": "a094d2d6e95dc236b2bd3d70c69d1b3767cb4cea"
   },
   "outputs": [],
   "source": []
  },
  {
   "cell_type": "markdown",
   "metadata": {
    "_uuid": "854f0eb88cf78923db8137a2f41581eb9bbd5592"
   },
   "source": [
    "#### To better visualize words in a topic we can see the word cloud. For each topic top 50 words are plotted."
   ]
  },
  {
   "cell_type": "code",
   "execution_count": 96,
   "metadata": {
    "_uuid": "5221ae4de021107ef757b87d45053460e50582c8",
    "id": "_ac73PUhmZmn"
   },
   "outputs": [],
   "source": [
    "from wordcloud import WordCloud\n",
    "# Generate a word cloud image for given topic\n",
    "def draw_word_cloud(index):\n",
    "  imp_words_topic=\"\"\n",
    "  comp=lda_model.components_[index]\n",
    "  vocab_comp = zip(vocab, comp)\n",
    "  sorted_words = sorted(vocab_comp, key= lambda x:x[1], reverse=True)[:50]\n",
    "  for word in sorted_words:\n",
    "    imp_words_topic=imp_words_topic+\" \"+word[0]\n",
    "\n",
    "  wordcloud = WordCloud(width=600, height=400).generate(imp_words_topic)\n",
    "  plt.figure( figsize=(5,5))\n",
    "  plt.imshow(wordcloud)\n",
    "  plt.axis(\"off\")\n",
    "  plt.tight_layout()\n",
    "  plt.show()\n",
    " "
   ]
  },
  {
   "cell_type": "code",
   "execution_count": 97,
   "metadata": {
    "_uuid": "e5246db8bb1b751a1f3b96bb65d4da9e34dfc2ba",
    "id": "-tD4nZdRqnAk",
    "outputId": "8257c45d-92b5-4472-da45-864aaf803915"
   },
   "outputs": [
    {
     "data": {
      "image/png": "[encoded data removed]",
      "text/plain": [
       "<Figure size 360x360 with 1 Axes>"
      ]
     },
     "metadata": {},
     "output_type": "display_data"
    }
   ],
   "source": [
    "# topic 0\n",
    "draw_word_cloud(0)\n"
   ]
  },
  {
   "cell_type": "code",
   "execution_count": 98,
   "metadata": {
    "_uuid": "74872c17b12680171090690f62ce77019e03ef52",
    "id": "Jz_zGbSws1ns",
    "outputId": "5289432c-61fb-48ec-df58-d28d383ea08d"
   },
   "outputs": [
    {
     "data": {
      "image/png": "[encoded data removed]",
      "text/plain": [
       "<Figure size 360x360 with 1 Axes>"
      ]
     },
     "metadata": {},
     "output_type": "display_data"
    }
   ],
   "source": [
    "# topic 1\n",
    "draw_word_cloud(1)  # ..."
   ]
  },
  {
   "cell_type": "code",
   "execution_count": 32,
   "metadata": {
    "_uuid": "a71cd3aa1fa1834f11023bbd98a0a4b558f5b8c7",
    "id": "gkhvmGMds6BV"
   },
   "outputs": [],
   "source": []
  },
  {
   "cell_type": "markdown",
   "metadata": {
    "_uuid": "2e5a0755a89a138ba157a57502bb6f6d8df8577a"
   },
   "source": [
    "## THE END !!!"
   ]
  },
  {
   "cell_type": "markdown",
   "metadata": {
    "_uuid": "bae1e1f367c3c9b3ebc8b60bc5c3568c131fb1d9"
   },
   "source": [
    "## [Please star/upvote in case u liked it. ]"
   ]
  },
  {
   "cell_type": "code",
   "execution_count": 32,
   "metadata": {
    "_uuid": "220f0c0b4fc78848f66ee48aa11b91c3f3f7838a"
   },
   "outputs": [],
   "source": []
  }
 ],
 "metadata": {
  "kernelspec": {
   "display_name": "Python 3",
   "language": "python",
   "name": "python3"
  },
  "language_info": {
   "codemirror_mode": {
    "name": "ipython",
    "version": 3
   },
   "file_extension": ".py",
   "mimetype": "text/x-python",
   "name": "python",
   "nbconvert_exporter": "python",
   "pygments_lexer": "ipython3",
   "version": "3.8.10"
  }
 },
 "nbformat": 4,
 "nbformat_minor": 4
}
