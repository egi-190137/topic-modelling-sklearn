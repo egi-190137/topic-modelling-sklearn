{
 "cells": [
  {
   "cell_type": "markdown",
   "id": "cd2245a6",
   "metadata": {},
   "source": [
    "# Import Library"
   ]
  },
  {
   "cell_type": "code",
   "execution_count": 1,
   "id": "b1858f4a-a7c6-42fb-b878-c0e72101021d",
   "metadata": {},
   "outputs": [
    {
     "name": "stdout",
     "output_type": "stream",
     "text": [
      "/usr/lib/python3/dist-packages/secretstorage/dhcrypto.py:15: CryptographyDeprecationWarning: int_from_bytes is deprecated, use int.from_bytes instead\r\n",
      "  from cryptography.utils import int_from_bytes\r\n",
      "/usr/lib/python3/dist-packages/secretstorage/util.py:19: CryptographyDeprecationWarning: int_from_bytes is deprecated, use int.from_bytes instead\r\n",
      "  from cryptography.utils import int_from_bytes\r\n"
     ]
    },
    {
     "name": "stdout",
     "output_type": "stream",
     "text": [
      "Requirement already satisfied: PySastrawi in /home/egiputra/.local/lib/python3.8/site-packages (1.2.0)\r\n"
     ]
    }
   ],
   "source": [
    "# Install library Sastrawi\n",
    "!pip install PySastrawi"
   ]
  },
  {
   "cell_type": "code",
   "execution_count": 2,
   "id": "b7a3d23e-9a76-4901-b33d-a42983b6f877",
   "metadata": {
    "id": "b7a3d23e-9a76-4901-b33d-a42983b6f877"
   },
   "outputs": [],
   "source": [
    "import pandas as pd  \n",
    "from Sastrawi.Stemmer.StemmerFactory import StemmerFactory\n",
    "from Sastrawi.StopWordRemover.StopWordRemoverFactory import StopWordRemoverFactory\n",
    "import re\n",
    "import string\n",
    "from sklearn.feature_extraction.text import CountVectorizer\n",
    "from sklearn.preprocessing import LabelBinarizer\n",
    "from sklearn.feature_selection import SelectKBest, chi2\n",
    "import numpy as np"
   ]
  },
  {
   "cell_type": "markdown",
   "id": "56dad0d2-b55e-4769-8e79-662bb34c2c70",
   "metadata": {},
   "source": [
    "# Membaca data hasil crawling"
   ]
  },
  {
   "cell_type": "code",
   "execution_count": 3,
   "id": "8036a214-10e7-440a-a848-150d838d8310",
   "metadata": {
    "colab": {
     "base_uri": "https://localhost:8080/"
    },
    "id": "8036a214-10e7-440a-a848-150d838d8310",
    "outputId": "e9a96183-6fe0-420e-9bf3-685496434319",
    "scrolled": true,
    "tags": []
   },
   "outputs": [
    {
     "ename": "FileNotFoundError",
     "evalue": "[Errno 2] No such file or directory: 'dataset_PTA.csv'",
     "output_type": "error",
     "traceback": [
      "\u001b[0;31m---------------------------------------------------------------------------\u001b[0m",
      "\u001b[0;31mFileNotFoundError\u001b[0m                         Traceback (most recent call last)",
      "\u001b[0;32m/tmp/ipykernel_5808/2259267642.py\u001b[0m in \u001b[0;36m<module>\u001b[0;34m\u001b[0m\n\u001b[0;32m----> 1\u001b[0;31m \u001b[0mdata\u001b[0m \u001b[0;34m=\u001b[0m \u001b[0mpd\u001b[0m\u001b[0;34m.\u001b[0m\u001b[0mread_csv\u001b[0m\u001b[0;34m(\u001b[0m\u001b[0;34m'dataset_PTA.csv'\u001b[0m\u001b[0;34m)\u001b[0m\u001b[0;34m\u001b[0m\u001b[0;34m\u001b[0m\u001b[0m\n\u001b[0m\u001b[1;32m      2\u001b[0m \u001b[0mdata\u001b[0m\u001b[0;34m.\u001b[0m\u001b[0mhead\u001b[0m\u001b[0;34m(\u001b[0m\u001b[0;34m)\u001b[0m\u001b[0;34m\u001b[0m\u001b[0;34m\u001b[0m\u001b[0m\n",
      "\u001b[0;32m~/.local/lib/python3.8/site-packages/pandas/util/_decorators.py\u001b[0m in \u001b[0;36mwrapper\u001b[0;34m(*args, **kwargs)\u001b[0m\n\u001b[1;32m    309\u001b[0m                     \u001b[0mstacklevel\u001b[0m\u001b[0;34m=\u001b[0m\u001b[0mstacklevel\u001b[0m\u001b[0;34m,\u001b[0m\u001b[0;34m\u001b[0m\u001b[0;34m\u001b[0m\u001b[0m\n\u001b[1;32m    310\u001b[0m                 )\n\u001b[0;32m--> 311\u001b[0;31m             \u001b[0;32mreturn\u001b[0m \u001b[0mfunc\u001b[0m\u001b[0;34m(\u001b[0m\u001b[0;34m*\u001b[0m\u001b[0margs\u001b[0m\u001b[0;34m,\u001b[0m \u001b[0;34m**\u001b[0m\u001b[0mkwargs\u001b[0m\u001b[0;34m)\u001b[0m\u001b[0;34m\u001b[0m\u001b[0;34m\u001b[0m\u001b[0m\n\u001b[0m\u001b[1;32m    312\u001b[0m \u001b[0;34m\u001b[0m\u001b[0m\n\u001b[1;32m    313\u001b[0m         \u001b[0;32mreturn\u001b[0m \u001b[0mwrapper\u001b[0m\u001b[0;34m\u001b[0m\u001b[0;34m\u001b[0m\u001b[0m\n",
      "\u001b[0;32m~/.local/lib/python3.8/site-packages/pandas/io/parsers/readers.py\u001b[0m in \u001b[0;36mread_csv\u001b[0;34m(filepath_or_buffer, sep, delimiter, header, names, index_col, usecols, squeeze, prefix, mangle_dupe_cols, dtype, engine, converters, true_values, false_values, skipinitialspace, skiprows, skipfooter, nrows, na_values, keep_default_na, na_filter, verbose, skip_blank_lines, parse_dates, infer_datetime_format, keep_date_col, date_parser, dayfirst, cache_dates, iterator, chunksize, compression, thousands, decimal, lineterminator, quotechar, quoting, doublequote, escapechar, comment, encoding, encoding_errors, dialect, error_bad_lines, warn_bad_lines, on_bad_lines, delim_whitespace, low_memory, memory_map, float_precision, storage_options)\u001b[0m\n\u001b[1;32m    678\u001b[0m     \u001b[0mkwds\u001b[0m\u001b[0;34m.\u001b[0m\u001b[0mupdate\u001b[0m\u001b[0;34m(\u001b[0m\u001b[0mkwds_defaults\u001b[0m\u001b[0;34m)\u001b[0m\u001b[0;34m\u001b[0m\u001b[0;34m\u001b[0m\u001b[0m\n\u001b[1;32m    679\u001b[0m \u001b[0;34m\u001b[0m\u001b[0m\n\u001b[0;32m--> 680\u001b[0;31m     \u001b[0;32mreturn\u001b[0m \u001b[0m_read\u001b[0m\u001b[0;34m(\u001b[0m\u001b[0mfilepath_or_buffer\u001b[0m\u001b[0;34m,\u001b[0m \u001b[0mkwds\u001b[0m\u001b[0;34m)\u001b[0m\u001b[0;34m\u001b[0m\u001b[0;34m\u001b[0m\u001b[0m\n\u001b[0m\u001b[1;32m    681\u001b[0m \u001b[0;34m\u001b[0m\u001b[0m\n\u001b[1;32m    682\u001b[0m \u001b[0;34m\u001b[0m\u001b[0m\n",
      "\u001b[0;32m~/.local/lib/python3.8/site-packages/pandas/io/parsers/readers.py\u001b[0m in \u001b[0;36m_read\u001b[0;34m(filepath_or_buffer, kwds)\u001b[0m\n\u001b[1;32m    573\u001b[0m \u001b[0;34m\u001b[0m\u001b[0m\n\u001b[1;32m    574\u001b[0m     \u001b[0;31m# Create the parser.\u001b[0m\u001b[0;34m\u001b[0m\u001b[0;34m\u001b[0m\u001b[0;34m\u001b[0m\u001b[0m\n\u001b[0;32m--> 575\u001b[0;31m     \u001b[0mparser\u001b[0m \u001b[0;34m=\u001b[0m \u001b[0mTextFileReader\u001b[0m\u001b[0;34m(\u001b[0m\u001b[0mfilepath_or_buffer\u001b[0m\u001b[0;34m,\u001b[0m \u001b[0;34m**\u001b[0m\u001b[0mkwds\u001b[0m\u001b[0;34m)\u001b[0m\u001b[0;34m\u001b[0m\u001b[0;34m\u001b[0m\u001b[0m\n\u001b[0m\u001b[1;32m    576\u001b[0m \u001b[0;34m\u001b[0m\u001b[0m\n\u001b[1;32m    577\u001b[0m     \u001b[0;32mif\u001b[0m \u001b[0mchunksize\u001b[0m \u001b[0;32mor\u001b[0m \u001b[0miterator\u001b[0m\u001b[0;34m:\u001b[0m\u001b[0;34m\u001b[0m\u001b[0;34m\u001b[0m\u001b[0m\n",
      "\u001b[0;32m~/.local/lib/python3.8/site-packages/pandas/io/parsers/readers.py\u001b[0m in \u001b[0;36m__init__\u001b[0;34m(self, f, engine, **kwds)\u001b[0m\n\u001b[1;32m    931\u001b[0m \u001b[0;34m\u001b[0m\u001b[0m\n\u001b[1;32m    932\u001b[0m         \u001b[0mself\u001b[0m\u001b[0;34m.\u001b[0m\u001b[0mhandles\u001b[0m\u001b[0;34m:\u001b[0m \u001b[0mIOHandles\u001b[0m \u001b[0;34m|\u001b[0m \u001b[0;32mNone\u001b[0m \u001b[0;34m=\u001b[0m \u001b[0;32mNone\u001b[0m\u001b[0;34m\u001b[0m\u001b[0;34m\u001b[0m\u001b[0m\n\u001b[0;32m--> 933\u001b[0;31m         \u001b[0mself\u001b[0m\u001b[0;34m.\u001b[0m\u001b[0m_engine\u001b[0m \u001b[0;34m=\u001b[0m \u001b[0mself\u001b[0m\u001b[0;34m.\u001b[0m\u001b[0m_make_engine\u001b[0m\u001b[0;34m(\u001b[0m\u001b[0mf\u001b[0m\u001b[0;34m,\u001b[0m \u001b[0mself\u001b[0m\u001b[0;34m.\u001b[0m\u001b[0mengine\u001b[0m\u001b[0;34m)\u001b[0m\u001b[0;34m\u001b[0m\u001b[0;34m\u001b[0m\u001b[0m\n\u001b[0m\u001b[1;32m    934\u001b[0m \u001b[0;34m\u001b[0m\u001b[0m\n\u001b[1;32m    935\u001b[0m     \u001b[0;32mdef\u001b[0m \u001b[0mclose\u001b[0m\u001b[0;34m(\u001b[0m\u001b[0mself\u001b[0m\u001b[0;34m)\u001b[0m\u001b[0;34m:\u001b[0m\u001b[0;34m\u001b[0m\u001b[0;34m\u001b[0m\u001b[0m\n",
      "\u001b[0;32m~/.local/lib/python3.8/site-packages/pandas/io/parsers/readers.py\u001b[0m in \u001b[0;36m_make_engine\u001b[0;34m(self, f, engine)\u001b[0m\n\u001b[1;32m   1215\u001b[0m             \u001b[0;31m# \"Union[str, PathLike[str], ReadCsvBuffer[bytes], ReadCsvBuffer[str]]\"\u001b[0m\u001b[0;34m\u001b[0m\u001b[0;34m\u001b[0m\u001b[0;34m\u001b[0m\u001b[0m\n\u001b[1;32m   1216\u001b[0m             \u001b[0;31m# , \"str\", \"bool\", \"Any\", \"Any\", \"Any\", \"Any\", \"Any\"\u001b[0m\u001b[0;34m\u001b[0m\u001b[0;34m\u001b[0m\u001b[0;34m\u001b[0m\u001b[0m\n\u001b[0;32m-> 1217\u001b[0;31m             self.handles = get_handle(  # type: ignore[call-overload]\n\u001b[0m\u001b[1;32m   1218\u001b[0m                 \u001b[0mf\u001b[0m\u001b[0;34m,\u001b[0m\u001b[0;34m\u001b[0m\u001b[0;34m\u001b[0m\u001b[0m\n\u001b[1;32m   1219\u001b[0m                 \u001b[0mmode\u001b[0m\u001b[0;34m,\u001b[0m\u001b[0;34m\u001b[0m\u001b[0;34m\u001b[0m\u001b[0m\n",
      "\u001b[0;32m~/.local/lib/python3.8/site-packages/pandas/io/common.py\u001b[0m in \u001b[0;36mget_handle\u001b[0;34m(path_or_buf, mode, encoding, compression, memory_map, is_text, errors, storage_options)\u001b[0m\n\u001b[1;32m    787\u001b[0m         \u001b[0;32mif\u001b[0m \u001b[0mioargs\u001b[0m\u001b[0;34m.\u001b[0m\u001b[0mencoding\u001b[0m \u001b[0;32mand\u001b[0m \u001b[0;34m\"b\"\u001b[0m \u001b[0;32mnot\u001b[0m \u001b[0;32min\u001b[0m \u001b[0mioargs\u001b[0m\u001b[0;34m.\u001b[0m\u001b[0mmode\u001b[0m\u001b[0;34m:\u001b[0m\u001b[0;34m\u001b[0m\u001b[0;34m\u001b[0m\u001b[0m\n\u001b[1;32m    788\u001b[0m             \u001b[0;31m# Encoding\u001b[0m\u001b[0;34m\u001b[0m\u001b[0;34m\u001b[0m\u001b[0;34m\u001b[0m\u001b[0m\n\u001b[0;32m--> 789\u001b[0;31m             handle = open(\n\u001b[0m\u001b[1;32m    790\u001b[0m                 \u001b[0mhandle\u001b[0m\u001b[0;34m,\u001b[0m\u001b[0;34m\u001b[0m\u001b[0;34m\u001b[0m\u001b[0m\n\u001b[1;32m    791\u001b[0m                 \u001b[0mioargs\u001b[0m\u001b[0;34m.\u001b[0m\u001b[0mmode\u001b[0m\u001b[0;34m,\u001b[0m\u001b[0;34m\u001b[0m\u001b[0;34m\u001b[0m\u001b[0m\n",
      "\u001b[0;31mFileNotFoundError\u001b[0m: [Errno 2] No such file or directory: 'dataset_PTA.csv'"
     ]
    }
   ],
   "source": [
    "data = pd.read_csv('dataset_PTA.csv')\n",
    "data.head()"
   ]
  },
  {
   "cell_type": "code",
   "execution_count": 4,
   "id": "3e2b7a6b-8743-4e1d-a490-02b158c5221e",
   "metadata": {},
   "outputs": [
    {
     "data": {
      "text/plain": [
       "(60, 3)"
      ]
     },
     "execution_count": 4,
     "metadata": {},
     "output_type": "execute_result"
    }
   ],
   "source": [
    "data.shape"
   ]
  },
  {
   "cell_type": "code",
   "execution_count": 5,
   "id": "3958ea0d-e84d-4e5c-bbe4-daabaccbe095",
   "metadata": {},
   "outputs": [],
   "source": [
    "# Inisialisasi label (Bidang Minat) ke dalam array\n",
    "y = [ y[0] for y in data.iloc[:, [2]].values ]"
   ]
  },
  {
   "cell_type": "code",
   "execution_count": 6,
   "id": "5bd5ceff-997a-4272-bd02-980f3c5ef3d7",
   "metadata": {},
   "outputs": [
    {
     "name": "stdout",
     "output_type": "stream",
     "text": [
      "['CAI', 'RPL', 'RPL', 'CAI', 'CAI', 'RPL', 'CAI', 'CAI', 'CAI', 'CAI', 'RPL', 'CAI', 'RPL', 'RPL', 'CAI', 'CAI', 'CAI', 'CAI', 'CAI', 'CAI', 'RPL', 'CAI', 'CAI', 'RPL', 'CAI', 'CAI', 'RPL', 'RPL', 'CAI', 'RPL', 'RPL', 'CAI', 'RPL', 'RPL', 'RPL', 'RPL', 'CAI', 'RPL', 'RPL', 'RPL', 'CAI', 'RPL', 'CAI', 'CAI', 'RPL', 'RPL', 'RPL', 'RPL', 'RPL', 'CAI', 'RPL', 'RPL', 'RPL', 'RPL', 'RPL', 'CAI', 'CAI', 'RPL', 'CAI', 'RPL']\n"
     ]
    }
   ],
   "source": [
    "print(y)"
   ]
  },
  {
   "cell_type": "code",
   "execution_count": 7,
   "id": "e972f224-e5b2-46f2-b46d-b8cec5879cb4",
   "metadata": {},
   "outputs": [],
   "source": [
    "# Inisialisasi abstraksi ke dalam array\n",
    "x = [ w[0] for w in data.iloc[:, [1]].values ]"
   ]
  },
  {
   "cell_type": "code",
   "execution_count": 8,
   "id": "f3a1d8ba-304c-46e9-936e-3423d4c4bc6e",
   "metadata": {},
   "outputs": [
    {
     "data": {
      "text/plain": [
       "'Gerak pekerja ada pada game yang memiliki genre RTS (Real-Time Strategy). Gerak pekerja memiliki berbagai macam gerak. Oleh sebab itu dibutuhkan sebuah pendekatan konsep AI  untuk mendesain perilaku pekerja tersebut. Perilaku karakter tersebut harus ditambahi dengan AI (Artifical intelegent) agar perilakunya menjadi lebih hidup dan realistis.\\nDalam penelitian ini AI yang digunakan adalah Finite State Machine. Finite State Machine digunakan untuk menentukan gerak pekerja terhadap parameter-parameter yang digunakan sebagai dasar gerak yang akan dilakukan . Selanjutnya akan disimulasikan pada game RTS dengan menggunakan game engine.\\nHasil yang di peroleh dalam penelitian ini adalah penerapan metode Finite State machine untuk menentukan gerak pekerja berdasarkan parameter jumlah harta, prajurit, kondisi bangunan, dan stockpile (jumlah resources yang di bawa). \\n\\nKata kunci : Game, Real-Time Strategy, Gerak Pekerja, Finite State Machine.\\n'"
      ]
     },
     "execution_count": 8,
     "metadata": {},
     "output_type": "execute_result"
    }
   ],
   "source": [
    "x[0]"
   ]
  },
  {
   "cell_type": "markdown",
   "id": "972c9992-442a-4415-afd7-f404a5dfc30f",
   "metadata": {},
   "source": [
    "# Preprocessing Data Teks"
   ]
  },
  {
   "cell_type": "markdown",
   "id": "1ddfedf3-1ec0-43cf-93a8-d9657ce875ad",
   "metadata": {},
   "source": [
    "## Case Folding dan menghapus karakter yang tidak diperlukan"
   ]
  },
  {
   "cell_type": "code",
   "execution_count": 9,
   "id": "04188370-8758-466a-8d45-c12965a164f8",
   "metadata": {
    "colab": {
     "base_uri": "https://localhost:8080/"
    },
    "id": "04188370-8758-466a-8d45-c12965a164f8",
    "outputId": "c242fd99-78eb-45a5-b82a-c394a33331a6"
   },
   "outputs": [],
   "source": [
    "for i in range(len(x)):\n",
    "    # Mengubah teks menjadi lowercase\n",
    "    x[i] = x[i].lower()\n",
    "    \n",
    "    # Menghapus angka\n",
    "    x[i] = re.sub(r\"\\d+\", \"\", x[i])\n",
    "    \n",
    "    # Menghapus white space\n",
    "    x[i] = x[i].strip()\n",
    "    \n",
    "    # Menghapus tanda baca\n",
    "    x[i] = x[i].translate(str.maketrans(\"\",\"\",string.punctuation))"
   ]
  },
  {
   "cell_type": "code",
   "execution_count": 10,
   "id": "67707c5e-0ccc-4049-88fd-8914a197c938",
   "metadata": {},
   "outputs": [
    {
     "data": {
      "text/plain": [
       "'gerak pekerja ada pada game yang memiliki genre rts realtime strategy gerak pekerja memiliki berbagai macam gerak oleh sebab itu dibutuhkan sebuah pendekatan konsep ai  untuk mendesain perilaku pekerja tersebut perilaku karakter tersebut harus ditambahi dengan ai artifical intelegent agar perilakunya menjadi lebih hidup dan realistis\\ndalam penelitian ini ai yang digunakan adalah finite state machine finite state machine digunakan untuk menentukan gerak pekerja terhadap parameterparameter yang digunakan sebagai dasar gerak yang akan dilakukan  selanjutnya akan disimulasikan pada game rts dengan menggunakan game engine\\nhasil yang di peroleh dalam penelitian ini adalah penerapan metode finite state machine untuk menentukan gerak pekerja berdasarkan parameter jumlah harta prajurit kondisi bangunan dan stockpile jumlah resources yang di bawa \\n\\nkata kunci  game realtime strategy gerak pekerja finite state machine'"
      ]
     },
     "execution_count": 10,
     "metadata": {},
     "output_type": "execute_result"
    }
   ],
   "source": [
    "x[0]"
   ]
  },
  {
   "cell_type": "markdown",
   "id": "5e8b5f11-f582-4afc-bedc-a59b35e7c656",
   "metadata": {},
   "source": [
    "## Stemming dan stopwords removal menggunakan Sastrawi"
   ]
  },
  {
   "cell_type": "code",
   "execution_count": 11,
   "id": "5b1ea5c5-7f7a-4bbe-b54c-3fa84b00b7b5",
   "metadata": {},
   "outputs": [],
   "source": [
    "# create stemmer\n",
    "factory = StemmerFactory()\n",
    "stemmer = factory.create_stemmer()\n",
    "\n",
    "# Create stopwordremover\n",
    "factory = StopWordRemoverFactory()\n",
    "stopword = factory.create_stop_word_remover()\n",
    "\n",
    "for i in range(len(x)):\n",
    "    # Stemming\n",
    "    x[i] = stemmer.stem(x[i])\n",
    "    \n",
    "    # Hapus Stopword\n",
    "    x[i] = stopword.remove(x[i])"
   ]
  },
  {
   "cell_type": "code",
   "execution_count": 12,
   "id": "e56af5fa-865d-4552-aa36-71fc19d3a1f1",
   "metadata": {},
   "outputs": [
    {
     "data": {
      "text/plain": [
       "'gerak game milik genre rts realtime strategy gerak milik gerak butuh buah konsep ai desain perilaku perilaku karakter ai artifical intelegent perilaku hidup realistis teliti ai finite state machine finite state machine gerak parameterparameter dasar gerak simulasi game rts game engine hasil teliti terap metode finite state machine gerak dasar parameter harta prajurit kondisi bangun stockpile resources bawa kunci game realtime strategy gerak finite state machine'"
      ]
     },
     "execution_count": 12,
     "metadata": {},
     "output_type": "execute_result"
    }
   ],
   "source": [
    "x[0]"
   ]
  },
  {
   "cell_type": "code",
   "execution_count": 13,
   "id": "546fc47b-65c2-4875-afab-361b8fd94188",
   "metadata": {
    "colab": {
     "base_uri": "https://localhost:8080/"
    },
    "id": "546fc47b-65c2-4875-afab-361b8fd94188",
    "outputId": "b09324c1-f3ec-4451-988b-e32bacd47bbb"
   },
   "outputs": [
    {
     "data": {
      "text/html": [
       "<div>\n",
       "<style scoped>\n",
       "    .dataframe tbody tr th:only-of-type {\n",
       "        vertical-align: middle;\n",
       "    }\n",
       "\n",
       "    .dataframe tbody tr th {\n",
       "        vertical-align: top;\n",
       "    }\n",
       "\n",
       "    .dataframe thead th {\n",
       "        text-align: right;\n",
       "    }\n",
       "</style>\n",
       "<table border=\"1\" class=\"dataframe\">\n",
       "  <thead>\n",
       "    <tr style=\"text-align: right;\">\n",
       "      <th></th>\n",
       "      <th>abstrak</th>\n",
       "      <th>actor</th>\n",
       "      <th>acu</th>\n",
       "      <th>acute</th>\n",
       "      <th>adadari</th>\n",
       "      <th>adaptive</th>\n",
       "      <th>adat</th>\n",
       "      <th>addie</th>\n",
       "      <th>additive</th>\n",
       "      <th>adm</th>\n",
       "      <th>...</th>\n",
       "      <th>weighting</th>\n",
       "      <th>weights</th>\n",
       "      <th>weightsaw</th>\n",
       "      <th>wewenangannya</th>\n",
       "      <th>wiener</th>\n",
       "      <th>wilayah</th>\n",
       "      <th>winqsb</th>\n",
       "      <th>wisatawan</th>\n",
       "      <th>workshop</th>\n",
       "      <th>xbox</th>\n",
       "    </tr>\n",
       "  </thead>\n",
       "  <tbody>\n",
       "    <tr>\n",
       "      <th>0</th>\n",
       "      <td>0</td>\n",
       "      <td>0</td>\n",
       "      <td>0</td>\n",
       "      <td>0</td>\n",
       "      <td>0</td>\n",
       "      <td>0</td>\n",
       "      <td>0</td>\n",
       "      <td>0</td>\n",
       "      <td>0</td>\n",
       "      <td>0</td>\n",
       "      <td>...</td>\n",
       "      <td>0</td>\n",
       "      <td>0</td>\n",
       "      <td>0</td>\n",
       "      <td>0</td>\n",
       "      <td>0</td>\n",
       "      <td>0</td>\n",
       "      <td>0</td>\n",
       "      <td>0</td>\n",
       "      <td>0</td>\n",
       "      <td>0</td>\n",
       "    </tr>\n",
       "    <tr>\n",
       "      <th>1</th>\n",
       "      <td>0</td>\n",
       "      <td>0</td>\n",
       "      <td>0</td>\n",
       "      <td>0</td>\n",
       "      <td>0</td>\n",
       "      <td>0</td>\n",
       "      <td>0</td>\n",
       "      <td>0</td>\n",
       "      <td>0</td>\n",
       "      <td>2</td>\n",
       "      <td>...</td>\n",
       "      <td>0</td>\n",
       "      <td>0</td>\n",
       "      <td>0</td>\n",
       "      <td>0</td>\n",
       "      <td>0</td>\n",
       "      <td>0</td>\n",
       "      <td>0</td>\n",
       "      <td>0</td>\n",
       "      <td>0</td>\n",
       "      <td>0</td>\n",
       "    </tr>\n",
       "    <tr>\n",
       "      <th>2</th>\n",
       "      <td>0</td>\n",
       "      <td>0</td>\n",
       "      <td>0</td>\n",
       "      <td>0</td>\n",
       "      <td>0</td>\n",
       "      <td>0</td>\n",
       "      <td>0</td>\n",
       "      <td>0</td>\n",
       "      <td>0</td>\n",
       "      <td>0</td>\n",
       "      <td>...</td>\n",
       "      <td>0</td>\n",
       "      <td>0</td>\n",
       "      <td>0</td>\n",
       "      <td>0</td>\n",
       "      <td>0</td>\n",
       "      <td>0</td>\n",
       "      <td>0</td>\n",
       "      <td>0</td>\n",
       "      <td>0</td>\n",
       "      <td>0</td>\n",
       "    </tr>\n",
       "    <tr>\n",
       "      <th>3</th>\n",
       "      <td>0</td>\n",
       "      <td>0</td>\n",
       "      <td>0</td>\n",
       "      <td>0</td>\n",
       "      <td>0</td>\n",
       "      <td>0</td>\n",
       "      <td>0</td>\n",
       "      <td>0</td>\n",
       "      <td>0</td>\n",
       "      <td>0</td>\n",
       "      <td>...</td>\n",
       "      <td>0</td>\n",
       "      <td>0</td>\n",
       "      <td>0</td>\n",
       "      <td>0</td>\n",
       "      <td>0</td>\n",
       "      <td>0</td>\n",
       "      <td>0</td>\n",
       "      <td>0</td>\n",
       "      <td>0</td>\n",
       "      <td>0</td>\n",
       "    </tr>\n",
       "    <tr>\n",
       "      <th>4</th>\n",
       "      <td>0</td>\n",
       "      <td>0</td>\n",
       "      <td>0</td>\n",
       "      <td>0</td>\n",
       "      <td>0</td>\n",
       "      <td>0</td>\n",
       "      <td>0</td>\n",
       "      <td>0</td>\n",
       "      <td>0</td>\n",
       "      <td>0</td>\n",
       "      <td>...</td>\n",
       "      <td>0</td>\n",
       "      <td>0</td>\n",
       "      <td>0</td>\n",
       "      <td>0</td>\n",
       "      <td>0</td>\n",
       "      <td>0</td>\n",
       "      <td>0</td>\n",
       "      <td>0</td>\n",
       "      <td>0</td>\n",
       "      <td>0</td>\n",
       "    </tr>\n",
       "  </tbody>\n",
       "</table>\n",
       "<p>5 rows × 1336 columns</p>\n",
       "</div>"
      ],
      "text/plain": [
       "   abstrak  actor  acu  acute  adadari  adaptive  adat  addie  additive  adm  \\\n",
       "0        0      0    0      0        0         0     0      0         0    0   \n",
       "1        0      0    0      0        0         0     0      0         0    2   \n",
       "2        0      0    0      0        0         0     0      0         0    0   \n",
       "3        0      0    0      0        0         0     0      0         0    0   \n",
       "4        0      0    0      0        0         0     0      0         0    0   \n",
       "\n",
       "   ...  weighting  weights  weightsaw  wewenangannya  wiener  wilayah  winqsb  \\\n",
       "0  ...          0        0          0              0       0        0       0   \n",
       "1  ...          0        0          0              0       0        0       0   \n",
       "2  ...          0        0          0              0       0        0       0   \n",
       "3  ...          0        0          0              0       0        0       0   \n",
       "4  ...          0        0          0              0       0        0       0   \n",
       "\n",
       "   wisatawan  workshop  xbox  \n",
       "0          0         0     0  \n",
       "1          0         0     0  \n",
       "2          0         0     0  \n",
       "3          0         0     0  \n",
       "4          0         0     0  \n",
       "\n",
       "[5 rows x 1336 columns]"
      ]
     },
     "execution_count": 13,
     "metadata": {},
     "output_type": "execute_result"
    }
   ],
   "source": [
    "vect = CountVectorizer()\n",
    "\n",
    "data_tf = vect.fit_transform(x)\n",
    "data_tf = data_tf.toarray()\n",
    "\n",
    "x_dtm = pd.DataFrame(data_tf, columns = vect.get_feature_names_out())\n",
    "x_dtm.head()"
   ],
   "tags": [
    "output_scroll"
   ]
  },
  {
   "cell_type": "markdown",
   "id": "33d208be-bb28-4a7e-9af4-0f50c06549d8",
   "metadata": {},
   "source": [
    "# Seleksi Fitur"
   ]
  },
  {
   "cell_type": "markdown",
   "id": "b433ba0d-0dd8-4f50-bdc9-cd018aa8078d",
   "metadata": {},
   "source": [
    "## Menghitung nilai chi-square manual"
   ]
  },
  {
   "cell_type": "code",
   "execution_count": 14,
   "id": "a8ef8709-b2b0-4c4d-b0fe-c9ffcc952a41",
   "metadata": {},
   "outputs": [
    {
     "name": "stdout",
     "output_type": "stream",
     "text": [
      "[[0 1 1 0 0 1 0 0 0 0 1 0 1 1 0 0 0 0 0 0 1 0 0 1 0 0 1 1 0 1 1 0 1 1 1 1\n",
      "  0 1 1 1 0 1 0 0 1 1 1 1 1 0 1 1 1 1 1 0 0 1 0 1]]\n",
      "[[2 1 2 ... 1 1 1]]\n"
     ]
    }
   ],
   "source": [
    "# binarisasi kolom output\n",
    "y_binarized = LabelBinarizer().fit_transform(y)\n",
    "print(y_binarized.T)\n",
    "\n",
    "# baris menunjukkan jumlah pengamatan setiap kelas\n",
    "# dan kolom menunjukkan setiap fitur\n",
    "observed = np.dot(y_binarized.T, x_dtm)\n",
    "print(observed)"
   ]
  },
  {
   "cell_type": "code",
   "execution_count": 15,
   "id": "ac85b21f-ca4e-4451-a1bf-d821dd33552b",
   "metadata": {},
   "outputs": [
    {
     "name": "stdout",
     "output_type": "stream",
     "text": [
      "[[1.06666667 0.53333333 1.6        ... 0.53333333 0.53333333 0.53333333]]\n"
     ]
    }
   ],
   "source": [
    "# menghitung probabilitas setiap kelas dan jumlah fitur; \n",
    "# simpan keduanya sebagai array dua dimensi dengan menggunakan reshape\n",
    "class_prob = y_binarized.mean(axis = 0).reshape(1, -1)\n",
    "feature_count = x_dtm.to_numpy().sum(axis = 0).reshape(1, -1)\n",
    "expected = np.dot(class_prob.T, feature_count)\n",
    "\n",
    "print(expected)"
   ]
  },
  {
   "cell_type": "code",
   "execution_count": 16,
   "id": "d70e55c0-304b-4662-bdc5-2446f32b62de",
   "metadata": {},
   "outputs": [
    {
     "name": "stdout",
     "output_type": "stream",
     "text": [
      "[0.81666667 0.40833333 0.1        ... 0.40833333 0.40833333 0.40833333]\n"
     ]
    }
   ],
   "source": [
    "chisq = (observed - expected) ** 2 / expected\n",
    "chisq_score = chisq.sum(axis = 0)\n",
    "print(chisq_score)"
   ]
  },
  {
   "cell_type": "markdown",
   "id": "0a84ab57-2934-45af-ad32-9ee96058421a",
   "metadata": {},
   "source": [
    "## Menghitung nilai chi-square menggunakan fungsi dari sklearn"
   ]
  },
  {
   "cell_type": "code",
   "execution_count": 17,
   "id": "8e736992-f36d-48a7-a89f-365d1a800926",
   "metadata": {},
   "outputs": [],
   "source": [
    "# Menghitung nilai chi-square menggunakan fungsi chi2\n",
    "chi2score = chi2(x_dtm, y)\n",
    "\n",
    "skorchi= np.reshape(chi2score[1], (1, chi2score[0].shape[0]))"
   ]
  },
  {
   "cell_type": "code",
   "execution_count": 18,
   "id": "4f376c8d-e871-44a9-ad78-b77869ee1d64",
   "metadata": {},
   "outputs": [
    {
     "data": {
      "text/html": [
       "<div>\n",
       "<style scoped>\n",
       "    .dataframe tbody tr th:only-of-type {\n",
       "        vertical-align: middle;\n",
       "    }\n",
       "\n",
       "    .dataframe tbody tr th {\n",
       "        vertical-align: top;\n",
       "    }\n",
       "\n",
       "    .dataframe thead th {\n",
       "        text-align: right;\n",
       "    }\n",
       "</style>\n",
       "<table border=\"1\" class=\"dataframe\">\n",
       "  <thead>\n",
       "    <tr style=\"text-align: right;\">\n",
       "      <th></th>\n",
       "      <th>abstrak</th>\n",
       "      <th>actor</th>\n",
       "      <th>acu</th>\n",
       "      <th>acute</th>\n",
       "      <th>adadari</th>\n",
       "      <th>adaptive</th>\n",
       "      <th>adat</th>\n",
       "      <th>addie</th>\n",
       "      <th>additive</th>\n",
       "      <th>adm</th>\n",
       "      <th>...</th>\n",
       "      <th>weighting</th>\n",
       "      <th>weights</th>\n",
       "      <th>weightsaw</th>\n",
       "      <th>wewenangannya</th>\n",
       "      <th>wiener</th>\n",
       "      <th>wilayah</th>\n",
       "      <th>winqsb</th>\n",
       "      <th>wisatawan</th>\n",
       "      <th>workshop</th>\n",
       "      <th>xbox</th>\n",
       "    </tr>\n",
       "  </thead>\n",
       "  <tbody>\n",
       "    <tr>\n",
       "      <th>0</th>\n",
       "      <td>0.185877</td>\n",
       "      <td>0.349575</td>\n",
       "      <td>0.643429</td>\n",
       "      <td>0.064078</td>\n",
       "      <td>0.285049</td>\n",
       "      <td>0.13057</td>\n",
       "      <td>0.349575</td>\n",
       "      <td>0.185877</td>\n",
       "      <td>0.085932</td>\n",
       "      <td>0.185877</td>\n",
       "      <td>...</td>\n",
       "      <td>0.105193</td>\n",
       "      <td>0.349575</td>\n",
       "      <td>0.185877</td>\n",
       "      <td>0.349575</td>\n",
       "      <td>0.13057</td>\n",
       "      <td>0.285049</td>\n",
       "      <td>0.064078</td>\n",
       "      <td>0.349575</td>\n",
       "      <td>0.349575</td>\n",
       "      <td>0.349575</td>\n",
       "    </tr>\n",
       "  </tbody>\n",
       "</table>\n",
       "<p>1 rows × 1336 columns</p>\n",
       "</div>"
      ],
      "text/plain": [
       "    abstrak     actor       acu     acute   adadari  adaptive      adat  \\\n",
       "0  0.185877  0.349575  0.643429  0.064078  0.285049   0.13057  0.349575   \n",
       "\n",
       "      addie  additive       adm  ...  weighting   weights  weightsaw  \\\n",
       "0  0.185877  0.085932  0.185877  ...   0.105193  0.349575   0.185877   \n",
       "\n",
       "   wewenangannya   wiener   wilayah    winqsb  wisatawan  workshop      xbox  \n",
       "0       0.349575  0.13057  0.285049  0.064078   0.349575  0.349575  0.349575  \n",
       "\n",
       "[1 rows x 1336 columns]"
      ]
     },
     "execution_count": 18,
     "metadata": {},
     "output_type": "execute_result"
    }
   ],
   "source": [
    "# Menampilkan nilai chi-square dalam bentuk DataFrame\n",
    "data_skorchi = pd.DataFrame(skorchi, columns = vect.get_feature_names_out())\n",
    "data_skorchi"
   ]
  },
  {
   "cell_type": "code",
   "execution_count": 19,
   "id": "e049e85e-cb3a-4535-9b41-9876e0189ba4",
   "metadata": {},
   "outputs": [
    {
     "data": {
      "text/plain": [
       "Index(['ajar', 'akademik', 'akurasi', 'algoritma', 'amal', 'android',\n",
       "       'anggota', 'aplikasi', 'bahasa', 'bayes', 'beasiswa', 'calon', 'citra',\n",
       "       'cluster', 'clustering', 'distance', 'dosen', 'dukung', 'ekstraksi',\n",
       "       'fitur', 'game', 'giat', 'gizi', 'guru', 'informasi', 'kelola',\n",
       "       'kmeans', 'komponen', 'kredit', 'lahan', 'lapor', 'madura', 'main',\n",
       "       'media', 'metode', 'mobile', 'mudah', 'na', 'organisasi', 'putus',\n",
       "       'resiko', 'sakit', 'siswa', 'tani', 'teknik', 'teknologi', 'terima',\n",
       "       'topsis', 've', 'wajah'],\n",
       "      dtype='object')"
      ]
     },
     "execution_count": 19,
     "metadata": {},
     "output_type": "execute_result"
    }
   ],
   "source": [
    "# Mencari 50 kata yang paling relevan dalam menentukan bidang minat\n",
    "kbest = SelectKBest(score_func = chi2, k = 10)\n",
    "\n",
    "X_dtm_kbest = kbest.fit_transform(x_dtm, y)\n",
    "mask = kbest.get_support()\n",
    "\n",
    "X_dtm_kbest = x_dtm.columns[mask]\n",
    "X_dtm_kbest"
   ]
  },
  {
   "cell_type": "code",
   "execution_count": 20,
   "id": "0dedc435-00dd-4c78-969b-50d8820b7984",
   "metadata": {},
   "outputs": [
    {
     "data": {
      "text/html": [
       "<div>\n",
       "<style scoped>\n",
       "    .dataframe tbody tr th:only-of-type {\n",
       "        vertical-align: middle;\n",
       "    }\n",
       "\n",
       "    .dataframe tbody tr th {\n",
       "        vertical-align: top;\n",
       "    }\n",
       "\n",
       "    .dataframe thead th {\n",
       "        text-align: right;\n",
       "    }\n",
       "</style>\n",
       "<table border=\"1\" class=\"dataframe\">\n",
       "  <thead>\n",
       "    <tr style=\"text-align: right;\">\n",
       "      <th></th>\n",
       "      <th>ajar</th>\n",
       "      <th>akademik</th>\n",
       "      <th>akurasi</th>\n",
       "      <th>algoritma</th>\n",
       "      <th>amal</th>\n",
       "      <th>android</th>\n",
       "      <th>anggota</th>\n",
       "      <th>aplikasi</th>\n",
       "      <th>bahasa</th>\n",
       "      <th>bayes</th>\n",
       "      <th>...</th>\n",
       "      <th>sakit</th>\n",
       "      <th>siswa</th>\n",
       "      <th>tani</th>\n",
       "      <th>teknik</th>\n",
       "      <th>teknologi</th>\n",
       "      <th>terima</th>\n",
       "      <th>topsis</th>\n",
       "      <th>ve</th>\n",
       "      <th>wajah</th>\n",
       "      <th>Bidang Minat</th>\n",
       "    </tr>\n",
       "  </thead>\n",
       "  <tbody>\n",
       "    <tr>\n",
       "      <th>0</th>\n",
       "      <td>0</td>\n",
       "      <td>0</td>\n",
       "      <td>0</td>\n",
       "      <td>0</td>\n",
       "      <td>0</td>\n",
       "      <td>0</td>\n",
       "      <td>0</td>\n",
       "      <td>0</td>\n",
       "      <td>0</td>\n",
       "      <td>0</td>\n",
       "      <td>...</td>\n",
       "      <td>0</td>\n",
       "      <td>0</td>\n",
       "      <td>0</td>\n",
       "      <td>0</td>\n",
       "      <td>0</td>\n",
       "      <td>0</td>\n",
       "      <td>0</td>\n",
       "      <td>0</td>\n",
       "      <td>0</td>\n",
       "      <td>CAI</td>\n",
       "    </tr>\n",
       "    <tr>\n",
       "      <th>1</th>\n",
       "      <td>0</td>\n",
       "      <td>0</td>\n",
       "      <td>0</td>\n",
       "      <td>0</td>\n",
       "      <td>0</td>\n",
       "      <td>0</td>\n",
       "      <td>0</td>\n",
       "      <td>1</td>\n",
       "      <td>0</td>\n",
       "      <td>0</td>\n",
       "      <td>...</td>\n",
       "      <td>0</td>\n",
       "      <td>0</td>\n",
       "      <td>0</td>\n",
       "      <td>0</td>\n",
       "      <td>2</td>\n",
       "      <td>0</td>\n",
       "      <td>0</td>\n",
       "      <td>0</td>\n",
       "      <td>0</td>\n",
       "      <td>RPL</td>\n",
       "    </tr>\n",
       "    <tr>\n",
       "      <th>2</th>\n",
       "      <td>3</td>\n",
       "      <td>0</td>\n",
       "      <td>0</td>\n",
       "      <td>0</td>\n",
       "      <td>0</td>\n",
       "      <td>6</td>\n",
       "      <td>0</td>\n",
       "      <td>4</td>\n",
       "      <td>2</td>\n",
       "      <td>0</td>\n",
       "      <td>...</td>\n",
       "      <td>0</td>\n",
       "      <td>0</td>\n",
       "      <td>0</td>\n",
       "      <td>0</td>\n",
       "      <td>6</td>\n",
       "      <td>0</td>\n",
       "      <td>0</td>\n",
       "      <td>0</td>\n",
       "      <td>0</td>\n",
       "      <td>RPL</td>\n",
       "    </tr>\n",
       "    <tr>\n",
       "      <th>3</th>\n",
       "      <td>0</td>\n",
       "      <td>0</td>\n",
       "      <td>0</td>\n",
       "      <td>0</td>\n",
       "      <td>0</td>\n",
       "      <td>0</td>\n",
       "      <td>0</td>\n",
       "      <td>0</td>\n",
       "      <td>0</td>\n",
       "      <td>0</td>\n",
       "      <td>...</td>\n",
       "      <td>0</td>\n",
       "      <td>0</td>\n",
       "      <td>0</td>\n",
       "      <td>0</td>\n",
       "      <td>0</td>\n",
       "      <td>0</td>\n",
       "      <td>0</td>\n",
       "      <td>0</td>\n",
       "      <td>0</td>\n",
       "      <td>CAI</td>\n",
       "    </tr>\n",
       "    <tr>\n",
       "      <th>4</th>\n",
       "      <td>0</td>\n",
       "      <td>0</td>\n",
       "      <td>1</td>\n",
       "      <td>0</td>\n",
       "      <td>0</td>\n",
       "      <td>0</td>\n",
       "      <td>0</td>\n",
       "      <td>2</td>\n",
       "      <td>0</td>\n",
       "      <td>3</td>\n",
       "      <td>...</td>\n",
       "      <td>2</td>\n",
       "      <td>0</td>\n",
       "      <td>0</td>\n",
       "      <td>0</td>\n",
       "      <td>0</td>\n",
       "      <td>0</td>\n",
       "      <td>0</td>\n",
       "      <td>3</td>\n",
       "      <td>0</td>\n",
       "      <td>CAI</td>\n",
       "    </tr>\n",
       "  </tbody>\n",
       "</table>\n",
       "<p>5 rows × 51 columns</p>\n",
       "</div>"
      ],
      "text/plain": [
       "   ajar  akademik  akurasi  algoritma  amal  android  anggota  aplikasi  \\\n",
       "0     0         0        0          0     0        0        0         0   \n",
       "1     0         0        0          0     0        0        0         1   \n",
       "2     3         0        0          0     0        6        0         4   \n",
       "3     0         0        0          0     0        0        0         0   \n",
       "4     0         0        1          0     0        0        0         2   \n",
       "\n",
       "   bahasa  bayes  ...  sakit  siswa  tani  teknik  teknologi  terima  topsis  \\\n",
       "0       0      0  ...      0      0     0       0          0       0       0   \n",
       "1       0      0  ...      0      0     0       0          2       0       0   \n",
       "2       2      0  ...      0      0     0       0          6       0       0   \n",
       "3       0      0  ...      0      0     0       0          0       0       0   \n",
       "4       0      3  ...      2      0     0       0          0       0       0   \n",
       "\n",
       "   ve  wajah  Bidang Minat  \n",
       "0   0      0           CAI  \n",
       "1   0      0           RPL  \n",
       "2   0      0           RPL  \n",
       "3   0      0           CAI  \n",
       "4   3      0           CAI  \n",
       "\n",
       "[5 rows x 51 columns]"
      ]
     },
     "execution_count": 20,
     "metadata": {},
     "output_type": "execute_result"
    }
   ],
   "source": [
    "# Menampilkan 10 term paling relevan dan menambahkan kolom \"Bidang Minat\"\n",
    "result = pd.concat([x_dtm[X_dtm_kbest], data[\"Bidang Minat\"]], axis=1)\n",
    "result.head()"
   ]
  },
  {
   "cell_type": "code",
   "execution_count": 21,
   "id": "JN7h2m_pu1sJ",
   "metadata": {
    "id": "JN7h2m_pu1sJ"
   },
   "outputs": [],
   "source": [
    "result.to_csv(\"Hasil_Seleksi_Fitur.csv\", index=False)"
   ]
  }
 ],
 "metadata": {
  "colab": {
   "collapsed_sections": [],
   "name": "tf-idf.ipynb",
   "provenance": []
  },
  "kernelspec": {
   "display_name": "Python 3 (ipykernel)",
   "language": "python",
   "name": "python3"
  },
  "language_info": {
   "codemirror_mode": {
    "name": "ipython",
    "version": 3
   },
   "file_extension": ".py",
   "mimetype": "text/x-python",
   "name": "python",
   "nbconvert_exporter": "python",
   "pygments_lexer": "ipython3",
   "version": "3.8.10"
  }
 },
 "nbformat": 4,
 "nbformat_minor": 5
}