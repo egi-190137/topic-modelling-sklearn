{
 "cells": [
  {
   "cell_type": "markdown",
   "metadata": {
    "_uuid": "9341bf79ac503efb2b0c19cae84b17b48c30e211"
   },
   "source": [
    "# Topic Modelling using Latent Semantic Analysis (LSA) and Latent Dirichlet Allocation (LDA) in sklearn"
   ]
  },
  {
   "cell_type": "markdown",
   "metadata": {
    "_uuid": "6a503c2851673a3d3ec1eb2c3d6c6e5566292af1"
   },
   "source": [
    "## Import Library\n",
    "\n",
    "### Library yang digunakan\n",
    "\n",
    "- **Pandas**\n",
    "\n",
    "    Untuk manipulasi dan membaca data dalam bentuk tabel \n",
    "\n",
    "- **matplotlib**\n",
    "\n",
    "    Untuk membuat visualisasi data\n",
    "\n",
    "<!-- - **seaborn** -->\n",
    "- **PySastrawi**\n",
    "\n",
    "    Untuk melakukan text processing\n",
    "\n",
    "- **scikit-learn**\n",
    "\n",
    "    Untuk menghitung TF dan TF-IDF"
   ]
  },
  {
   "cell_type": "code",
   "execution_count": 1,
   "metadata": {
    "_uuid": "39f140e85d319161012fb67f258dd6b339545b0a",
    "id": "5O5_-2kTGD6V"
   },
   "outputs": [],
   "source": [
    "# data visualisation and manipulation\n",
    "import numpy as np\n",
    "import pandas as pd\n",
    "import matplotlib.pyplot as plt\n",
    "from matplotlib import style\n",
    "# import seaborn as sns\n",
    "from Sastrawi.StopWordRemover.StopWordRemoverFactory import StopWordRemoverFactory\n",
    "\n",
    "#configure\n",
    "# sets matplotlib to inline and displays graphs below the corressponding cell.\n",
    "%matplotlib inline  \n",
    "style.use('fivethirtyeight')\n",
    "# sns.set(style='whitegrid',color_codes=True)\n",
    "\n",
    "import re\n",
    "import string\n",
    "#import nltk\n",
    "# import nltk\n",
    "# from nltk.corpus import stopwords\n",
    "# from nltk.tokenize import word_tokenize,sent_tokenize\n",
    "\n",
    "# #preprocessing\n",
    "# from nltk.corpus import stopwords  #stopwords\n",
    "# from nltk import word_tokenize,sent_tokenize # tokenizing\n",
    "# from nltk.stem import PorterStemmer,LancasterStemmer  # using the Porter Stemmer and Lancaster Stemmer and others\n",
    "# from nltk.stem.snowball import SnowballStemmer\n",
    "# from nltk.stem import WordNetLemmatizer  # lammatizer from WordNet\n",
    "\n",
    "# # for named entity recognition (NER)\n",
    "# from nltk import ne_chunk\n",
    "\n",
    "# vectorizers for creating the document-term-matrix (DTM)\n",
    "from sklearn.feature_extraction.text import TfidfVectorizer\n",
    "# from sklearn.feature_extraction.text import TfidfVectorizer,CountVectorizer\n",
    "\n",
    "#stop-words\n",
    "# stop_words=set(nltk.corpus.stopwords.words('english'))"
   ]
  },
  {
   "cell_type": "code",
   "execution_count": 2,
   "metadata": {},
   "outputs": [],
   "source": [
    "# Melakukan setting jumlah kolom maksimal pada output\n",
    "pd.options.display.max_columns = 10"
   ]
  },
  {
   "cell_type": "markdown",
   "metadata": {
    "_uuid": "a2b520342f1761de78285e76aa6327d9d37b1f4e"
   },
   "source": [
    "## Membaca Data"
   ]
  },
  {
   "cell_type": "code",
   "execution_count": 3,
   "metadata": {
    "_uuid": "aad495ed355e99947bc3b9816cfad0ff430c17e5",
    "id": "xaPWCpthHVIS"
   },
   "outputs": [],
   "source": [
    "df = pd.read_csv('dataset_pta.csv')"
   ]
  },
  {
   "cell_type": "code",
   "execution_count": 4,
   "metadata": {
    "_uuid": "e09dd69ffa2bae1920f3e10b1af0a8ce0f8ae16d",
    "id": "Wwf4uKjTIYm2",
    "outputId": "9fac48b8-49af-44ff-f06b-d4b7440110b7"
   },
   "outputs": [
    {
     "data": {
      "text/html": [
       "<div>\n",
       "<style scoped>\n",
       "    .dataframe tbody tr th:only-of-type {\n",
       "        vertical-align: middle;\n",
       "    }\n",
       "\n",
       "    .dataframe tbody tr th {\n",
       "        vertical-align: top;\n",
       "    }\n",
       "\n",
       "    .dataframe thead th {\n",
       "        text-align: right;\n",
       "    }\n",
       "</style>\n",
       "<table border=\"1\" class=\"dataframe\">\n",
       "  <thead>\n",
       "    <tr style=\"text-align: right;\">\n",
       "      <th></th>\n",
       "      <th>judul</th>\n",
       "      <th>abstraksi</th>\n",
       "      <th>bidang minat</th>\n",
       "    </tr>\n",
       "  </thead>\n",
       "  <tbody>\n",
       "    <tr>\n",
       "      <th>0</th>\n",
       "      <td>Gerak Pekerja Pada Game Real Time Strategy Men...</td>\n",
       "      <td>Gerak pekerja ada pada game yang memiliki genr...</td>\n",
       "      <td>CAI</td>\n",
       "    </tr>\n",
       "    <tr>\n",
       "      <th>1</th>\n",
       "      <td>PEMANFAATAN TOGAF ADM UNTUK PERANCANGAN SISTEM...</td>\n",
       "      <td>Penyusunan Sistem Informasi Dinas Perindustria...</td>\n",
       "      <td>RPL</td>\n",
       "    </tr>\n",
       "    <tr>\n",
       "      <th>2</th>\n",
       "      <td>RANCANG BANGUN MANAJEMEN PEMBELAJARAN DAN TES ...</td>\n",
       "      <td>Penggunaan teknologi mobile saat ini sangat ma...</td>\n",
       "      <td>RPL</td>\n",
       "    </tr>\n",
       "    <tr>\n",
       "      <th>3</th>\n",
       "      <td>SISTEM PENDUKUNG KEPUTUSAN PEMILIHAN KARYAWAN ...</td>\n",
       "      <td>Sumber daya manusia mutlak dibutuhkan untuk ke...</td>\n",
       "      <td>CAI</td>\n",
       "    </tr>\n",
       "    <tr>\n",
       "      <th>4</th>\n",
       "      <td>SISTEM PENENTUAN STATUS GIZI PASIEN RAWAT INAP...</td>\n",
       "      <td>Di Indonesia masalah perkembangan gizi adalah ...</td>\n",
       "      <td>CAI</td>\n",
       "    </tr>\n",
       "  </tbody>\n",
       "</table>\n",
       "</div>"
      ],
      "text/plain": [
       "                                               judul  \\\n",
       "0  Gerak Pekerja Pada Game Real Time Strategy Men...   \n",
       "1  PEMANFAATAN TOGAF ADM UNTUK PERANCANGAN SISTEM...   \n",
       "2  RANCANG BANGUN MANAJEMEN PEMBELAJARAN DAN TES ...   \n",
       "3  SISTEM PENDUKUNG KEPUTUSAN PEMILIHAN KARYAWAN ...   \n",
       "4  SISTEM PENENTUAN STATUS GIZI PASIEN RAWAT INAP...   \n",
       "\n",
       "                                           abstraksi bidang minat  \n",
       "0  Gerak pekerja ada pada game yang memiliki genr...          CAI  \n",
       "1  Penyusunan Sistem Informasi Dinas Perindustria...          RPL  \n",
       "2  Penggunaan teknologi mobile saat ini sangat ma...          RPL  \n",
       "3  Sumber daya manusia mutlak dibutuhkan untuk ke...          CAI  \n",
       "4  Di Indonesia masalah perkembangan gizi adalah ...          CAI  "
      ]
     },
     "execution_count": 4,
     "metadata": {},
     "output_type": "execute_result"
    }
   ],
   "source": [
    "df.head()"
   ]
  },
  {
   "cell_type": "markdown",
   "metadata": {
    "_uuid": "ece312ea148c498c5584e83f6a36fce2dc236198"
   },
   "source": [
    "Data yang digunakan dalam program ini hanya data pada kolom 'judul'. Untuk mengambil kolom 'judul' saja dapat dilakukan dengan inisialisasi ulang df dengan df[['judul']] "
   ]
  },
  {
   "cell_type": "code",
   "execution_count": 5,
   "metadata": {
    "_uuid": "2a6df530624e3b9c3cfb43659ba9c0f67e2aa1d4",
    "id": "wiuusKeEIr_o"
   },
   "outputs": [
    {
     "data": {
      "text/html": [
       "<div>\n",
       "<style scoped>\n",
       "    .dataframe tbody tr th:only-of-type {\n",
       "        vertical-align: middle;\n",
       "    }\n",
       "\n",
       "    .dataframe tbody tr th {\n",
       "        vertical-align: top;\n",
       "    }\n",
       "\n",
       "    .dataframe thead th {\n",
       "        text-align: right;\n",
       "    }\n",
       "</style>\n",
       "<table border=\"1\" class=\"dataframe\">\n",
       "  <thead>\n",
       "    <tr style=\"text-align: right;\">\n",
       "      <th></th>\n",
       "      <th>judul</th>\n",
       "    </tr>\n",
       "  </thead>\n",
       "  <tbody>\n",
       "    <tr>\n",
       "      <th>0</th>\n",
       "      <td>Gerak Pekerja Pada Game Real Time Strategy Men...</td>\n",
       "    </tr>\n",
       "    <tr>\n",
       "      <th>1</th>\n",
       "      <td>PEMANFAATAN TOGAF ADM UNTUK PERANCANGAN SISTEM...</td>\n",
       "    </tr>\n",
       "    <tr>\n",
       "      <th>2</th>\n",
       "      <td>RANCANG BANGUN MANAJEMEN PEMBELAJARAN DAN TES ...</td>\n",
       "    </tr>\n",
       "    <tr>\n",
       "      <th>3</th>\n",
       "      <td>SISTEM PENDUKUNG KEPUTUSAN PEMILIHAN KARYAWAN ...</td>\n",
       "    </tr>\n",
       "    <tr>\n",
       "      <th>4</th>\n",
       "      <td>SISTEM PENENTUAN STATUS GIZI PASIEN RAWAT INAP...</td>\n",
       "    </tr>\n",
       "  </tbody>\n",
       "</table>\n",
       "</div>"
      ],
      "text/plain": [
       "                                               judul\n",
       "0  Gerak Pekerja Pada Game Real Time Strategy Men...\n",
       "1  PEMANFAATAN TOGAF ADM UNTUK PERANCANGAN SISTEM...\n",
       "2  RANCANG BANGUN MANAJEMEN PEMBELAJARAN DAN TES ...\n",
       "3  SISTEM PENDUKUNG KEPUTUSAN PEMILIHAN KARYAWAN ...\n",
       "4  SISTEM PENENTUAN STATUS GIZI PASIEN RAWAT INAP..."
      ]
     },
     "execution_count": 5,
     "metadata": {},
     "output_type": "execute_result"
    }
   ],
   "source": [
    "df = df[['judul']]\n",
    "df.head()"
   ]
  },
  {
   "cell_type": "markdown",
   "metadata": {
    "_uuid": "2043c3fc7cb55f29282da53bf8ce8315aec19556"
   },
   "source": [
    "## Pre-processing Data"
   ]
  },
  {
   "cell_type": "markdown",
   "metadata": {
    "_uuid": "dbd9e74a45cef82d83251327066f919c2a7ee08b"
   },
   "source": [
    "Terdapat beberapa tahapan dalam melakukan Pre-processing data, diantaranya *case folding* (Mengubah teks menjadi *lower case*), menghapus angka dan tanda baca, menghapus white space dan *stopword removal*. Semua tahapan *pre-processing* tersebut saya masukkan ke dalam fungsi clean_text, kemudian saya aplikasikan pada data judul pada dataframe dengan method **.apply(clean_text)**. \n",
    "\n",
    "Untuk menghapus stopword saya menggunakan library **PySastrawi**, karena **PySastrawi** memiliki list stopword bahasa indonesia yang lebih lengkap daripada library **nltk**.\n",
    "\n",
    "Pada Library **PySastrawi** penghapusan stopword dilakukan dengan membuata objek StopWordRemoverFactory, kemudian buat objek stopword remover dengan method create_stop_word_remover. Objek stopword remover memiliki method remove yang dapat digunakan untuk menghapus stopword dalam sebuah kalimat dengan memasukkan string ke dalam parameter method remove.  "
   ]
  },
  {
   "cell_type": "code",
   "execution_count": 6,
   "metadata": {},
   "outputs": [],
   "source": [
    "factory = StopWordRemoverFactory()\n",
    "stopword = factory.create_stop_word_remover()"
   ]
  },
  {
   "cell_type": "code",
   "execution_count": 7,
   "metadata": {
    "_uuid": "c01abf16fc6c3b72873a40246d88f4f2d84af6a6",
    "id": "10MF-YmnI7vp"
   },
   "outputs": [],
   "source": [
    "def clean_text(text):\n",
    "  # Mengubah teks menjadi lowercase\n",
    "  cleaned_text = text.lower()\n",
    "  # Menghapus angka\n",
    "  cleaned_text = re.sub(r\"\\d+\", \"\", cleaned_text)\n",
    "  # Menghapus white space\n",
    "  cleaned_text = cleaned_text.strip()\n",
    "  # Menghapus tanda baca\n",
    "  cleaned_text = cleaned_text.translate(str.maketrans(\"\",\"\",string.punctuation))\n",
    "  # Hapus stopword\n",
    "  cleaned_text = stopword.remove(cleaned_text)\n",
    "  return cleaned_text\n",
    "  "
   ]
  },
  {
   "cell_type": "code",
   "execution_count": 8,
   "metadata": {
    "_uuid": "0249f1e9dc0d448aa55778d88b17380cbb099b27",
    "id": "J9cX-1YxSisp"
   },
   "outputs": [],
   "source": [
    "# time taking\n",
    "df['cleaned_judul'] = df['judul'].apply(clean_text)"
   ]
  },
  {
   "cell_type": "markdown",
   "metadata": {},
   "source": [
    "### Perbedaan data awal dengan data yang telah di-preprocessing"
   ]
  },
  {
   "cell_type": "code",
   "execution_count": 9,
   "metadata": {
    "_uuid": "c81efcbf76b11b4a08c18e4ce6147fa35bfd2348",
    "id": "Qw6e2o8SSzi2",
    "outputId": "094e30b3-de43-476c-c27c-8c992216c3f2"
   },
   "outputs": [
    {
     "data": {
      "text/html": [
       "<div>\n",
       "<style scoped>\n",
       "    .dataframe tbody tr th:only-of-type {\n",
       "        vertical-align: middle;\n",
       "    }\n",
       "\n",
       "    .dataframe tbody tr th {\n",
       "        vertical-align: top;\n",
       "    }\n",
       "\n",
       "    .dataframe thead th {\n",
       "        text-align: right;\n",
       "    }\n",
       "</style>\n",
       "<table border=\"1\" class=\"dataframe\">\n",
       "  <thead>\n",
       "    <tr style=\"text-align: right;\">\n",
       "      <th></th>\n",
       "      <th>judul</th>\n",
       "      <th>cleaned_judul</th>\n",
       "    </tr>\n",
       "  </thead>\n",
       "  <tbody>\n",
       "    <tr>\n",
       "      <th>0</th>\n",
       "      <td>Gerak Pekerja Pada Game Real Time Strategy Men...</td>\n",
       "      <td>gerak pekerja game real time strategy finite s...</td>\n",
       "    </tr>\n",
       "    <tr>\n",
       "      <th>1</th>\n",
       "      <td>PEMANFAATAN TOGAF ADM UNTUK PERANCANGAN SISTEM...</td>\n",
       "      <td>pemanfaatan togaf adm perancangan sistem infor...</td>\n",
       "    </tr>\n",
       "    <tr>\n",
       "      <th>2</th>\n",
       "      <td>RANCANG BANGUN MANAJEMEN PEMBELAJARAN DAN TES ...</td>\n",
       "      <td>rancang bangun manajemen pembelajaran tes toef...</td>\n",
       "    </tr>\n",
       "    <tr>\n",
       "      <th>3</th>\n",
       "      <td>SISTEM PENDUKUNG KEPUTUSAN PEMILIHAN KARYAWAN ...</td>\n",
       "      <td>sistem pendukung keputusan pemilihan karyawan ...</td>\n",
       "    </tr>\n",
       "    <tr>\n",
       "      <th>4</th>\n",
       "      <td>SISTEM PENENTUAN STATUS GIZI PASIEN RAWAT INAP...</td>\n",
       "      <td>sistem penentuan status gizi pasien rawat inap...</td>\n",
       "    </tr>\n",
       "  </tbody>\n",
       "</table>\n",
       "</div>"
      ],
      "text/plain": [
       "                                               judul  \\\n",
       "0  Gerak Pekerja Pada Game Real Time Strategy Men...   \n",
       "1  PEMANFAATAN TOGAF ADM UNTUK PERANCANGAN SISTEM...   \n",
       "2  RANCANG BANGUN MANAJEMEN PEMBELAJARAN DAN TES ...   \n",
       "3  SISTEM PENDUKUNG KEPUTUSAN PEMILIHAN KARYAWAN ...   \n",
       "4  SISTEM PENENTUAN STATUS GIZI PASIEN RAWAT INAP...   \n",
       "\n",
       "                                       cleaned_judul  \n",
       "0  gerak pekerja game real time strategy finite s...  \n",
       "1  pemanfaatan togaf adm perancangan sistem infor...  \n",
       "2  rancang bangun manajemen pembelajaran tes toef...  \n",
       "3  sistem pendukung keputusan pemilihan karyawan ...  \n",
       "4  sistem penentuan status gizi pasien rawat inap...  "
      ]
     },
     "execution_count": 9,
     "metadata": {},
     "output_type": "execute_result"
    }
   ],
   "source": [
    "df.head()"
   ]
  },
  {
   "cell_type": "markdown",
   "metadata": {
    "_uuid": "c46d3085571e5bd3224bfb6a51164816a5e2a613",
    "id": "RDqxfd7VVhJx"
   },
   "source": [
    "### Hapus kolom 'judul'"
   ]
  },
  {
   "cell_type": "code",
   "execution_count": 10,
   "metadata": {
    "_uuid": "64cc5de96668ec6e6f37cefb31c349f35ff81771",
    "id": "PTkgClkxV7MP"
   },
   "outputs": [],
   "source": [
    "df.drop(['judul'],axis=1,inplace=True)"
   ]
  },
  {
   "cell_type": "markdown",
   "metadata": {},
   "source": [
    "### Mengganti nama kolom __cleaned_judul__ dengan __judul__ "
   ]
  },
  {
   "cell_type": "code",
   "execution_count": 11,
   "metadata": {},
   "outputs": [],
   "source": [
    "df.columns = ['judul']"
   ]
  },
  {
   "cell_type": "code",
   "execution_count": 12,
   "metadata": {
    "_uuid": "dc01093ea4f6bd35e492e5136bec2ef90f8a1bf5",
    "id": "PHPX62iRV_ux",
    "outputId": "729f2f07-09c5-477b-fcfd-72a166982d35"
   },
   "outputs": [
    {
     "data": {
      "text/html": [
       "<div>\n",
       "<style scoped>\n",
       "    .dataframe tbody tr th:only-of-type {\n",
       "        vertical-align: middle;\n",
       "    }\n",
       "\n",
       "    .dataframe tbody tr th {\n",
       "        vertical-align: top;\n",
       "    }\n",
       "\n",
       "    .dataframe thead th {\n",
       "        text-align: right;\n",
       "    }\n",
       "</style>\n",
       "<table border=\"1\" class=\"dataframe\">\n",
       "  <thead>\n",
       "    <tr style=\"text-align: right;\">\n",
       "      <th></th>\n",
       "      <th>judul</th>\n",
       "    </tr>\n",
       "  </thead>\n",
       "  <tbody>\n",
       "    <tr>\n",
       "      <th>0</th>\n",
       "      <td>gerak pekerja game real time strategy finite s...</td>\n",
       "    </tr>\n",
       "    <tr>\n",
       "      <th>1</th>\n",
       "      <td>pemanfaatan togaf adm perancangan sistem infor...</td>\n",
       "    </tr>\n",
       "    <tr>\n",
       "      <th>2</th>\n",
       "      <td>rancang bangun manajemen pembelajaran tes toef...</td>\n",
       "    </tr>\n",
       "    <tr>\n",
       "      <th>3</th>\n",
       "      <td>sistem pendukung keputusan pemilihan karyawan ...</td>\n",
       "    </tr>\n",
       "    <tr>\n",
       "      <th>4</th>\n",
       "      <td>sistem penentuan status gizi pasien rawat inap...</td>\n",
       "    </tr>\n",
       "  </tbody>\n",
       "</table>\n",
       "</div>"
      ],
      "text/plain": [
       "                                               judul\n",
       "0  gerak pekerja game real time strategy finite s...\n",
       "1  pemanfaatan togaf adm perancangan sistem infor...\n",
       "2  rancang bangun manajemen pembelajaran tes toef...\n",
       "3  sistem pendukung keputusan pemilihan karyawan ...\n",
       "4  sistem penentuan status gizi pasien rawat inap..."
      ]
     },
     "execution_count": 12,
     "metadata": {},
     "output_type": "execute_result"
    }
   ],
   "source": [
    "df.head()"
   ]
  },
  {
   "cell_type": "markdown",
   "metadata": {},
   "source": [
    "### Contoh judul yang telah di lakukan *pre-processing*"
   ]
  },
  {
   "cell_type": "code",
   "execution_count": 13,
   "metadata": {
    "_uuid": "219d5fa37fbffff1c1acdeb46722a40cee1842a2",
    "id": "zlVvCr7qWkqA",
    "outputId": "9eb1561b-ef0b-4a00-bea3-5122c407bc9e"
   },
   "outputs": [
    {
     "data": {
      "text/plain": [
       "'gerak pekerja game real time strategy finite state machine'"
      ]
     },
     "execution_count": 13,
     "metadata": {},
     "output_type": "execute_result"
    }
   ],
   "source": [
    "df['judul'][0]"
   ]
  },
  {
   "cell_type": "markdown",
   "metadata": {
    "_uuid": "d36edc03b2cc88ef61651cd6c9deb470817e64df",
    "id": "yQZpp5YMXPkb"
   },
   "source": [
    "## Ekstraksi fitur dan membuat Document Term Matrix (DTM)\n",
    "\n",
    "Dalam perhitungan LSA (Latent Semantic Analysis) data yang diperlukan hanya TF-IDF. Sehingga pada program ini tidak perlu mencari nilai TF dari dokumen. Untuk mengetahui nilai TF-IDF dapat dilakukan dengan membuat objek dari kelas TfidfVectorizer yang disediakan library scikit-learn.\n",
    "\n",
    "Rumus Term Frequency:\n",
    "$$\n",
    "tf(t,d) = { f_{ t,d } \\over \\sum_{t' \\in d } f_{t,d}}\n",
    "$$\n",
    "\n",
    "$ f_{ t,d } \\quad\\quad\\quad\\quad$: Jumlah kata t muncul dalam dokumen\n",
    "\n",
    "$ \\sum_{t' \\in d } f_{t,d} \\quad\\quad$: Jumlah seluruh kata yang ada dalam dokumen\n",
    "\n",
    "Rumus Inverse Document Frequency:\n",
    "$$\n",
    "idf( t,D ) = log { N \\over { | \\{ d \\in D:t \\in d \\} | } }\n",
    "$$\n",
    "\n",
    "$ N \\quad\\quad\\quad\\quad\\quad$ : Jumlah seluruh dokumen\n",
    "\n",
    "$ | \\{ d \\in D:t \\in d \\} | $ : Jumlah dokumen yang mengandung kata $ t $\n",
    "\n",
    "Rumus Inverse Document Frequency:\n",
    "$$\n",
    "tfidf( t,d,D ) = tf( t,d ) \\times idf( t,D )\n",
    "$$"
   ]
  },
  {
   "cell_type": "code",
   "execution_count": 14,
   "metadata": {
    "_uuid": "d3998f5b7d7eaed5d18d08830d2ba9ba8dd7fcd6",
    "id": "UUxESGqhXX07"
   },
   "outputs": [],
   "source": [
    "vect = TfidfVectorizer()"
   ]
  },
  {
   "cell_type": "markdown",
   "metadata": {},
   "source": [
    "Setelah objek **TfidfVectorizer** dibuat gunakan method **fit_transform** dengan argumen data yang akan dicari nilai **TF-IDF**-nya"
   ]
  },
  {
   "cell_type": "code",
   "execution_count": 15,
   "metadata": {
    "_uuid": "00cdefa5281e43ed4cd28af256490cf3cf4dbaf2",
    "id": "z0CezNO4aUoh"
   },
   "outputs": [],
   "source": [
    "vect_text = vect.fit_transform(df['judul'])"
   ]
  },
  {
   "cell_type": "code",
   "execution_count": 16,
   "metadata": {
    "_uuid": "1fda68dd69c429fff879d660aa0ec7dccec18a64"
   },
   "outputs": [
    {
     "name": "stdout",
     "output_type": "stream",
     "text": [
      "Jumlah atribut dalam Document-Term Matrix : 358\n"
     ]
    }
   ],
   "source": [
    "attr_count = vect.get_feature_names_out().shape[0]\n",
    "print(f'Jumlah atribut dalam Document-Term Matrix : {attr_count}')"
   ]
  },
  {
   "cell_type": "markdown",
   "metadata": {
    "_uuid": "bb0975cb5ba0e82f9e14eba53bd466c26b892a7e"
   },
   "source": [
    "#### Menyimpan hasil tfidf ke dalam DataFrame"
   ]
  },
  {
   "cell_type": "markdown",
   "metadata": {},
   "source": [
    "Hasil tfidf perlu diubah terlebih dahulu menjadi array agar dapat digunakan sebagai data. Kemudian untuk parameter kolom-nya dapat didapatkan menggunakan method get_feature_names_out pada objek TfidfVectorizer."
   ]
  },
  {
   "cell_type": "code",
   "execution_count": 17,
   "metadata": {
    "_uuid": "a75bc1a06e66fa4c8615822f703487424761570b",
    "id": "5G-Zt5lUsUjx",
    "outputId": "c2e32ea6-5c47-4668-df93-c7ff8f54fb31"
   },
   "outputs": [
    {
     "data": {
      "text/html": [
       "<div>\n",
       "<style scoped>\n",
       "    .dataframe tbody tr th:only-of-type {\n",
       "        vertical-align: middle;\n",
       "    }\n",
       "\n",
       "    .dataframe tbody tr th {\n",
       "        vertical-align: top;\n",
       "    }\n",
       "\n",
       "    .dataframe thead th {\n",
       "        text-align: right;\n",
       "    }\n",
       "</style>\n",
       "<table border=\"1\" class=\"dataframe\">\n",
       "  <thead>\n",
       "    <tr style=\"text-align: right;\">\n",
       "      <th></th>\n",
       "      <th>acute</th>\n",
       "      <th>addie</th>\n",
       "      <th>additive</th>\n",
       "      <th>additiveweighting</th>\n",
       "      <th>adm</th>\n",
       "      <th>...</th>\n",
       "      <th>wafa</th>\n",
       "      <th>wajah</th>\n",
       "      <th>web</th>\n",
       "      <th>weight</th>\n",
       "      <th>weighting</th>\n",
       "    </tr>\n",
       "  </thead>\n",
       "  <tbody>\n",
       "    <tr>\n",
       "      <th>0</th>\n",
       "      <td>0.0</td>\n",
       "      <td>0.0</td>\n",
       "      <td>0.0</td>\n",
       "      <td>0.0</td>\n",
       "      <td>0.000000</td>\n",
       "      <td>...</td>\n",
       "      <td>0.0</td>\n",
       "      <td>0.0</td>\n",
       "      <td>0.0</td>\n",
       "      <td>0.0</td>\n",
       "      <td>0.0</td>\n",
       "    </tr>\n",
       "    <tr>\n",
       "      <th>1</th>\n",
       "      <td>0.0</td>\n",
       "      <td>0.0</td>\n",
       "      <td>0.0</td>\n",
       "      <td>0.0</td>\n",
       "      <td>0.300817</td>\n",
       "      <td>...</td>\n",
       "      <td>0.0</td>\n",
       "      <td>0.0</td>\n",
       "      <td>0.0</td>\n",
       "      <td>0.0</td>\n",
       "      <td>0.0</td>\n",
       "    </tr>\n",
       "    <tr>\n",
       "      <th>2</th>\n",
       "      <td>0.0</td>\n",
       "      <td>0.0</td>\n",
       "      <td>0.0</td>\n",
       "      <td>0.0</td>\n",
       "      <td>0.000000</td>\n",
       "      <td>...</td>\n",
       "      <td>0.0</td>\n",
       "      <td>0.0</td>\n",
       "      <td>0.0</td>\n",
       "      <td>0.0</td>\n",
       "      <td>0.0</td>\n",
       "    </tr>\n",
       "    <tr>\n",
       "      <th>3</th>\n",
       "      <td>0.0</td>\n",
       "      <td>0.0</td>\n",
       "      <td>0.0</td>\n",
       "      <td>0.0</td>\n",
       "      <td>0.000000</td>\n",
       "      <td>...</td>\n",
       "      <td>0.0</td>\n",
       "      <td>0.0</td>\n",
       "      <td>0.0</td>\n",
       "      <td>0.0</td>\n",
       "      <td>0.0</td>\n",
       "    </tr>\n",
       "    <tr>\n",
       "      <th>4</th>\n",
       "      <td>0.0</td>\n",
       "      <td>0.0</td>\n",
       "      <td>0.0</td>\n",
       "      <td>0.0</td>\n",
       "      <td>0.000000</td>\n",
       "      <td>...</td>\n",
       "      <td>0.0</td>\n",
       "      <td>0.0</td>\n",
       "      <td>0.0</td>\n",
       "      <td>0.0</td>\n",
       "      <td>0.0</td>\n",
       "    </tr>\n",
       "  </tbody>\n",
       "</table>\n",
       "<p>5 rows × 358 columns</p>\n",
       "</div>"
      ],
      "text/plain": [
       "   acute  addie  additive  additiveweighting       adm  ...  wafa  wajah  web  \\\n",
       "0    0.0    0.0       0.0                0.0  0.000000  ...   0.0    0.0  0.0   \n",
       "1    0.0    0.0       0.0                0.0  0.300817  ...   0.0    0.0  0.0   \n",
       "2    0.0    0.0       0.0                0.0  0.000000  ...   0.0    0.0  0.0   \n",
       "3    0.0    0.0       0.0                0.0  0.000000  ...   0.0    0.0  0.0   \n",
       "4    0.0    0.0       0.0                0.0  0.000000  ...   0.0    0.0  0.0   \n",
       "\n",
       "   weight  weighting  \n",
       "0     0.0        0.0  \n",
       "1     0.0        0.0  \n",
       "2     0.0        0.0  \n",
       "3     0.0        0.0  \n",
       "4     0.0        0.0  \n",
       "\n",
       "[5 rows x 358 columns]"
      ]
     },
     "execution_count": 17,
     "metadata": {},
     "output_type": "execute_result"
    }
   ],
   "source": [
    "tfidf = pd.DataFrame(\n",
    "    data=vect_text.toarray(),\n",
    "    columns=vect.get_feature_names_out()\n",
    ")\n",
    "tfidf.head()"
   ]
  },
  {
   "cell_type": "markdown",
   "metadata": {},
   "source": [
    "Mencari nilai **idf** dengan mengakses atribut **idf_** pada objek **tfidfVectorizer**. Atribut **idf_** hanya terdefinisi apabila parameter **use_idf** saat instansiasi objekk tfidfVectorizer bernilai **True**. Namun, **use_idf** sudah bernilai **True** secara default, sehingga kita dapat perlu menentukannya secara manual. "
   ]
  },
  {
   "cell_type": "code",
   "execution_count": 18,
   "metadata": {
    "_uuid": "fdf6846bf90d386f8361467a420af9b40b689521",
    "id": "zbF-rC1va7tP"
   },
   "outputs": [],
   "source": [
    "idf = vect.idf_"
   ]
  },
  {
   "cell_type": "code",
   "execution_count": 19,
   "metadata": {
    "_uuid": "b5dc9f0d99d949a36cdb00be41b5ba4a424f093c",
    "id": "a0wQG_tZm53A",
    "outputId": "d8b5ee22-9920-45e4-bd3e-548217842e68"
   },
   "outputs": [],
   "source": [
    "dd= dict(zip(vect.get_feature_names_out(), idf))\n",
    "\n",
    "l = sorted(dd, key = dd.get)"
   ]
  },
  {
   "cell_type": "markdown",
   "metadata": {},
   "source": [
    "Kita dapat melihat kata yang paling sering dan paling jarang muncul pada judul tugas akhir berdasarkan nilai idf. Kata yang memiliki nilai lebih kecil, adalah kata yang paling sering muncul dalam judul"
   ]
  },
  {
   "cell_type": "code",
   "execution_count": 20,
   "metadata": {},
   "outputs": [
    {
     "name": "stdout",
     "output_type": "stream",
     "text": [
      "5 Kata paling sering muncul:\n",
      "1. sistem\t(Nilai idf: 1.709676482511156)\n",
      "2. metode\t(Nilai idf: 1.9753796482441615)\n",
      "3. berbasis\t(Nilai idf: 2.11514159061932)\n",
      "4. studi\t(Nilai idf: 2.220502106277147)\n",
      "5. rancang\t(Nilai idf: 2.3382851419335298)\n"
     ]
    }
   ],
   "source": [
    "print(\"5 Kata paling sering muncul:\")\n",
    "for i, word in enumerate(l[:5]):\n",
    "    print(f\"{i+1}. {word}\\t(Nilai idf: {dd[word]})\")"
   ]
  },
  {
   "cell_type": "code",
   "execution_count": 21,
   "metadata": {},
   "outputs": [
    {
     "name": "stdout",
     "output_type": "stream",
     "text": [
      "5 Kata paling jarang muncul:\n",
      "1. weighting\t(Nilai idf: 4.417726683613366)\n",
      "2. weight\t(Nilai idf: 4.417726683613366)\n",
      "3. wajah\t(Nilai idf: 4.417726683613366)\n",
      "4. wafa\t(Nilai idf: 4.417726683613366)\n"
     ]
    }
   ],
   "source": [
    "print(\"5 Kata paling jarang muncul:\")\n",
    "for i, word in enumerate(l[:-5:-1]):\n",
    "    print(f\"{i+1}. {word}\\t(Nilai idf: {dd[word]})\")"
   ]
  },
  {
   "cell_type": "markdown",
   "metadata": {
    "_uuid": "3b96bb00ba3313b3fcab6735e73c56e89fc74365"
   },
   "source": [
    "## TOPIC MODELLING"
   ]
  },
  {
   "cell_type": "markdown",
   "metadata": {
    "_uuid": "0bad03b7f6b2b69cd4554ec9e7681b430dfe4e10"
   },
   "source": [
    "### Latent Semantic Analysis (LSA)"
   ]
  },
  {
   "cell_type": "markdown",
   "metadata": {},
   "source": [
    "Latent Semantic Analysis (LSA) merupakan sebuah metode yang memanfaatkan model statistik matematis untuk menganalisa struktur semantik suatu teks. LSA bisa digunakan untuk menilai judul tugas akhir dengan mengkonversikan judul tugas akhir menjadi matriks-matriks yang diberi nilai pada masing-masing term untuk dicari kesamaan dengan term. Secara umum, langkah-langkah LSA dalam penilaian judul tugas akhir adalah sebagai berikut:\n",
    "\n",
    "1. Text Processing\n",
    "2. Document-Term Matrix\n",
    "3. Singular Value Decomposition (SVD)\n",
    "4. Cosine Similarity Measurement"
   ]
  },
  {
   "cell_type": "markdown",
   "metadata": {},
   "source": [
    "#### Singular Value Decomposition"
   ]
  },
  {
   "cell_type": "markdown",
   "metadata": {},
   "source": [
    "Singular Value Decomposition (SVD) adalah sebuah teknik untuk mereduksi dimensi yang bermanfaat untuk memperkecil nilai kompleksitas dalam pemrosesan Document-Term Matrix. SVD merupakan teorema aljabar linier yang menyebutkan bahwa persegi panjang dari Document-Term Matrix dapat dipecah/didekomposisikan menjadi tiga matriks, yaitu Matriks ortogonal U, Matriks diagonal S, Transpose dari matriks ortogonal V."
   ]
  },
  {
   "cell_type": "markdown",
   "metadata": {
    "_uuid": "c0d4b13524635aefa5e44f780efeec9b55ca6e58"
   },
   "source": [
    "$$\n",
    "A_{mn} = U_{mm} \\times S_{mn} \\times V^{T}_{nn}\n",
    "$$\n",
    "\n",
    "$ A_{mn} $ : matriks awal\n",
    "\n",
    "$ U_{mm} $ : matriks ortogonal\n",
    "\n",
    "$ S_{mn} $ : matriks diagonal\n",
    "\n",
    "$ V^{T}_{nn} $ : Transpose matriks ortogonal V"
   ]
  },
  {
   "cell_type": "markdown",
   "metadata": {},
   "source": [
    "Setiap baris dari matriks $ U $ (Document-Term Matrix) adalah bentuk vektor dari dokumen. Panjang dari vektor-vektor tersebut adalah jumlah topik. Sedangkan matriks $ V $ (Term-Topic Matrix) berisi kata-kata dari data.\n",
    "\n",
    "SVD akan memberikan vektor untuk setiap dokumen dan kata dalam data. Kita dapat menggunakan vektor-vektor tersebut untuk mencari kata dan dokumen serupa menggunakan metode **Cosine Similarity**.\n",
    "\n",
    "Dalam mengimplementasikan LSA, dapat menggunakan fungsi TruncatedSVD. parameter n_components digunakan untuk menentukan jumlah topik yang akan diekstrak.\n",
    "\n"
   ]
  },
  {
   "cell_type": "code",
   "execution_count": 22,
   "metadata": {
    "_uuid": "ac483df5e69eeb2b4b71af956c6987896eda7eb6",
    "id": "9xuGfFdtqTp5"
   },
   "outputs": [],
   "source": [
    "from sklearn.decomposition import TruncatedSVD\n",
    "lsa_model = TruncatedSVD(n_components=2, algorithm='randomized', n_iter=10, random_state=42)\n",
    "\n",
    "lsa_top=lsa_model.fit_transform(vect_text)\n"
   ]
  },
  {
   "cell_type": "code",
   "execution_count": 23,
   "metadata": {
    "_uuid": "2a259e5f3b8c11118368439eea8de0faa8b7a1c2",
    "id": "d4dvIGIGxtAI",
    "outputId": "58590025-b601-4160-956f-49247c3e064e"
   },
   "outputs": [
    {
     "name": "stdout",
     "output_type": "stream",
     "text": [
      "Document 0 :\n",
      "Topic 0 : 1.3810694835999033\n",
      "Topic 1 : -3.384805564095132\n"
     ]
    }
   ],
   "source": [
    "l=lsa_top[0]\n",
    "print(\"Document 0 :\")\n",
    "for i,topic in enumerate(l):\n",
    "  print(f\"Topic {i} : {topic*100}\")"
   ]
  },
  {
   "cell_type": "code",
   "execution_count": 24,
   "metadata": {
    "_uuid": "61bb8ff8b4b6cf0cd2fcde7890f3a3ebb8980452",
    "id": "AI2kOuwitOGp",
    "outputId": "093e45e0-2141-4504-b0fe-93e7656731a5"
   },
   "outputs": [
    {
     "name": "stdout",
     "output_type": "stream",
     "text": [
      "(2, 358)\n",
      "[[ 2.51819953e-03  2.30536559e-02  4.96783611e-02  1.66791646e-02\n",
      "   1.21478443e-02  1.06691713e-02  1.64312006e-01  4.60945596e-03\n",
      "   1.31382585e-02  2.57108543e-03  1.35197378e-02  1.16864700e-03\n",
      "   1.18886238e-02  3.90123454e-02  1.93272980e-02  1.06691713e-02\n",
      "   5.03942446e-03  9.68413088e-03  1.16187254e-02  1.06691713e-02\n",
      "   1.30638374e-01  3.40690009e-02  4.97201815e-03  1.70472104e-01\n",
      "   3.43759066e-02  1.21478443e-02  3.19848580e-02  4.54722012e-02\n",
      "   1.27042090e-02  4.53201912e-03  9.39182317e-03  6.32334607e-02\n",
      "   6.33490936e-02  2.66229229e-01  9.03513251e-03  1.31382585e-02\n",
      "   2.86381013e-02  1.82686484e-02  2.01923481e-02  1.18886238e-02\n",
      "   2.23859456e-01  2.08227246e-03  1.12586867e-02  1.06691713e-02\n",
      "   7.26258938e-03  7.26258938e-03  1.16864700e-03  1.92162911e-02\n",
      "   1.06691713e-02  2.51819953e-03  7.06590019e-03  1.33387377e-02\n",
      "   1.26908241e-03  1.07120829e-02  1.16864700e-03  7.28563194e-02\n",
      "   3.91336976e-03  1.33387377e-02  3.91336976e-03  1.33387377e-02\n",
      "   4.00740645e-02  1.27042090e-02  1.32799049e-02  1.31224437e-02\n",
      "   2.51819953e-03  1.69721137e-02  1.06697531e-02  1.42824296e-02\n",
      "   2.31881736e-04  5.03942446e-03  2.30939549e-02  2.66918320e-03\n",
      "   5.03942446e-03  3.05124278e-03  4.12065786e-02  7.06590019e-03\n",
      "   7.26258938e-03  3.76097541e-02  1.16516427e-02  1.21478443e-02\n",
      "   3.05627172e-02  2.96836182e-02  1.69721137e-02  1.06691713e-02\n",
      "   4.00740645e-02  3.27104063e-02  2.66918320e-03  1.13046142e-01\n",
      "   4.53201912e-03  4.60945596e-03  2.07776914e-02  1.11494978e-01\n",
      "   9.68413088e-03  2.31881736e-04  2.66918320e-03  1.03281613e-03\n",
      "   1.92162911e-02  2.80469683e-03  7.88783404e-02  2.31881736e-04\n",
      "   2.77838944e-02  1.66226332e-03  4.27976944e-02  4.97201815e-03\n",
      "   1.42824296e-02  1.03281613e-03  7.06590019e-03  2.31881736e-04\n",
      "   8.87719561e-03  2.31881736e-04  3.19848580e-02  1.16187254e-02\n",
      "   1.06691713e-02  1.31382585e-02  1.62540349e-02  3.19848580e-02\n",
      "   1.26908241e-03  2.08227246e-03  1.26908241e-03  2.22864055e-02\n",
      "   2.30536559e-02  1.61188045e-02  7.06590019e-03  4.55055917e-02\n",
      "   4.09275897e-02  2.54418337e-01  1.13046142e-01  9.39182317e-03\n",
      "   1.19781608e-02  7.26258938e-03  1.31382585e-02  1.40008761e-02\n",
      "   1.26908241e-03  1.66791646e-02  6.43312543e-02  4.55055917e-02\n",
      "   3.91336976e-03  1.12586867e-02  1.33387377e-02  1.70876324e-02\n",
      "   5.43634811e-02  2.40701443e-02  1.91557482e-02  1.25202856e-02\n",
      "   8.87719561e-03  3.91336976e-03  9.56016406e-02  9.68413088e-03\n",
      "   1.26908241e-03  1.42824296e-02  3.85989013e-03  5.71711019e-02\n",
      "   1.12834337e-02  1.07120829e-02  1.40008761e-02  1.16864700e-03\n",
      "   1.66791646e-02  1.69721137e-02  4.97201815e-03  1.32799049e-02\n",
      "   2.80469683e-03  1.33387377e-02  1.95770318e-02  9.50544783e-03\n",
      "   1.42824296e-02  2.50326251e-02  5.03942446e-03  2.31881736e-04\n",
      "   2.51819953e-03  2.31881736e-04  5.03942446e-03  9.03513251e-03\n",
      "   1.06097121e-02  9.50544783e-03  2.30536559e-02  1.35197378e-02\n",
      "   2.51819953e-03  1.03281613e-03  1.35197378e-02  2.52896976e-01\n",
      "   4.53201912e-03  2.51819953e-03  6.60753055e-02  1.92162911e-02\n",
      "   1.35197378e-02  5.88201372e-02  1.33387377e-02  7.06590019e-03\n",
      "   1.26908241e-03  2.31881736e-04  9.39182317e-03  2.66918320e-03\n",
      "   4.97201815e-03  8.87719561e-03  5.20664247e-02  1.35197378e-02\n",
      "   1.61078503e-02  3.19848580e-02  4.97201815e-03  1.25202856e-02\n",
      "   1.18886238e-02  4.53201912e-03  1.39129437e-01  4.97201815e-03\n",
      "   6.90407499e-04  1.27042090e-02  1.06691713e-02  2.30536559e-02\n",
      "   5.29727971e-02  2.66918320e-03  2.08227246e-03  4.53201912e-03\n",
      "   2.27361006e-02  1.39463007e-01  1.25202856e-02  8.30854063e-03\n",
      "   4.34997154e-02  1.16864700e-03  9.68413088e-03  2.40701443e-02\n",
      "   3.91336976e-03  3.91336976e-03  4.60945596e-03  9.03513251e-03\n",
      "   1.16187254e-02  1.33387377e-02  7.06590019e-03  7.06590019e-03\n",
      "   4.27394788e-02  1.03281613e-03  1.21478443e-02  1.71202255e-01\n",
      "   1.16187254e-02  2.89879895e-02  4.53201912e-03  1.92162911e-02\n",
      "   3.15317687e-02  3.98572303e-02  2.80469683e-03  3.90123454e-02\n",
      "   6.66334194e-03  9.32366857e-02  4.89774041e-02  1.35197378e-02\n",
      "   1.66226332e-03  1.06697531e-02  1.95770318e-02  9.03513251e-03\n",
      "   3.40690009e-02  1.66950210e-02  2.48847996e-02  1.40008761e-02\n",
      "   2.40701443e-02  3.45093889e-02  4.18749622e-02  9.21891192e-03\n",
      "   6.90407499e-04  4.60945596e-03  6.84370171e-02  1.35197378e-02\n",
      "   1.06691713e-02  2.30939549e-02  1.21478443e-02  3.19135621e-02\n",
      "   1.06697531e-02  4.97201815e-03  3.91336976e-03  1.92162911e-02\n",
      "   1.16864700e-03  1.18886238e-02  2.69555740e-02  1.62474504e-02\n",
      "   1.16989004e-01  1.13046142e-01  4.53201912e-03  8.87719561e-03\n",
      "   2.08227246e-03  2.64049513e-01  4.53201912e-03  2.40701443e-02\n",
      "   1.27490887e-02  7.06590019e-03  1.03281613e-03  1.06691713e-02\n",
      "   9.03513251e-03  3.21875486e-02  9.68413088e-03  2.31881736e-04\n",
      "   7.06590019e-03  1.27042090e-02  2.31881736e-04  1.92994507e-03\n",
      "   2.80469683e-03  7.17558164e-02  1.42824296e-02  9.50544783e-03\n",
      "   1.92994507e-03  3.91336976e-03  6.06777429e-02  2.51819953e-03\n",
      "   1.92162911e-02  6.01652282e-02  2.70313711e-01  2.96764844e-02\n",
      "   7.06590019e-03  4.53201912e-03  3.43759066e-02  4.60945596e-03\n",
      "   4.27394788e-02  4.60945596e-03  1.26908241e-03  4.97201815e-03\n",
      "   2.17420347e-02  1.03281613e-03  7.06590019e-03  1.06697531e-02\n",
      "   1.03281613e-03  2.98583387e-01  1.21478443e-02  7.00376279e-02\n",
      "   2.30536559e-02  1.42824296e-02  3.19135621e-02  2.66918320e-03\n",
      "   3.48558880e-03  4.53201912e-03  1.61511746e-01  1.40008761e-02\n",
      "   2.80469683e-03  3.03883878e-02  1.03281613e-03  1.26908241e-03\n",
      "   3.91842241e-02  3.03883878e-02  1.21478443e-02  4.60945596e-03\n",
      "   5.36496427e-02  8.87719561e-03  1.06691713e-02  1.06697531e-02\n",
      "   4.60945596e-03  2.00418350e-01  1.16864700e-03  2.09097976e-02\n",
      "   2.94586637e-02  6.14884149e-02  1.92994507e-03  2.00418350e-01\n",
      "   9.68413088e-03  1.18886238e-02  9.50544783e-03  1.26908241e-03\n",
      "   4.00740645e-02  1.31382585e-02  5.03942446e-03  1.45560411e-01\n",
      "   4.11789445e-02  1.35197378e-02]\n",
      " [ 1.21519874e-02 -4.44989959e-02  4.82701524e-02  1.05018163e-02\n",
      "   1.62821896e-02  2.72505871e-02 -3.57369841e-05  7.86044542e-03\n",
      "  -5.46405556e-03  6.61218789e-03  3.19981723e-02  7.42038866e-04\n",
      "  -2.31175222e-02  2.77577136e-03 -4.38745095e-02  2.72505871e-02\n",
      "  -8.72615492e-03  3.54097254e-02  4.51354695e-02  2.72505871e-02\n",
      "  -1.63438537e-01 -6.20760933e-03 -4.18986106e-03 -1.41545269e-01\n",
      "  -1.89078497e-02  1.62821896e-02 -5.71329229e-02  8.15181797e-02\n",
      "   1.20617056e-02  4.48573505e-03 -2.51907917e-02 -9.28454919e-02\n",
      "   6.68677013e-02 -2.78722220e-01  3.46882468e-02 -5.46405556e-03\n",
      "   3.30487153e-02  6.60200000e-02  6.65410655e-02 -2.31175222e-02\n",
      "  -1.76863621e-01  9.73570878e-03  5.00926040e-02  2.72505871e-02\n",
      "   1.45206224e-02  1.45206224e-02  7.42038866e-04 -3.68074957e-02\n",
      "   2.72505871e-02  1.21519874e-02  1.62552154e-02  3.74287430e-03\n",
      "   1.45969868e-04  1.72619275e-02  7.42038866e-04 -2.44809670e-02\n",
      "  -6.82579237e-03  3.74287430e-03 -6.82579237e-03  3.74287430e-03\n",
      "   1.64569550e-02  1.20617056e-02  4.14704940e-02  3.83382078e-02\n",
      "   1.21519874e-02 -3.30597747e-02  3.36086177e-02  1.35186367e-02\n",
      "  -4.74792200e-05 -8.72615492e-03  5.24520618e-02  6.10049059e-03\n",
      "  -8.72615492e-03  8.85041460e-03 -2.97306991e-02  1.62552154e-02\n",
      "   1.45206224e-02 -7.42747738e-02 -1.13828452e-02  1.62821896e-02\n",
      "  -2.04875575e-02  1.00171660e-01 -3.30597747e-02  2.72505871e-02\n",
      "   1.64569550e-02  7.46824381e-02  6.10049059e-03  3.36091103e-02\n",
      "   4.48573505e-03  7.86044542e-03  8.64879083e-02 -1.83374943e-02\n",
      "   3.54097254e-02 -4.74792200e-05  6.10049059e-03 -4.23653908e-03\n",
      "  -3.68074957e-02  1.53932394e-03 -1.95700515e-02 -4.74792200e-05\n",
      "   5.83106853e-02  6.53835359e-03 -8.67336078e-02 -4.18986106e-03\n",
      "   1.35186367e-02 -4.23653908e-03  1.62552154e-02 -4.74792200e-05\n",
      "  -2.01938406e-02 -4.74792200e-05 -5.71329229e-02  4.51354695e-02\n",
      "   2.72505871e-02 -5.46405556e-03 -7.51359230e-03 -5.71329229e-02\n",
      "   1.45969868e-04  9.73570878e-03  1.45969868e-04  8.31593093e-02\n",
      "  -4.44989959e-02  2.17644586e-03  1.62552154e-02 -6.84596096e-02\n",
      "   6.84804156e-02 -1.25888609e-02  3.36091103e-02 -2.51907917e-02\n",
      "   4.73865341e-02  1.45206224e-02 -5.46405556e-03  1.26167793e-02\n",
      "   1.45969868e-04  1.05018163e-02  5.31700812e-02 -6.84596096e-02\n",
      "  -6.82579237e-03  5.00926040e-02  3.74287430e-03  1.63519054e-02\n",
      "  -9.61196234e-03 -3.73435658e-02  7.45136477e-02  5.23154498e-02\n",
      "  -2.01938406e-02 -6.82579237e-03  3.13656597e-01  3.54097254e-02\n",
      "   1.45969868e-04  1.35186367e-02  4.16529464e-03  4.29486273e-02\n",
      "  -9.88875946e-04  1.72619275e-02  1.26167793e-02  7.42038866e-04\n",
      "   1.05018163e-02 -3.30597747e-02 -4.18986106e-03  4.14704940e-02\n",
      "   1.53932394e-03  3.74287430e-03  7.90183761e-02  1.45943867e-02\n",
      "   1.35186367e-02  4.99421517e-02 -8.72615492e-03 -4.74792200e-05\n",
      "   1.21519874e-02 -4.74792200e-05 -8.72615492e-03  3.46882468e-02\n",
      "  -1.69423791e-02  1.45943867e-02 -4.44989959e-02  3.19981723e-02\n",
      "   1.21519874e-02 -4.23653908e-03  3.19981723e-02 -4.33419765e-02\n",
      "   4.48573505e-03  1.21519874e-02  2.33871606e-02 -3.68074957e-02\n",
      "   3.19981723e-02 -6.47950563e-02  3.74287430e-03  1.62552154e-02\n",
      "   1.45969868e-04 -4.74792200e-05 -2.51907917e-02  6.10049059e-03\n",
      "  -4.18986106e-03 -2.01938406e-02  1.96439615e-02  3.19981723e-02\n",
      "   4.52872611e-02 -5.71329229e-02 -4.18986106e-03  5.23154498e-02\n",
      "  -2.31175222e-02  4.48573505e-03  2.51955217e-01 -4.18986106e-03\n",
      "   3.64431593e-03  1.20617056e-02  2.72505871e-02 -4.44989959e-02\n",
      "  -1.04673010e-01  6.10049059e-03  9.73570878e-03  4.48573505e-03\n",
      "   4.07590898e-02  2.24941136e-02  5.23154498e-02  2.36054410e-02\n",
      "   1.18888746e-02  7.42038866e-04  3.54097254e-02 -3.73435658e-02\n",
      "  -6.82579237e-03 -6.82579237e-03  7.86044542e-03  3.46882468e-02\n",
      "   4.51354695e-02  3.74287430e-03  1.62552154e-02  1.62552154e-02\n",
      "  -2.84281637e-02 -4.23653908e-03  1.62821896e-02 -7.30495620e-02\n",
      "   4.51354695e-02  7.43531904e-02  4.48573505e-03 -3.68074957e-02\n",
      "  -1.05168364e-02  1.11560661e-01  1.53932394e-03  2.77577136e-03\n",
      "   5.47207068e-03  3.02898571e-01  1.30471307e-01  3.19981723e-02\n",
      "   6.53835359e-03  3.36086177e-02  7.90183761e-02  3.46882468e-02\n",
      "  -6.20760933e-03  1.45421741e-02 -3.29261512e-02  1.26167793e-02\n",
      "  -3.73435658e-02  1.07093493e-01 -1.14831943e-02  1.57208908e-02\n",
      "   3.64431593e-03  7.86044542e-03  5.05515797e-02  3.19981723e-02\n",
      "   2.72505871e-02  5.24520618e-02  1.62821896e-02 -1.31189550e-02\n",
      "   3.36086177e-02 -4.18986106e-03 -6.82579237e-03 -3.68074957e-02\n",
      "   7.42038866e-04 -2.31175222e-02  9.08824808e-02  4.48032771e-02\n",
      "   5.69569111e-02  3.36091103e-02  4.48573505e-03 -2.01938406e-02\n",
      "   9.73570878e-03 -2.84569280e-01  4.48573505e-03 -3.73435658e-02\n",
      "   1.73289216e-02  1.62552154e-02 -4.23653908e-03  2.72505871e-02\n",
      "   3.46882468e-02  4.79728293e-02  3.54097254e-02 -4.74792200e-05\n",
      "   1.62552154e-02  1.20617056e-02 -4.74792200e-05  2.08264732e-03\n",
      "   1.53932394e-03  1.09506797e-01  1.35186367e-02  1.45943867e-02\n",
      "   2.08264732e-03 -6.82579237e-03 -5.97351085e-02  1.21519874e-02\n",
      "  -3.68074957e-02  5.40035326e-02  2.17525570e-01  9.67360168e-02\n",
      "   1.62552154e-02  4.48573505e-03 -1.89078497e-02  7.86044542e-03\n",
      "  -2.84281637e-02  7.86044542e-03  1.45969868e-04 -4.18986106e-03\n",
      "   7.70195644e-02 -4.23653908e-03  1.62552154e-02  3.36086177e-02\n",
      "  -4.23653908e-03  1.05324297e-01  1.62821896e-02 -4.29914481e-02\n",
      "  -4.44989959e-02  1.35186367e-02 -1.31189550e-02  6.10049059e-03\n",
      "   6.21451257e-03  4.48573505e-03  2.34083186e-02  1.26167793e-02\n",
      "   1.53932394e-03 -5.24351682e-02 -4.23653908e-03  1.45969868e-04\n",
      "  -1.02966782e-02 -5.24351682e-02  1.62821896e-02  7.86044542e-03\n",
      "   1.62121384e-01 -2.01938406e-02  2.72505871e-02  3.36086177e-02\n",
      "   7.86044542e-03  4.27524941e-02  7.42038866e-04  3.55591196e-02\n",
      "   1.05338956e-01 -5.33041497e-03  2.08264732e-03  4.27524941e-02\n",
      "   3.54097254e-02 -2.31175222e-02  1.45943867e-02  1.45969868e-04\n",
      "   1.64569550e-02 -5.46405556e-03 -8.72615492e-03 -1.07464064e-01\n",
      "   2.11499927e-02  3.19981723e-02]]\n"
     ]
    }
   ],
   "source": [
    "print(lsa_model.components_.shape) # (no_of_topics*no_of_words)\n",
    "print(lsa_model.components_)"
   ]
  },
  {
   "cell_type": "markdown",
   "metadata": {
    "_uuid": "a289f6e017d0c573d20ed386582df71437fab5cc"
   },
   "source": [
    "Sekarang kita dapat mendapatkan daftar kata yang penting untuk setiap topik. Jumlah kata yang akan ditampilkan hanya 10. Untuk melakukan sorting dapat menggunakan fungsi sorted, lalu slicing dengan menambahkan \\[:10\\] agar data yang diambil hanya 10 data pertama. Slicing dilakukan berdasarkan nilai pada indeks 1 karena nilai dari nilai lsa."
   ]
  },
  {
   "cell_type": "code",
   "execution_count": 25,
   "metadata": {
    "_uuid": "c9860197f6d11e5583629cca322e19a93d4c0350",
    "id": "GMMmSTbQqfdz",
    "outputId": "4a5765e5-ffc9-410f-ce48-1b422d348ee3"
   },
   "outputs": [
    {
     "name": "stdout",
     "output_type": "stream",
     "text": [
      "Topic 0: \n",
      "studi sistem bangun rancang informasi madura berbasis trunojoyo universitas pembelajaran\n",
      "\n",
      "\n",
      "Topic 1: \n",
      "keputusan pendukung metode sistem topsis penentuan pemilihan saw penilaian unggulan\n",
      "\n",
      "\n"
     ]
    }
   ],
   "source": [
    "# most important words for each topic\n",
    "vocab = vect.get_feature_names_out()\n",
    "\n",
    "for i, comp in enumerate(lsa_model.components_):\n",
    "    vocab_comp = zip(vocab, comp)\n",
    "\n",
    "    sorted_words = sorted(vocab_comp, key= lambda x:x[1], reverse=True)[:10]\n",
    "    print(f\"Topic {i}: \")\n",
    "    print(\" \".join([ item[0] for item in sorted_words ]))\n",
    "    \n",
    "    print(\"\\n\")\n",
    "         "
   ]
  },
  {
   "cell_type": "markdown",
   "metadata": {
    "_uuid": "2898911f7af52671923cf6bbc8cab6bc7871aa59",
    "id": "gmMeb4METhm2"
   },
   "source": [
    "## Latent Dirichlet Allocation (LDA)  "
   ]
  },
  {
   "cell_type": "markdown",
   "metadata": {
    "_uuid": "dd861ec68f8272be78421f8bd76b98793009e836"
   },
   "source": [
    "LDA is the most popular technique.**The topics then generate words based on their probability distribution. Given a dataset of documents, LDA backtracks and tries to figure out what topics would create those documents in the first place.**\n",
    "\n",
    "**To understand the maths it seems as if knowledge of Dirichlet distribution (distribution of distributions) is required which is quite intricate and left fior now.**\n",
    "\n",
    "To get an inituitive explanation of LDA checkout these blogs: [this](https://www.analyticsvidhya.com/blog/2016/08/beginners-guide-to-topic-modeling-in-python/)  ,  [this](https://tedunderwood.com/2012/04/07/topic-modeling-made-just-simple-enough/)  ,[this](https://en.wikipedia.org/wiki/Topic_model)  ,  [this kernel on Kaggle](https://www.kaggle.com/arthurtok/spooky-nlp-and-topic-modelling-tutorial)  ,  [this](http://blog.echen.me/2011/08/22/introduction-to-latent-dirichlet-allocation/) ."
   ]
  },
  {
   "cell_type": "code",
   "execution_count": 26,
   "metadata": {
    "_uuid": "b21a29802cac8f469c65df49ba0ef04f592f3202",
    "id": "yPJFHVxxTiwh"
   },
   "outputs": [],
   "source": [
    "from sklearn.decomposition import LatentDirichletAllocation\n",
    "lda_model=LatentDirichletAllocation(n_components=10,learning_method='online',random_state=42,max_iter=1) \n",
    "# n_components is the number of topics"
   ]
  },
  {
   "cell_type": "code",
   "execution_count": 27,
   "metadata": {
    "_uuid": "8c0169b02a356e8cf8583218437d23f549c1e3da",
    "id": "aeUPTUUIazvB"
   },
   "outputs": [],
   "source": [
    "lda_top=lda_model.fit_transform(vect_text)"
   ]
  },
  {
   "cell_type": "code",
   "execution_count": 28,
   "metadata": {
    "_uuid": "77425315af5c000fa30caefd6dcebb70c2970cfa",
    "id": "h8LzsFixdkBt",
    "outputId": "4ffc31da-a283-4cc6-a7e8-67c7ca8e5224"
   },
   "outputs": [
    {
     "name": "stdout",
     "output_type": "stream",
     "text": [
      "(60, 10)\n",
      "[[0.02506765 0.02506803 0.77438611 0.02506773 0.02506771 0.02506748\n",
      "  0.02507135 0.02506834 0.02506822 0.02506738]\n",
      " [0.02134074 0.02134068 0.02134062 0.02134067 0.02133982 0.02133965\n",
      "  0.80793778 0.02134052 0.02133957 0.02133995]\n",
      " [0.02681373 0.02681369 0.02681391 0.02681653 0.02681303 0.02681357\n",
      "  0.0268133  0.02681397 0.75867473 0.02681353]\n",
      " [0.77888198 0.02456856 0.02456895 0.02456918 0.02456834 0.02456863\n",
      "  0.02456919 0.02456832 0.02456855 0.0245683 ]\n",
      " [0.01949305 0.01949272 0.8245607  0.0194928  0.01949312 0.01949288\n",
      "  0.01949258 0.01949286 0.01949309 0.0194962 ]\n",
      " [0.02582201 0.02582132 0.02582149 0.76760598 0.02582093 0.02582126\n",
      "  0.02582207 0.02582171 0.02582241 0.02582083]\n",
      " [0.01839331 0.01839307 0.01839328 0.01839358 0.01839291 0.0183931\n",
      "  0.01839291 0.83446178 0.01839291 0.01839315]\n",
      " [0.01890884 0.01890886 0.01890871 0.01890874 0.01890918 0.01890886\n",
      "  0.0189086  0.01890871 0.01890882 0.82982068]\n",
      " [0.02247881 0.02247908 0.02247974 0.02247907 0.02247935 0.02247884\n",
      "  0.79768757 0.02247907 0.02247896 0.0224795 ]\n",
      " [0.02433907 0.02433916 0.02433917 0.02433907 0.02433903 0.02433927\n",
      "  0.78094634 0.0243408  0.0243386  0.0243395 ]\n",
      " [0.02344477 0.78899734 0.02344476 0.02344494 0.02344479 0.02344449\n",
      "  0.02344484 0.02344526 0.02344474 0.02344406]\n",
      " [0.02374866 0.02374773 0.02374764 0.02374779 0.0237473  0.78626973\n",
      "  0.02374807 0.02374791 0.02374735 0.02374782]\n",
      " [0.02551072 0.02551022 0.0255109  0.02551624 0.02551122 0.02551041\n",
      "  0.7703975  0.02551103 0.02551108 0.02551068]\n",
      " [0.02538575 0.02538635 0.02538551 0.02538688 0.02538572 0.02538691\n",
      "  0.02538537 0.02538677 0.77152507 0.02538566]\n",
      " [0.77706375 0.02477092 0.02477071 0.02476971 0.0247703  0.02477099\n",
      "  0.02477041 0.02477055 0.0247727  0.02476996]\n",
      " [0.79815445 0.02242715 0.02242701 0.02242742 0.02242703 0.02242727\n",
      "  0.02242739 0.02242797 0.02242726 0.02242703]\n",
      " [0.03099817 0.72100964 0.03099826 0.03099943 0.03099834 0.03099838\n",
      "  0.03099848 0.03100016 0.03099849 0.03100066]\n",
      " [0.02319577 0.02319628 0.02319616 0.02319616 0.02319584 0.79123387\n",
      "  0.02319638 0.02319631 0.02319578 0.02319744]\n",
      " [0.82831748 0.01907576 0.01907591 0.0190761  0.01907569 0.01907582\n",
      "  0.01907605 0.01907566 0.01907576 0.01907576]\n",
      " [0.02271108 0.7955984  0.02271122 0.02271158 0.02271135 0.02271129\n",
      "  0.02271142 0.02271167 0.02271066 0.02271133]\n",
      " [0.0268881  0.02688879 0.02688866 0.75800111 0.02688886 0.0268892\n",
      "  0.02688857 0.02688887 0.02688935 0.02688849]\n",
      " [0.02652654 0.0265259  0.02652588 0.02652622 0.02652648 0.02652636\n",
      "  0.02653033 0.02652611 0.02652581 0.76126036]\n",
      " [0.02103149 0.0210312  0.81072282 0.021031   0.02103048 0.02103122\n",
      "  0.02103048 0.02103052 0.02103051 0.02103028]\n",
      " [0.02676862 0.02676871 0.02676903 0.02676937 0.02676853 0.02676887\n",
      "  0.75907824 0.02677022 0.02676945 0.02676896]\n",
      " [0.79537288 0.02273595 0.02273614 0.02273649 0.02273613 0.02273597\n",
      "  0.02273628 0.02273787 0.02273635 0.02273595]\n",
      " [0.02510831 0.02510922 0.02510851 0.02510844 0.77402391 0.0251087\n",
      "  0.02510782 0.02510827 0.02510848 0.02510834]\n",
      " [0.02358049 0.02358166 0.02358101 0.02358125 0.0235809  0.02358062\n",
      "  0.02358091 0.78777154 0.02358143 0.0235802 ]\n",
      " [0.02382384 0.02382306 0.02382246 0.02382307 0.02382227 0.02382278\n",
      "  0.02382296 0.02382272 0.78559476 0.02382208]\n",
      " [0.81067811 0.02103586 0.02103519 0.02103557 0.02103548 0.02103575\n",
      "  0.02103566 0.02103639 0.02103591 0.02103606]\n",
      " [0.01900789 0.82893316 0.01900685 0.01900771 0.01900728 0.01900742\n",
      "  0.01900774 0.01900687 0.0190079  0.01900718]\n",
      " [0.02482301 0.02482272 0.02482247 0.02482323 0.02482221 0.7765963\n",
      "  0.02482227 0.02482275 0.02482309 0.02482193]\n",
      " [0.78000387 0.02444416 0.02444416 0.0244433  0.02444423 0.02444394\n",
      "  0.02444357 0.02444396 0.02444424 0.02444457]\n",
      " [0.79944771 0.02228415 0.02228554 0.02228337 0.02228358 0.02228334\n",
      "  0.02228338 0.02228276 0.02228311 0.02228307]\n",
      " [0.02490871 0.02490895 0.02490875 0.02490826 0.02490872 0.02490799\n",
      "  0.02490699 0.02490757 0.77582614 0.02490792]\n",
      " [0.01950182 0.82449296 0.01950055 0.01950095 0.01950055 0.01950028\n",
      "  0.01950109 0.01950027 0.01950118 0.01950034]\n",
      " [0.02801668 0.02801682 0.74784618 0.02801813 0.02801674 0.02801621\n",
      "  0.02801704 0.02801832 0.02801672 0.02801717]\n",
      " [0.02699298 0.75707566 0.02699112 0.02699174 0.02699121 0.02699074\n",
      "  0.02699144 0.02699122 0.02699217 0.02699172]\n",
      " [0.02319273 0.02319276 0.02319261 0.79126564 0.02319273 0.02319305\n",
      "  0.02319254 0.02319252 0.02319316 0.02319225]\n",
      " [0.02145187 0.02145169 0.02145141 0.02145206 0.02145234 0.0214516\n",
      "  0.8069332  0.02145162 0.02145292 0.02145128]\n",
      " [0.02303254 0.02303254 0.02303205 0.02303228 0.02303243 0.02303234\n",
      "  0.79270837 0.02303215 0.02303379 0.0230315 ]\n",
      " [0.77664924 0.02481734 0.02481757 0.02481651 0.02481564 0.02481714\n",
      "  0.02481709 0.02481652 0.0248165  0.02481646]\n",
      " [0.02161115 0.02161179 0.02161129 0.02161183 0.02161153 0.02161141\n",
      "  0.0216109  0.80549773 0.02161133 0.02161105]\n",
      " [0.02320692 0.7911438  0.02320636 0.02320584 0.02320614 0.0232063\n",
      "  0.0232056  0.02320592 0.02320629 0.02320684]\n",
      " [0.79376635 0.02291483 0.02291479 0.02291474 0.02291535 0.02291505\n",
      "  0.02291518 0.02291433 0.02291497 0.02291442]\n",
      " [0.02873013 0.02873046 0.02873133 0.02873121 0.02873041 0.74141852\n",
      "  0.02873247 0.02873551 0.02873053 0.02872944]\n",
      " [0.02462116 0.02462132 0.02462131 0.02462185 0.024621   0.02462182\n",
      "  0.02462156 0.7784063  0.02462199 0.02462171]\n",
      " [0.01835378 0.01835357 0.01835358 0.01835359 0.0183535  0.01835419\n",
      "  0.01835355 0.01835355 0.01835385 0.83481684]\n",
      " [0.02285567 0.02285522 0.02285463 0.79430764 0.02285396 0.0228547\n",
      "  0.02285478 0.02285436 0.02285486 0.0228542 ]\n",
      " [0.02845436 0.74393464 0.02845081 0.0284522  0.02845107 0.02845146\n",
      "  0.02845202 0.0284513  0.02845144 0.02845069]\n",
      " [0.02470428 0.02470413 0.02470376 0.77766665 0.02470311 0.02470347\n",
      "  0.02470348 0.02470325 0.0247035  0.02470438]\n",
      " [0.02369186 0.02369118 0.0236917  0.02369442 0.02369107 0.02369185\n",
      "  0.02369187 0.78677269 0.02369198 0.02369138]\n",
      " [0.02680162 0.02680129 0.75878798 0.02680126 0.02680176 0.02680207\n",
      "  0.02680154 0.02680018 0.02680087 0.02680142]\n",
      " [0.01986478 0.82122063 0.0198641  0.01986527 0.01986416 0.01986412\n",
      "  0.0198647  0.01986383 0.01986476 0.01986365]\n",
      " [0.02376778 0.0237673  0.02376753 0.02376829 0.0237669  0.78609169\n",
      "  0.02376742 0.02376756 0.02376774 0.02376778]\n",
      " [0.02939516 0.02939532 0.02939536 0.02939787 0.02939463 0.02939588\n",
      "  0.02939562 0.02939526 0.73544005 0.02939486]\n",
      " [0.02436606 0.02436561 0.02436577 0.02436586 0.02436588 0.02436616\n",
      "  0.02436616 0.02436622 0.02436875 0.78070354]\n",
      " [0.02320206 0.02320164 0.02320146 0.02320059 0.02320166 0.79118756\n",
      "  0.02320142 0.02320103 0.02320113 0.02320146]\n",
      " [0.02448543 0.02448599 0.02448546 0.02448584 0.02448474 0.77962934\n",
      "  0.02448562 0.02448554 0.02448607 0.02448597]\n",
      " [0.02127835 0.02127836 0.02127837 0.02127818 0.02127812 0.80849606\n",
      "  0.021278   0.0212779  0.02127856 0.02127811]\n",
      " [0.02475909 0.0247588  0.02475937 0.77716557 0.02475912 0.02475933\n",
      "  0.02476021 0.02475952 0.02475942 0.02475956]]\n"
     ]
    }
   ],
   "source": [
    "print(lda_top.shape)  # (no_of_doc,no_of_topics)\n",
    "print(lda_top)\n"
   ]
  },
  {
   "cell_type": "code",
   "execution_count": 29,
   "metadata": {
    "_uuid": "2fc450b8316e62d050eb702b65eddbb1e898248f",
    "id": "YNgP0S0eeVuO",
    "outputId": "a84c1854-e3f2-454f-ed91-f4776841652a"
   },
   "outputs": [
    {
     "name": "stdout",
     "output_type": "stream",
     "text": [
      "1.0\n"
     ]
    }
   ],
   "source": [
    "sum=0\n",
    "for i in lda_top[0]:\n",
    "  sum=sum+i\n",
    "print(sum)  "
   ]
  },
  {
   "cell_type": "markdown",
   "metadata": {
    "_uuid": "0f6d8a55e8a513a9af61ae480eae5a0e2135f182"
   },
   "source": [
    "#### Note that the values in a particular row adds to 1. This is beacuse each value denotes the % of contribution of the corressponding topic in the document."
   ]
  },
  {
   "cell_type": "markdown",
   "metadata": {},
   "source": [
    "$$\n",
    "w_{i,j} = tf_{i,j} * log( {{N} \\over {df_{j}}} )\n",
    "$$"
   ]
  },
  {
   "cell_type": "code",
   "execution_count": 30,
   "metadata": {
    "_uuid": "d896b8fcf2c398367de4e7b7142e144fb4944f2d",
    "id": "Z6WmZLp3ehbY",
    "outputId": "002dfe31-7d3f-4186-8930-a12e175d6be3"
   },
   "outputs": [
    {
     "name": "stdout",
     "output_type": "stream",
     "text": [
      "Document 0: \n",
      "Topic  0 :  2.506764556058844 %\n",
      "Topic  1 :  2.5068028792686063 %\n",
      "Topic  2 :  77.43861073961409 %\n",
      "Topic  3 :  2.506773071935773 %\n",
      "Topic  4 :  2.5067713200426867 %\n",
      "Topic  5 :  2.506748361582034 %\n",
      "Topic  6 :  2.5071348263653093 %\n",
      "Topic  7 :  2.506833690079206 %\n",
      "Topic  8 :  2.5068221393030763 %\n",
      "Topic  9 :  2.506738415750372 %\n"
     ]
    }
   ],
   "source": [
    "# composition of doc 0 for eg\n",
    "print(\"Document 0: \")\n",
    "for i,topic in enumerate(lda_top[0]):\n",
    "  print(\"Topic \",i,\": \",topic*100,\"%\")"
   ]
  },
  {
   "cell_type": "markdown",
   "metadata": {
    "_uuid": "d24927b415ef64338a4b99e81c9cafd5225dfae5",
    "id": "NVgtw_L_g8N2"
   },
   "source": [
    "#### As we can see Topic 7 & 8 are dominantly present in document 0.\n",
    "\n",
    " "
   ]
  },
  {
   "cell_type": "code",
   "execution_count": 31,
   "metadata": {
    "_uuid": "3ee132a423ca0bfe3107fa3dd2652d6c33d5bc4d",
    "id": "6OFxmyReiZIU",
    "outputId": "9dc5bcef-32cb-482d-c62c-e6644f12cc6e"
   },
   "outputs": [
    {
     "name": "stdout",
     "output_type": "stream",
     "text": [
      "[[0.87031142 0.81813045 0.86144455 ... 0.95695632 0.90840999 0.74130744]\n",
      " [0.83822111 0.88967725 0.76679865 ... 0.81956378 0.83207606 0.76837742]\n",
      " [0.84843771 0.70941722 0.67795293 ... 0.76561665 0.73315086 0.78214288]\n",
      " ...\n",
      " [0.93665678 0.85297703 0.70973716 ... 1.01461444 0.73729604 0.81159876]\n",
      " [0.87981319 0.70945532 0.83266282 ... 0.88009208 0.83405424 0.78125423]\n",
      " [0.91097044 0.85381081 0.88053356 ... 0.82011364 0.81769613 0.86457689]]\n",
      "(10, 358)\n"
     ]
    }
   ],
   "source": [
    "print(lda_model.components_)\n",
    "print(lda_model.components_.shape)  # (no_of_topics*no_of_words)"
   ]
  },
  {
   "cell_type": "markdown",
   "metadata": {
    "_uuid": "8bf169b07cefbe2cd8e36bc1e2bd65ca7c398374",
    "id": "NoEr9qt1jgsM"
   },
   "source": [
    "#### Most important words for a topic. (say 10 this time.)"
   ]
  },
  {
   "cell_type": "code",
   "execution_count": 32,
   "metadata": {
    "_uuid": "5c13c5563657ac5103a33615272320065542fb40",
    "id": "hKJHM0C-l0an",
    "outputId": "09fc0532-8444-42aa-85fa-a986ed72ee04"
   },
   "outputs": [
    {
     "name": "stdout",
     "output_type": "stream",
     "text": [
      "Topic 0: \n",
      "intelligent kabupaten industri trunojoyo pemilihan olahraga electre pendukung klasifikasi keputusan \n",
      "\n",
      "Topic 1: \n",
      "klasifikasi proses evaluasi arsip microsoft run android penilaian anggaran level \n",
      "\n",
      "Topic 2: \n",
      "pekerja finite rancang ii kejuruan arsitektur mining rule sawah ebusiness \n",
      "\n",
      "Topic 3: \n",
      "unggulan android aplikasi ltsa kamus smp informatika technique rancang sistem \n",
      "\n",
      "Topic 4: \n",
      "metho arsip rute akademik alphabet gps gizi linear phonics pemetaan \n",
      "\n",
      "Topic 5: \n",
      "service citra dosen pengolahan darah modified regresi leukemia simple pemerataan \n",
      "\n",
      "Topic 6: \n",
      "fakultas game correlation pemanfaatan pengambilan teknik madura pendataan knearest stkip \n",
      "\n",
      "Topic 7: \n",
      "kompetensi stkip penerima menengah translation edukasi tracking speech ahp time \n",
      "\n",
      "Topic 8: \n",
      "trunojoyo pembelajaran euclidean pertanian rancang aksesoris chain mobile tes gerak \n",
      "\n",
      "Topic 9: \n",
      "linear man coefficient media slamet metode pemerataan tulisan putih mdf \n",
      "\n"
     ]
    }
   ],
   "source": [
    "# most important words for each topic\n",
    "vocab = vect.get_feature_names_out()\n",
    "\n",
    "for i, comp in enumerate(lda_model.components_):\n",
    "    vocab_comp = zip(vocab, comp)\n",
    "    sorted_words = sorted(vocab_comp, key= lambda x:x[1], reverse=True)[:10]\n",
    "    print(\"Topic \"+str(i)+\": \")\n",
    "    for t in sorted_words:\n",
    "        print(t[0],end=\" \")\n",
    "    print(\"\\n\")"
   ]
  },
  {
   "cell_type": "code",
   "execution_count": null,
   "metadata": {
    "_uuid": "a094d2d6e95dc236b2bd3d70c69d1b3767cb4cea"
   },
   "outputs": [],
   "source": []
  },
  {
   "cell_type": "markdown",
   "metadata": {
    "_uuid": "854f0eb88cf78923db8137a2f41581eb9bbd5592"
   },
   "source": [
    "#### To better visualize words in a topic we can see the word cloud. For each topic top 50 words are plotted."
   ]
  },
  {
   "cell_type": "code",
   "execution_count": 33,
   "metadata": {
    "_uuid": "5221ae4de021107ef757b87d45053460e50582c8",
    "id": "_ac73PUhmZmn"
   },
   "outputs": [],
   "source": [
    "from wordcloud import WordCloud\n",
    "# Generate a word cloud image for given topic\n",
    "def draw_word_cloud(index):\n",
    "  imp_words_topic=\"\"\n",
    "  comp=lda_model.components_[index]\n",
    "  vocab_comp = zip(vocab, comp)\n",
    "  sorted_words = sorted(vocab_comp, key= lambda x:x[1], reverse=True)[:50]\n",
    "  for word in sorted_words:\n",
    "    imp_words_topic=imp_words_topic+\" \"+word[0]\n",
    "\n",
    "  wordcloud = WordCloud(width=600, height=400).generate(imp_words_topic)\n",
    "  plt.figure( figsize=(5,5))\n",
    "  plt.imshow(wordcloud)\n",
    "  plt.axis(\"off\")\n",
    "  plt.tight_layout()\n",
    "  plt.show()\n",
    " "
   ]
  },
  {
   "cell_type": "code",
   "execution_count": 34,
   "metadata": {
    "_uuid": "e5246db8bb1b751a1f3b96bb65d4da9e34dfc2ba",
    "id": "-tD4nZdRqnAk",
    "outputId": "8257c45d-92b5-4472-da45-864aaf803915"
   },
   "outputs": [
    {
     "data": {
      "image/png": "[encoded data removed]",
      "text/plain": [
       "<Figure size 360x360 with 1 Axes>"
      ]
     },
     "metadata": {
      "filenames": {
       "image/png": "C:\\Users\\Egi Putra Ragil\\Desktop\\topic-modelling-sklearn\\_build\\jupyter_execute\\topic-modelling-using-lda-and-lsa-in-sklearn_65_0.png"
      }
     },
     "output_type": "display_data"
    }
   ],
   "source": [
    "# topic 0\n",
    "draw_word_cloud(0)\n"
   ]
  },
  {
   "cell_type": "code",
   "execution_count": 35,
   "metadata": {
    "_uuid": "74872c17b12680171090690f62ce77019e03ef52",
    "id": "Jz_zGbSws1ns",
    "outputId": "5289432c-61fb-48ec-df58-d28d383ea08d"
   },
   "outputs": [
    {
     "data": {
      "image/png": "[encoded data removed]",
      "text/plain": [
       "<Figure size 360x360 with 1 Axes>"
      ]
     },
     "metadata": {
      "filenames": {
       "image/png": "C:\\Users\\Egi Putra Ragil\\Desktop\\topic-modelling-sklearn\\_build\\jupyter_execute\\topic-modelling-using-lda-and-lsa-in-sklearn_66_0.png"
      }
     },
     "output_type": "display_data"
    }
   ],
   "source": [
    "# topic 1\n",
    "draw_word_cloud(1)  # ..."
   ]
  }
 ],
 "metadata": {
  "kernelspec": {
   "display_name": "Python 3 (ipykernel)",
   "language": "python",
   "name": "python3"
  },
  "language_info": {
   "codemirror_mode": {
    "name": "ipython",
    "version": 3
   },
   "file_extension": ".py",
   "mimetype": "text/x-python",
   "name": "python",
   "nbconvert_exporter": "python",
   "pygments_lexer": "ipython3",
   "version": "3.10.5"
  }
 },
 "nbformat": 4,
 "nbformat_minor": 4
}